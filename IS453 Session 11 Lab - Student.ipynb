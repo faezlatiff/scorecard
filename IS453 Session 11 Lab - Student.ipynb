{
 "cells": [
  {
   "cell_type": "markdown",
   "metadata": {
    "nteract": {
     "transient": {
      "deleting": false
     }
    }
   },
   "source": [
    "## IS453 Financial Analytics\n",
    "## Week 11 - Credit Scoring Lab Data\n",
    "\n",
    "### Credit risk scorecard construction with scorecardpy"
   ]
  },
  {
   "cell_type": "markdown",
   "metadata": {
    "nteract": {
     "transient": {
      "deleting": false
     }
    }
   },
   "source": [
    "## HMEQ Dataset\n",
    "\n",
    "The data set HMEQ reports characteristics and delinquency information for 5,960 home equity loans. A home equity loan is a loan where the obligor uses the equity of his or her home as the underlying collateral. \n",
    "The data is originally taken from the Credit Risk Analytics: Measurement Techniques, Applications, and Examples in SAS book website - https://www.bartbaesens.com/book/6/credit-risk-analytics.\n",
    "A cleaner version of the data is on Kaggle - https://www.kaggle.com/akhil14shukla/loan-defaulter-prediction/data\n",
    "\n",
    "\n",
    "**Variables definition**\n",
    "\n",
    "1. BAD: Binary response variable\n",
    "    - 1 = applicant defaulted on loan or seriously delinquent; \n",
    "    - 0 = applicant paid loan or customer is current on loan payments. This is the class column.\n",
    "2. LOAN: Requested loan amount\n",
    "3. MORTDUE: Amount due on existing mortgage\n",
    "4. VALUE: Value of current property\n",
    "5. REASON: \n",
    "    - DebtCon = debt consolidation(customer uses home equity loan to pay back high interest loans)\n",
    "    - HomeImp = home improvement\n",
    "6. JOB: Occupational categories\n",
    "    - ProfExe\n",
    "    - Mgr\n",
    "    - Office\n",
    "    - Self\n",
    "    - Sales\n",
    "    - Other\n",
    "7. YOJ: Years at present job\n",
    "8. DEROG: Number of major derogatory reports(issued for loans taken in the past when customer fails to keep up the contract or payback on time).\n",
    "9. DELINQ: Number of delinquent credit lines\n",
    "10. CLAGE: Age of oldest credit line in months\n",
    "11. NINQ: Number of recent credit inquiries\n",
    "12. CLNO: Number of credit lines\n",
    "13. DEBTINC: Debt-to-income ratio in percent"
   ]
  },
  {
   "cell_type": "markdown",
   "metadata": {
    "nteract": {
     "transient": {
      "deleting": false
     }
    }
   },
   "source": [
    "**Install scorecardpy**\n",
    "This is a python version of R package scorecard. The API link has more info :\n",
    "\n",
    "https://pypi.org/project/scorecardpy/\n",
    "\n",
    "https://github.com/shichenxie/scorecardpy/\n",
    "\n",
    "https://cran.r-project.org/web/packages/scorecard/scorecard.pdf"
   ]
  },
  {
   "cell_type": "code",
   "execution_count": null,
   "metadata": {
    "collapsed": true,
    "execution": {
     "iopub.execute_input": "2023-10-24T09:06:26.678Z",
     "iopub.status.busy": "2023-10-24T09:06:26.644Z",
     "iopub.status.idle": "2023-10-24T09:06:39.779Z",
     "shell.execute_reply": "2023-10-24T09:06:39.807Z"
    },
    "jupyter": {
     "outputs_hidden": false,
     "source_hidden": false
    },
    "nteract": {
     "transient": {
      "deleting": false
     }
    }
   },
   "outputs": [],
   "source": [
    "# make sure you are running Python 3.9 or later\n",
    "\n",
    "# depending on your environment, either pip install or conda install the following packages\n",
    "# !pip install pandas==2.1.1\n",
    "# !pip install scorecardpy==0.1.9.7\n",
    "\n",
    "# after downloading, restart your kernel"
   ]
  },
  {
   "cell_type": "code",
   "execution_count": 5,
   "metadata": {
    "execution": {
     "iopub.execute_input": "2023-10-24T09:06:44.741Z",
     "iopub.status.busy": "2023-10-24T09:06:44.694Z",
     "iopub.status.idle": "2023-04-01T08:02:25.678Z",
     "shell.execute_reply": "2023-04-01T08:02:25.686Z"
    },
    "jupyter": {
     "outputs_hidden": false,
     "source_hidden": false
    },
    "nteract": {
     "transient": {
      "deleting": false
     }
    }
   },
   "outputs": [],
   "source": [
    "# ignore scorecardpy compatability warnings\n",
    "import warnings\n",
    "\n",
    "import pandas as pd, numpy as np\n",
    "from sklearn.linear_model import LogisticRegression\n",
    "import matplotlib.pyplot as plt\n",
    "from sklearn import linear_model, metrics\n",
    "import scorecardpy as sc\n",
    "import pprint"
   ]
  },
  {
   "cell_type": "markdown",
   "metadata": {},
   "source": [
    "**Read in the original hmeq_data.csv file**\n",
    "\n",
    "It will have missing values, but that is alright."
   ]
  },
  {
   "cell_type": "code",
   "execution_count": 6,
   "metadata": {
    "execution": {
     "iopub.execute_input": "2023-04-01T08:02:26.354Z",
     "iopub.status.busy": "2023-04-01T08:02:26.334Z",
     "iopub.status.idle": "2023-04-01T08:02:26.453Z",
     "shell.execute_reply": "2023-04-01T08:02:26.489Z"
    },
    "jupyter": {
     "outputs_hidden": false,
     "source_hidden": false
    },
    "nteract": {
     "transient": {
      "deleting": false
     }
    }
   },
   "outputs": [
    {
     "data": {
      "text/plain": [
       "BAD           0\n",
       "LOAN          0\n",
       "MORTDUE     518\n",
       "VALUE       112\n",
       "REASON      252\n",
       "JOB         279\n",
       "YOJ         515\n",
       "DEROG       708\n",
       "DELINQ      580\n",
       "CLAGE       308\n",
       "NINQ        510\n",
       "CLNO        222\n",
       "DEBTINC    1267\n",
       "dtype: int64"
      ]
     },
     "execution_count": 6,
     "metadata": {},
     "output_type": "execute_result"
    }
   ],
   "source": [
    "# sample code\n",
    "hmeq_data = pd.read_csv('hmeq_data.csv')\n",
    "\n",
    "# use a copy of hmeq_data for credit risk model\n",
    "hmeq_data_forsc = hmeq_data.copy()\n",
    "\n",
    "# check for missing values\n",
    "hmeq_data_forsc.isnull().sum()"
   ]
  },
  {
   "cell_type": "markdown",
   "metadata": {
    "nteract": {
     "transient": {
      "deleting": false
     }
    }
   },
   "source": [
    "Drop MORTDUE, is highly correlated with VALUE\n"
   ]
  },
  {
   "cell_type": "code",
   "execution_count": 7,
   "metadata": {
    "execution": {
     "iopub.execute_input": "2023-04-01T08:02:33.853Z",
     "iopub.status.busy": "2023-04-01T08:02:33.844Z",
     "iopub.status.idle": "2023-04-01T08:02:33.870Z",
     "shell.execute_reply": "2023-04-01T08:02:33.881Z"
    },
    "jupyter": {
     "outputs_hidden": false,
     "source_hidden": false
    },
    "nteract": {
     "transient": {
      "deleting": false
     }
    }
   },
   "outputs": [
    {
     "name": "stdout",
     "output_type": "stream",
     "text": [
      "<class 'pandas.core.frame.DataFrame'>\n",
      "RangeIndex: 5960 entries, 0 to 5959\n",
      "Data columns (total 12 columns):\n",
      " #   Column   Non-Null Count  Dtype  \n",
      "---  ------   --------------  -----  \n",
      " 0   BAD      5960 non-null   int64  \n",
      " 1   LOAN     5960 non-null   int64  \n",
      " 2   VALUE    5848 non-null   float64\n",
      " 3   REASON   5708 non-null   object \n",
      " 4   JOB      5681 non-null   object \n",
      " 5   YOJ      5445 non-null   float64\n",
      " 6   DEROG    5252 non-null   float64\n",
      " 7   DELINQ   5380 non-null   float64\n",
      " 8   CLAGE    5652 non-null   float64\n",
      " 9   NINQ     5450 non-null   float64\n",
      " 10  CLNO     5738 non-null   float64\n",
      " 11  DEBTINC  4693 non-null   float64\n",
      "dtypes: float64(8), int64(2), object(2)\n",
      "memory usage: 558.9+ KB\n"
     ]
    }
   ],
   "source": [
    "# sample code\n",
    "\n",
    "hmeq_data_forsc.drop(columns='MORTDUE', inplace=True)\n",
    "hmeq_data_forsc.info()"
   ]
  },
  {
   "cell_type": "markdown",
   "metadata": {},
   "source": [
    "**Do train-test split**\n",
    "\n",
    "`sc.split_df` returns a dictionary of train and test dataset. It uses a fixed random seed."
   ]
  },
  {
   "cell_type": "code",
   "execution_count": 8,
   "metadata": {},
   "outputs": [
    {
     "name": "stdout",
     "output_type": "stream",
     "text": [
      "   BAD  LOAN     VALUE   REASON     JOB   YOJ  DEROG  DELINQ       CLAGE  \\\n",
      "0    1  1100   39025.0  HomeImp   Other  10.5    0.0     0.0   94.366667   \n",
      "1    1  1300   68400.0  HomeImp   Other   7.0    0.0     2.0  121.833333   \n",
      "3    1  1500       NaN      NaN     NaN   NaN    NaN     NaN         NaN   \n",
      "4    0  1700  112000.0  HomeImp  Office   3.0    0.0     0.0   93.333333   \n",
      "5    1  1700   40320.0  HomeImp   Other   9.0    0.0     0.0  101.466002   \n",
      "\n",
      "   NINQ  CLNO    DEBTINC  \n",
      "0   1.0   9.0        NaN  \n",
      "1   0.0  14.0        NaN  \n",
      "3   NaN   NaN        NaN  \n",
      "4   0.0  14.0        NaN  \n",
      "5   1.0   8.0  37.113614  \n",
      "(1788, 12)\n"
     ]
    }
   ],
   "source": [
    "# sample code\n",
    "\n",
    "# split data into 70% train and 30% test\n",
    "train, test = sc.split_df(hmeq_data_forsc, y = 'BAD', ratio = .7).values()\n",
    "print(train.head())\n",
    "print(test.shape)"
   ]
  },
  {
   "cell_type": "markdown",
   "metadata": {
    "nteract": {
     "transient": {
      "deleting": false
     }
    }
   },
   "source": [
    "**Generate WOE bins**\n",
    "\n",
    "`sc.woebin()` generates groupings as a python dictionary object and also provides a method to plot WOE for the bins.  It will optimize for IV, but will not attempt to make the trend monotonic.\n",
    "\n",
    "Scorecardpy will automatically do the one-hot encoding as part of the binning process so it is not neccesary to do that in advance.\n",
    "\n",
    "It will also create missing bins for all the variables, so there is no need to imput or remove missing values.\n",
    "\n",
    "*Ignore any Python warning messages.*"
   ]
  },
  {
   "cell_type": "code",
   "execution_count": 10,
   "metadata": {
    "execution": {
     "iopub.execute_input": "2023-04-01T08:02:36.234Z",
     "iopub.status.busy": "2023-04-01T08:02:36.228Z",
     "iopub.status.idle": "2023-03-21T03:38:19.348Z",
     "shell.execute_reply": "2023-03-21T03:38:19.583Z"
    },
    "jupyter": {
     "outputs_hidden": false,
     "source_hidden": false
    },
    "nteract": {
     "transient": {
      "deleting": false
     }
    }
   },
   "outputs": [
    {
     "name": "stdout",
     "output_type": "stream",
     "text": [
      "[INFO] creating woe binning ...\n"
     ]
    },
    {
     "name": "stderr",
     "output_type": "stream",
     "text": [
      "C:\\Users\\Faez\\anaconda3\\lib\\site-packages\\scorecardpy\\condition_fun.py:40: UserWarning: Could not infer format, so each element will be parsed individually, falling back to `dateutil`. To ensure parsing is consistent and as-expected, please specify a format.\n",
      "  datetime_cols = dat.apply(pd.to_numeric,errors='ignore').select_dtypes(object).apply(pd.to_datetime,errors='ignore').select_dtypes('datetime64').columns.tolist()\n",
      "C:\\Users\\Faez\\anaconda3\\lib\\site-packages\\scorecardpy\\condition_fun.py:40: UserWarning: Could not infer format, so each element will be parsed individually, falling back to `dateutil`. To ensure parsing is consistent and as-expected, please specify a format.\n",
      "  datetime_cols = dat.apply(pd.to_numeric,errors='ignore').select_dtypes(object).apply(pd.to_datetime,errors='ignore').select_dtypes('datetime64').columns.tolist()\n",
      "C:\\Users\\Faez\\anaconda3\\lib\\site-packages\\scorecardpy\\woebin.py:136: FutureWarning: The provided callable <built-in function sum> is currently using SeriesGroupBy.sum. In a future version of pandas, the provided callable will be used directly. To keep current behavior pass the string \"sum\" instead.\n",
      "  binning_sv = pd.merge(\n",
      "C:\\Users\\Faez\\anaconda3\\lib\\site-packages\\scorecardpy\\woebin.py:136: FutureWarning: The provided callable <built-in function sum> is currently using SeriesGroupBy.sum. In a future version of pandas, the provided callable will be used directly. To keep current behavior pass the string \"sum\" instead.\n",
      "  binning_sv = pd.merge(\n",
      "C:\\Users\\Faez\\anaconda3\\lib\\site-packages\\scorecardpy\\woebin.py:320: FutureWarning: The default of observed=False is deprecated and will be changed to True in a future version of pandas. Pass observed=False to retain current behavior or observed=True to adopt the future default and silence this warning.\n",
      "  init_bin = dtm.groupby('bin', group_keys=False)['y'].agg([n0, n1])\\\n",
      "C:\\Users\\Faez\\anaconda3\\lib\\site-packages\\scorecardpy\\woebin.py:161: FutureWarning: The default of observed=False is deprecated and will be changed to True in a future version of pandas. Pass observed=False to retain current behavior or observed=True to adopt the future default and silence this warning.\n",
      "  binning = dtm.groupby(['variable','bin'], group_keys=False)['y'].agg([n0, n1])\\\n",
      "C:\\Users\\Faez\\anaconda3\\lib\\site-packages\\scorecardpy\\woebin.py:361: FutureWarning: The provided callable <built-in function sum> is currently using SeriesGroupBy.sum. In a future version of pandas, the provided callable will be used directly. To keep current behavior pass the string \"sum\" instead.\n",
      "  init_bin = init_bin.groupby('brkp', group_keys=False).agg({\n",
      "C:\\Users\\Faez\\anaconda3\\lib\\site-packages\\scorecardpy\\woebin.py:361: FutureWarning: The provided callable <built-in function sum> is currently using SeriesGroupBy.sum. In a future version of pandas, the provided callable will be used directly. To keep current behavior pass the string \"sum\" instead.\n",
      "  init_bin = init_bin.groupby('brkp', group_keys=False).agg({\n",
      "C:\\Users\\Faez\\anaconda3\\lib\\site-packages\\scorecardpy\\woebin.py:361: FutureWarning: The provided callable <built-in function sum> is currently using SeriesGroupBy.sum. In a future version of pandas, the provided callable will be used directly. To keep current behavior pass the string \"sum\" instead.\n",
      "  init_bin = init_bin.groupby('brkp', group_keys=False).agg({\n",
      "C:\\Users\\Faez\\anaconda3\\lib\\site-packages\\scorecardpy\\woebin.py:361: FutureWarning: The provided callable <built-in function sum> is currently using SeriesGroupBy.sum. In a future version of pandas, the provided callable will be used directly. To keep current behavior pass the string \"sum\" instead.\n",
      "  init_bin = init_bin.groupby('brkp', group_keys=False).agg({\n",
      "C:\\Users\\Faez\\anaconda3\\lib\\site-packages\\scorecardpy\\woebin.py:410: FutureWarning: The provided callable <built-in function sum> is currently using SeriesGroupBy.sum. In a future version of pandas, the provided callable will be used directly. To keep current behavior pass the string \"sum\" instead.\n",
      "  total_iv_all_brks = pd.melt(\n",
      "C:\\Users\\Faez\\anaconda3\\lib\\site-packages\\scorecardpy\\woebin.py:410: FutureWarning: The provided callable <built-in function sum> is currently using SeriesGroupBy.sum. In a future version of pandas, the provided callable will be used directly. To keep current behavior pass the string \"sum\" instead.\n",
      "  total_iv_all_brks = pd.melt(\n",
      "C:\\Users\\Faez\\anaconda3\\lib\\site-packages\\scorecardpy\\woebin.py:442: FutureWarning: The default of observed=False is deprecated and will be changed to True in a future version of pandas. Pass observed=False to retain current behavior or observed=True to adopt the future default and silence this warning.\n",
      "  binning_1bst_brk = binning_1bst_brk.groupby(['variable', 'bstbin'], group_keys=False)\\\n",
      "C:\\Users\\Faez\\anaconda3\\lib\\site-packages\\scorecardpy\\woebin.py:442: FutureWarning: The provided callable <built-in function sum> is currently using SeriesGroupBy.sum. In a future version of pandas, the provided callable will be used directly. To keep current behavior pass the string \"sum\" instead.\n",
      "  binning_1bst_brk = binning_1bst_brk.groupby(['variable', 'bstbin'], group_keys=False)\\\n",
      "C:\\Users\\Faez\\anaconda3\\lib\\site-packages\\scorecardpy\\woebin.py:442: FutureWarning: The provided callable <built-in function sum> is currently using SeriesGroupBy.sum. In a future version of pandas, the provided callable will be used directly. To keep current behavior pass the string \"sum\" instead.\n",
      "  binning_1bst_brk = binning_1bst_brk.groupby(['variable', 'bstbin'], group_keys=False)\\\n",
      "C:\\Users\\Faez\\anaconda3\\lib\\site-packages\\scorecardpy\\woebin.py:410: FutureWarning: The provided callable <built-in function sum> is currently using SeriesGroupBy.sum. In a future version of pandas, the provided callable will be used directly. To keep current behavior pass the string \"sum\" instead.\n",
      "  total_iv_all_brks = pd.melt(\n",
      "C:\\Users\\Faez\\anaconda3\\lib\\site-packages\\scorecardpy\\woebin.py:410: FutureWarning: The provided callable <built-in function sum> is currently using SeriesGroupBy.sum. In a future version of pandas, the provided callable will be used directly. To keep current behavior pass the string \"sum\" instead.\n",
      "  total_iv_all_brks = pd.melt(\n",
      "C:\\Users\\Faez\\anaconda3\\lib\\site-packages\\scorecardpy\\woebin.py:442: FutureWarning: The default of observed=False is deprecated and will be changed to True in a future version of pandas. Pass observed=False to retain current behavior or observed=True to adopt the future default and silence this warning.\n",
      "  binning_1bst_brk = binning_1bst_brk.groupby(['variable', 'bstbin'], group_keys=False)\\\n",
      "C:\\Users\\Faez\\anaconda3\\lib\\site-packages\\scorecardpy\\woebin.py:442: FutureWarning: The provided callable <built-in function sum> is currently using SeriesGroupBy.sum. In a future version of pandas, the provided callable will be used directly. To keep current behavior pass the string \"sum\" instead.\n",
      "  binning_1bst_brk = binning_1bst_brk.groupby(['variable', 'bstbin'], group_keys=False)\\\n",
      "C:\\Users\\Faez\\anaconda3\\lib\\site-packages\\scorecardpy\\woebin.py:442: FutureWarning: The provided callable <built-in function sum> is currently using SeriesGroupBy.sum. In a future version of pandas, the provided callable will be used directly. To keep current behavior pass the string \"sum\" instead.\n",
      "  binning_1bst_brk = binning_1bst_brk.groupby(['variable', 'bstbin'], group_keys=False)\\\n",
      "C:\\Users\\Faez\\anaconda3\\lib\\site-packages\\scorecardpy\\woebin.py:410: FutureWarning: The provided callable <built-in function sum> is currently using SeriesGroupBy.sum. In a future version of pandas, the provided callable will be used directly. To keep current behavior pass the string \"sum\" instead.\n",
      "  total_iv_all_brks = pd.melt(\n",
      "C:\\Users\\Faez\\anaconda3\\lib\\site-packages\\scorecardpy\\woebin.py:410: FutureWarning: The provided callable <built-in function sum> is currently using SeriesGroupBy.sum. In a future version of pandas, the provided callable will be used directly. To keep current behavior pass the string \"sum\" instead.\n",
      "  total_iv_all_brks = pd.melt(\n",
      "C:\\Users\\Faez\\anaconda3\\lib\\site-packages\\scorecardpy\\woebin.py:442: FutureWarning: The default of observed=False is deprecated and will be changed to True in a future version of pandas. Pass observed=False to retain current behavior or observed=True to adopt the future default and silence this warning.\n",
      "  binning_1bst_brk = binning_1bst_brk.groupby(['variable', 'bstbin'], group_keys=False)\\\n",
      "C:\\Users\\Faez\\anaconda3\\lib\\site-packages\\scorecardpy\\woebin.py:442: FutureWarning: The provided callable <built-in function sum> is currently using SeriesGroupBy.sum. In a future version of pandas, the provided callable will be used directly. To keep current behavior pass the string \"sum\" instead.\n",
      "  binning_1bst_brk = binning_1bst_brk.groupby(['variable', 'bstbin'], group_keys=False)\\\n",
      "C:\\Users\\Faez\\anaconda3\\lib\\site-packages\\scorecardpy\\woebin.py:442: FutureWarning: The provided callable <built-in function sum> is currently using SeriesGroupBy.sum. In a future version of pandas, the provided callable will be used directly. To keep current behavior pass the string \"sum\" instead.\n",
      "  binning_1bst_brk = binning_1bst_brk.groupby(['variable', 'bstbin'], group_keys=False)\\\n",
      "C:\\Users\\Faez\\anaconda3\\lib\\site-packages\\scorecardpy\\woebin.py:410: FutureWarning: The provided callable <built-in function sum> is currently using SeriesGroupBy.sum. In a future version of pandas, the provided callable will be used directly. To keep current behavior pass the string \"sum\" instead.\n",
      "  total_iv_all_brks = pd.melt(\n",
      "C:\\Users\\Faez\\anaconda3\\lib\\site-packages\\scorecardpy\\woebin.py:410: FutureWarning: The provided callable <built-in function sum> is currently using SeriesGroupBy.sum. In a future version of pandas, the provided callable will be used directly. To keep current behavior pass the string \"sum\" instead.\n",
      "  total_iv_all_brks = pd.melt(\n",
      "C:\\Users\\Faez\\anaconda3\\lib\\site-packages\\scorecardpy\\woebin.py:442: FutureWarning: The default of observed=False is deprecated and will be changed to True in a future version of pandas. Pass observed=False to retain current behavior or observed=True to adopt the future default and silence this warning.\n",
      "  binning_1bst_brk = binning_1bst_brk.groupby(['variable', 'bstbin'], group_keys=False)\\\n",
      "C:\\Users\\Faez\\anaconda3\\lib\\site-packages\\scorecardpy\\woebin.py:442: FutureWarning: The provided callable <built-in function sum> is currently using SeriesGroupBy.sum. In a future version of pandas, the provided callable will be used directly. To keep current behavior pass the string \"sum\" instead.\n",
      "  binning_1bst_brk = binning_1bst_brk.groupby(['variable', 'bstbin'], group_keys=False)\\\n",
      "C:\\Users\\Faez\\anaconda3\\lib\\site-packages\\scorecardpy\\woebin.py:442: FutureWarning: The provided callable <built-in function sum> is currently using SeriesGroupBy.sum. In a future version of pandas, the provided callable will be used directly. To keep current behavior pass the string \"sum\" instead.\n",
      "  binning_1bst_brk = binning_1bst_brk.groupby(['variable', 'bstbin'], group_keys=False)\\\n",
      "C:\\Users\\Faez\\anaconda3\\lib\\site-packages\\scorecardpy\\woebin.py:136: FutureWarning: The provided callable <built-in function sum> is currently using SeriesGroupBy.sum. In a future version of pandas, the provided callable will be used directly. To keep current behavior pass the string \"sum\" instead.\n",
      "  binning_sv = pd.merge(\n",
      "C:\\Users\\Faez\\anaconda3\\lib\\site-packages\\scorecardpy\\woebin.py:136: FutureWarning: The provided callable <built-in function sum> is currently using SeriesGroupBy.sum. In a future version of pandas, the provided callable will be used directly. To keep current behavior pass the string \"sum\" instead.\n",
      "  binning_sv = pd.merge(\n"
     ]
    },
    {
     "name": "stderr",
     "output_type": "stream",
     "text": [
      "C:\\Users\\Faez\\anaconda3\\lib\\site-packages\\scorecardpy\\woebin.py:320: FutureWarning: The default of observed=False is deprecated and will be changed to True in a future version of pandas. Pass observed=False to retain current behavior or observed=True to adopt the future default and silence this warning.\n",
      "  init_bin = dtm.groupby('bin', group_keys=False)['y'].agg([n0, n1])\\\n",
      "C:\\Users\\Faez\\anaconda3\\lib\\site-packages\\scorecardpy\\woebin.py:410: FutureWarning: The provided callable <built-in function sum> is currently using SeriesGroupBy.sum. In a future version of pandas, the provided callable will be used directly. To keep current behavior pass the string \"sum\" instead.\n",
      "  total_iv_all_brks = pd.melt(\n",
      "C:\\Users\\Faez\\anaconda3\\lib\\site-packages\\scorecardpy\\woebin.py:410: FutureWarning: The provided callable <built-in function sum> is currently using SeriesGroupBy.sum. In a future version of pandas, the provided callable will be used directly. To keep current behavior pass the string \"sum\" instead.\n",
      "  total_iv_all_brks = pd.melt(\n",
      "C:\\Users\\Faez\\anaconda3\\lib\\site-packages\\scorecardpy\\woebin.py:442: FutureWarning: The default of observed=False is deprecated and will be changed to True in a future version of pandas. Pass observed=False to retain current behavior or observed=True to adopt the future default and silence this warning.\n",
      "  binning_1bst_brk = binning_1bst_brk.groupby(['variable', 'bstbin'], group_keys=False)\\\n",
      "C:\\Users\\Faez\\anaconda3\\lib\\site-packages\\scorecardpy\\woebin.py:442: FutureWarning: The provided callable <built-in function sum> is currently using SeriesGroupBy.sum. In a future version of pandas, the provided callable will be used directly. To keep current behavior pass the string \"sum\" instead.\n",
      "  binning_1bst_brk = binning_1bst_brk.groupby(['variable', 'bstbin'], group_keys=False)\\\n",
      "C:\\Users\\Faez\\anaconda3\\lib\\site-packages\\scorecardpy\\woebin.py:442: FutureWarning: The provided callable <built-in function sum> is currently using SeriesGroupBy.sum. In a future version of pandas, the provided callable will be used directly. To keep current behavior pass the string \"sum\" instead.\n",
      "  binning_1bst_brk = binning_1bst_brk.groupby(['variable', 'bstbin'], group_keys=False)\\\n",
      "C:\\Users\\Faez\\anaconda3\\lib\\site-packages\\scorecardpy\\woebin.py:410: FutureWarning: The provided callable <built-in function sum> is currently using SeriesGroupBy.sum. In a future version of pandas, the provided callable will be used directly. To keep current behavior pass the string \"sum\" instead.\n",
      "  total_iv_all_brks = pd.melt(\n",
      "C:\\Users\\Faez\\anaconda3\\lib\\site-packages\\scorecardpy\\woebin.py:410: FutureWarning: The provided callable <built-in function sum> is currently using SeriesGroupBy.sum. In a future version of pandas, the provided callable will be used directly. To keep current behavior pass the string \"sum\" instead.\n",
      "  total_iv_all_brks = pd.melt(\n",
      "C:\\Users\\Faez\\anaconda3\\lib\\site-packages\\scorecardpy\\woebin.py:442: FutureWarning: The default of observed=False is deprecated and will be changed to True in a future version of pandas. Pass observed=False to retain current behavior or observed=True to adopt the future default and silence this warning.\n",
      "  binning_1bst_brk = binning_1bst_brk.groupby(['variable', 'bstbin'], group_keys=False)\\\n",
      "C:\\Users\\Faez\\anaconda3\\lib\\site-packages\\scorecardpy\\woebin.py:442: FutureWarning: The provided callable <built-in function sum> is currently using SeriesGroupBy.sum. In a future version of pandas, the provided callable will be used directly. To keep current behavior pass the string \"sum\" instead.\n",
      "  binning_1bst_brk = binning_1bst_brk.groupby(['variable', 'bstbin'], group_keys=False)\\\n",
      "C:\\Users\\Faez\\anaconda3\\lib\\site-packages\\scorecardpy\\woebin.py:442: FutureWarning: The provided callable <built-in function sum> is currently using SeriesGroupBy.sum. In a future version of pandas, the provided callable will be used directly. To keep current behavior pass the string \"sum\" instead.\n",
      "  binning_1bst_brk = binning_1bst_brk.groupby(['variable', 'bstbin'], group_keys=False)\\\n",
      "C:\\Users\\Faez\\anaconda3\\lib\\site-packages\\scorecardpy\\woebin.py:136: FutureWarning: The provided callable <built-in function sum> is currently using SeriesGroupBy.sum. In a future version of pandas, the provided callable will be used directly. To keep current behavior pass the string \"sum\" instead.\n",
      "  binning_sv = pd.merge(\n",
      "C:\\Users\\Faez\\anaconda3\\lib\\site-packages\\scorecardpy\\woebin.py:136: FutureWarning: The provided callable <built-in function sum> is currently using SeriesGroupBy.sum. In a future version of pandas, the provided callable will be used directly. To keep current behavior pass the string \"sum\" instead.\n",
      "  binning_sv = pd.merge(\n",
      "C:\\Users\\Faez\\anaconda3\\lib\\site-packages\\scorecardpy\\woebin.py:320: FutureWarning: The default of observed=False is deprecated and will be changed to True in a future version of pandas. Pass observed=False to retain current behavior or observed=True to adopt the future default and silence this warning.\n",
      "  init_bin = dtm.groupby('bin', group_keys=False)['y'].agg([n0, n1])\\\n",
      "C:\\Users\\Faez\\anaconda3\\lib\\site-packages\\scorecardpy\\woebin.py:410: FutureWarning: The provided callable <built-in function sum> is currently using SeriesGroupBy.sum. In a future version of pandas, the provided callable will be used directly. To keep current behavior pass the string \"sum\" instead.\n",
      "  total_iv_all_brks = pd.melt(\n",
      "C:\\Users\\Faez\\anaconda3\\lib\\site-packages\\scorecardpy\\woebin.py:410: FutureWarning: The provided callable <built-in function sum> is currently using SeriesGroupBy.sum. In a future version of pandas, the provided callable will be used directly. To keep current behavior pass the string \"sum\" instead.\n",
      "  total_iv_all_brks = pd.melt(\n",
      "C:\\Users\\Faez\\anaconda3\\lib\\site-packages\\scorecardpy\\woebin.py:442: FutureWarning: The default of observed=False is deprecated and will be changed to True in a future version of pandas. Pass observed=False to retain current behavior or observed=True to adopt the future default and silence this warning.\n",
      "  binning_1bst_brk = binning_1bst_brk.groupby(['variable', 'bstbin'], group_keys=False)\\\n",
      "C:\\Users\\Faez\\anaconda3\\lib\\site-packages\\scorecardpy\\woebin.py:442: FutureWarning: The provided callable <built-in function sum> is currently using SeriesGroupBy.sum. In a future version of pandas, the provided callable will be used directly. To keep current behavior pass the string \"sum\" instead.\n",
      "  binning_1bst_brk = binning_1bst_brk.groupby(['variable', 'bstbin'], group_keys=False)\\\n",
      "C:\\Users\\Faez\\anaconda3\\lib\\site-packages\\scorecardpy\\woebin.py:442: FutureWarning: The provided callable <built-in function sum> is currently using SeriesGroupBy.sum. In a future version of pandas, the provided callable will be used directly. To keep current behavior pass the string \"sum\" instead.\n",
      "  binning_1bst_brk = binning_1bst_brk.groupby(['variable', 'bstbin'], group_keys=False)\\\n",
      "C:\\Users\\Faez\\anaconda3\\lib\\site-packages\\scorecardpy\\woebin.py:410: FutureWarning: The provided callable <built-in function sum> is currently using SeriesGroupBy.sum. In a future version of pandas, the provided callable will be used directly. To keep current behavior pass the string \"sum\" instead.\n",
      "  total_iv_all_brks = pd.melt(\n",
      "C:\\Users\\Faez\\anaconda3\\lib\\site-packages\\scorecardpy\\woebin.py:410: FutureWarning: The provided callable <built-in function sum> is currently using SeriesGroupBy.sum. In a future version of pandas, the provided callable will be used directly. To keep current behavior pass the string \"sum\" instead.\n",
      "  total_iv_all_brks = pd.melt(\n",
      "C:\\Users\\Faez\\anaconda3\\lib\\site-packages\\scorecardpy\\woebin.py:442: FutureWarning: The default of observed=False is deprecated and will be changed to True in a future version of pandas. Pass observed=False to retain current behavior or observed=True to adopt the future default and silence this warning.\n",
      "  binning_1bst_brk = binning_1bst_brk.groupby(['variable', 'bstbin'], group_keys=False)\\\n",
      "C:\\Users\\Faez\\anaconda3\\lib\\site-packages\\scorecardpy\\woebin.py:442: FutureWarning: The provided callable <built-in function sum> is currently using SeriesGroupBy.sum. In a future version of pandas, the provided callable will be used directly. To keep current behavior pass the string \"sum\" instead.\n",
      "  binning_1bst_brk = binning_1bst_brk.groupby(['variable', 'bstbin'], group_keys=False)\\\n",
      "C:\\Users\\Faez\\anaconda3\\lib\\site-packages\\scorecardpy\\woebin.py:442: FutureWarning: The provided callable <built-in function sum> is currently using SeriesGroupBy.sum. In a future version of pandas, the provided callable will be used directly. To keep current behavior pass the string \"sum\" instead.\n",
      "  binning_1bst_brk = binning_1bst_brk.groupby(['variable', 'bstbin'], group_keys=False)\\\n"
     ]
    },
    {
     "name": "stderr",
     "output_type": "stream",
     "text": [
      "C:\\Users\\Faez\\anaconda3\\lib\\site-packages\\scorecardpy\\woebin.py:410: FutureWarning: The provided callable <built-in function sum> is currently using SeriesGroupBy.sum. In a future version of pandas, the provided callable will be used directly. To keep current behavior pass the string \"sum\" instead.\n",
      "  total_iv_all_brks = pd.melt(\n",
      "C:\\Users\\Faez\\anaconda3\\lib\\site-packages\\scorecardpy\\woebin.py:410: FutureWarning: The provided callable <built-in function sum> is currently using SeriesGroupBy.sum. In a future version of pandas, the provided callable will be used directly. To keep current behavior pass the string \"sum\" instead.\n",
      "  total_iv_all_brks = pd.melt(\n",
      "C:\\Users\\Faez\\anaconda3\\lib\\site-packages\\scorecardpy\\woebin.py:442: FutureWarning: The default of observed=False is deprecated and will be changed to True in a future version of pandas. Pass observed=False to retain current behavior or observed=True to adopt the future default and silence this warning.\n",
      "  binning_1bst_brk = binning_1bst_brk.groupby(['variable', 'bstbin'], group_keys=False)\\\n",
      "C:\\Users\\Faez\\anaconda3\\lib\\site-packages\\scorecardpy\\woebin.py:442: FutureWarning: The provided callable <built-in function sum> is currently using SeriesGroupBy.sum. In a future version of pandas, the provided callable will be used directly. To keep current behavior pass the string \"sum\" instead.\n",
      "  binning_1bst_brk = binning_1bst_brk.groupby(['variable', 'bstbin'], group_keys=False)\\\n",
      "C:\\Users\\Faez\\anaconda3\\lib\\site-packages\\scorecardpy\\woebin.py:442: FutureWarning: The provided callable <built-in function sum> is currently using SeriesGroupBy.sum. In a future version of pandas, the provided callable will be used directly. To keep current behavior pass the string \"sum\" instead.\n",
      "  binning_1bst_brk = binning_1bst_brk.groupby(['variable', 'bstbin'], group_keys=False)\\\n",
      "C:\\Users\\Faez\\anaconda3\\lib\\site-packages\\scorecardpy\\woebin.py:136: FutureWarning: The provided callable <built-in function sum> is currently using SeriesGroupBy.sum. In a future version of pandas, the provided callable will be used directly. To keep current behavior pass the string \"sum\" instead.\n",
      "  binning_sv = pd.merge(\n",
      "C:\\Users\\Faez\\anaconda3\\lib\\site-packages\\scorecardpy\\woebin.py:136: FutureWarning: The provided callable <built-in function sum> is currently using SeriesGroupBy.sum. In a future version of pandas, the provided callable will be used directly. To keep current behavior pass the string \"sum\" instead.\n",
      "  binning_sv = pd.merge(\n",
      "C:\\Users\\Faez\\anaconda3\\lib\\site-packages\\scorecardpy\\woebin.py:410: FutureWarning: The provided callable <built-in function sum> is currently using SeriesGroupBy.sum. In a future version of pandas, the provided callable will be used directly. To keep current behavior pass the string \"sum\" instead.\n",
      "  total_iv_all_brks = pd.melt(\n",
      "C:\\Users\\Faez\\anaconda3\\lib\\site-packages\\scorecardpy\\woebin.py:410: FutureWarning: The provided callable <built-in function sum> is currently using SeriesGroupBy.sum. In a future version of pandas, the provided callable will be used directly. To keep current behavior pass the string \"sum\" instead.\n",
      "  total_iv_all_brks = pd.melt(\n",
      "C:\\Users\\Faez\\anaconda3\\lib\\site-packages\\scorecardpy\\woebin.py:446: FutureWarning: The default of observed=False is deprecated and will be changed to True in a future version of pandas. Pass observed=False to retain current behavior or observed=True to adopt the future default and silence this warning.\n",
      "  binning_1bst_brk = binning_1bst_brk.groupby(['variable', 'bstbin'], group_keys=False)\\\n",
      "C:\\Users\\Faez\\anaconda3\\lib\\site-packages\\scorecardpy\\woebin.py:446: FutureWarning: The provided callable <built-in function sum> is currently using SeriesGroupBy.sum. In a future version of pandas, the provided callable will be used directly. To keep current behavior pass the string \"sum\" instead.\n",
      "  binning_1bst_brk = binning_1bst_brk.groupby(['variable', 'bstbin'], group_keys=False)\\\n",
      "C:\\Users\\Faez\\anaconda3\\lib\\site-packages\\scorecardpy\\woebin.py:446: FutureWarning: The provided callable <built-in function sum> is currently using SeriesGroupBy.sum. In a future version of pandas, the provided callable will be used directly. To keep current behavior pass the string \"sum\" instead.\n",
      "  binning_1bst_brk = binning_1bst_brk.groupby(['variable', 'bstbin'], group_keys=False)\\\n",
      "C:\\Users\\Faez\\anaconda3\\lib\\site-packages\\scorecardpy\\woebin.py:136: FutureWarning: The provided callable <built-in function sum> is currently using SeriesGroupBy.sum. In a future version of pandas, the provided callable will be used directly. To keep current behavior pass the string \"sum\" instead.\n",
      "  binning_sv = pd.merge(\n",
      "C:\\Users\\Faez\\anaconda3\\lib\\site-packages\\scorecardpy\\woebin.py:136: FutureWarning: The provided callable <built-in function sum> is currently using SeriesGroupBy.sum. In a future version of pandas, the provided callable will be used directly. To keep current behavior pass the string \"sum\" instead.\n",
      "  binning_sv = pd.merge(\n",
      "C:\\Users\\Faez\\anaconda3\\lib\\site-packages\\scorecardpy\\woebin.py:320: FutureWarning: The default of observed=False is deprecated and will be changed to True in a future version of pandas. Pass observed=False to retain current behavior or observed=True to adopt the future default and silence this warning.\n",
      "  init_bin = dtm.groupby('bin', group_keys=False)['y'].agg([n0, n1])\\\n",
      "C:\\Users\\Faez\\anaconda3\\lib\\site-packages\\scorecardpy\\woebin.py:161: FutureWarning: The default of observed=False is deprecated and will be changed to True in a future version of pandas. Pass observed=False to retain current behavior or observed=True to adopt the future default and silence this warning.\n",
      "  binning = dtm.groupby(['variable','bin'], group_keys=False)['y'].agg([n0, n1])\\\n",
      "C:\\Users\\Faez\\anaconda3\\lib\\site-packages\\scorecardpy\\woebin.py:361: FutureWarning: The provided callable <built-in function sum> is currently using SeriesGroupBy.sum. In a future version of pandas, the provided callable will be used directly. To keep current behavior pass the string \"sum\" instead.\n",
      "  init_bin = init_bin.groupby('brkp', group_keys=False).agg({\n",
      "C:\\Users\\Faez\\anaconda3\\lib\\site-packages\\scorecardpy\\woebin.py:361: FutureWarning: The provided callable <built-in function sum> is currently using SeriesGroupBy.sum. In a future version of pandas, the provided callable will be used directly. To keep current behavior pass the string \"sum\" instead.\n",
      "  init_bin = init_bin.groupby('brkp', group_keys=False).agg({\n",
      "C:\\Users\\Faez\\anaconda3\\lib\\site-packages\\scorecardpy\\woebin.py:361: FutureWarning: The provided callable <built-in function sum> is currently using SeriesGroupBy.sum. In a future version of pandas, the provided callable will be used directly. To keep current behavior pass the string \"sum\" instead.\n",
      "  init_bin = init_bin.groupby('brkp', group_keys=False).agg({\n",
      "C:\\Users\\Faez\\anaconda3\\lib\\site-packages\\scorecardpy\\woebin.py:361: FutureWarning: The provided callable <built-in function sum> is currently using SeriesGroupBy.sum. In a future version of pandas, the provided callable will be used directly. To keep current behavior pass the string \"sum\" instead.\n",
      "  init_bin = init_bin.groupby('brkp', group_keys=False).agg({\n",
      "C:\\Users\\Faez\\anaconda3\\lib\\site-packages\\scorecardpy\\woebin.py:361: FutureWarning: The provided callable <built-in function sum> is currently using SeriesGroupBy.sum. In a future version of pandas, the provided callable will be used directly. To keep current behavior pass the string \"sum\" instead.\n",
      "  init_bin = init_bin.groupby('brkp', group_keys=False).agg({\n",
      "C:\\Users\\Faez\\anaconda3\\lib\\site-packages\\scorecardpy\\woebin.py:361: FutureWarning: The provided callable <built-in function sum> is currently using SeriesGroupBy.sum. In a future version of pandas, the provided callable will be used directly. To keep current behavior pass the string \"sum\" instead.\n",
      "  init_bin = init_bin.groupby('brkp', group_keys=False).agg({\n",
      "C:\\Users\\Faez\\anaconda3\\lib\\site-packages\\scorecardpy\\woebin.py:410: FutureWarning: The provided callable <built-in function sum> is currently using SeriesGroupBy.sum. In a future version of pandas, the provided callable will be used directly. To keep current behavior pass the string \"sum\" instead.\n",
      "  total_iv_all_brks = pd.melt(\n",
      "C:\\Users\\Faez\\anaconda3\\lib\\site-packages\\scorecardpy\\woebin.py:410: FutureWarning: The provided callable <built-in function sum> is currently using SeriesGroupBy.sum. In a future version of pandas, the provided callable will be used directly. To keep current behavior pass the string \"sum\" instead.\n",
      "  total_iv_all_brks = pd.melt(\n",
      "C:\\Users\\Faez\\anaconda3\\lib\\site-packages\\scorecardpy\\woebin.py:442: FutureWarning: The default of observed=False is deprecated and will be changed to True in a future version of pandas. Pass observed=False to retain current behavior or observed=True to adopt the future default and silence this warning.\n",
      "  binning_1bst_brk = binning_1bst_brk.groupby(['variable', 'bstbin'], group_keys=False)\\\n",
      "C:\\Users\\Faez\\anaconda3\\lib\\site-packages\\scorecardpy\\woebin.py:442: FutureWarning: The provided callable <built-in function sum> is currently using SeriesGroupBy.sum. In a future version of pandas, the provided callable will be used directly. To keep current behavior pass the string \"sum\" instead.\n",
      "  binning_1bst_brk = binning_1bst_brk.groupby(['variable', 'bstbin'], group_keys=False)\\\n",
      "C:\\Users\\Faez\\anaconda3\\lib\\site-packages\\scorecardpy\\woebin.py:442: FutureWarning: The provided callable <built-in function sum> is currently using SeriesGroupBy.sum. In a future version of pandas, the provided callable will be used directly. To keep current behavior pass the string \"sum\" instead.\n",
      "  binning_1bst_brk = binning_1bst_brk.groupby(['variable', 'bstbin'], group_keys=False)\\\n",
      "C:\\Users\\Faez\\anaconda3\\lib\\site-packages\\scorecardpy\\woebin.py:410: FutureWarning: The provided callable <built-in function sum> is currently using SeriesGroupBy.sum. In a future version of pandas, the provided callable will be used directly. To keep current behavior pass the string \"sum\" instead.\n",
      "  total_iv_all_brks = pd.melt(\n"
     ]
    },
    {
     "name": "stderr",
     "output_type": "stream",
     "text": [
      "C:\\Users\\Faez\\anaconda3\\lib\\site-packages\\scorecardpy\\woebin.py:410: FutureWarning: The provided callable <built-in function sum> is currently using SeriesGroupBy.sum. In a future version of pandas, the provided callable will be used directly. To keep current behavior pass the string \"sum\" instead.\n",
      "  total_iv_all_brks = pd.melt(\n",
      "C:\\Users\\Faez\\anaconda3\\lib\\site-packages\\scorecardpy\\woebin.py:442: FutureWarning: The default of observed=False is deprecated and will be changed to True in a future version of pandas. Pass observed=False to retain current behavior or observed=True to adopt the future default and silence this warning.\n",
      "  binning_1bst_brk = binning_1bst_brk.groupby(['variable', 'bstbin'], group_keys=False)\\\n",
      "C:\\Users\\Faez\\anaconda3\\lib\\site-packages\\scorecardpy\\woebin.py:442: FutureWarning: The provided callable <built-in function sum> is currently using SeriesGroupBy.sum. In a future version of pandas, the provided callable will be used directly. To keep current behavior pass the string \"sum\" instead.\n",
      "  binning_1bst_brk = binning_1bst_brk.groupby(['variable', 'bstbin'], group_keys=False)\\\n",
      "C:\\Users\\Faez\\anaconda3\\lib\\site-packages\\scorecardpy\\woebin.py:442: FutureWarning: The provided callable <built-in function sum> is currently using SeriesGroupBy.sum. In a future version of pandas, the provided callable will be used directly. To keep current behavior pass the string \"sum\" instead.\n",
      "  binning_1bst_brk = binning_1bst_brk.groupby(['variable', 'bstbin'], group_keys=False)\\\n",
      "C:\\Users\\Faez\\anaconda3\\lib\\site-packages\\scorecardpy\\woebin.py:410: FutureWarning: The provided callable <built-in function sum> is currently using SeriesGroupBy.sum. In a future version of pandas, the provided callable will be used directly. To keep current behavior pass the string \"sum\" instead.\n",
      "  total_iv_all_brks = pd.melt(\n",
      "C:\\Users\\Faez\\anaconda3\\lib\\site-packages\\scorecardpy\\woebin.py:410: FutureWarning: The provided callable <built-in function sum> is currently using SeriesGroupBy.sum. In a future version of pandas, the provided callable will be used directly. To keep current behavior pass the string \"sum\" instead.\n",
      "  total_iv_all_brks = pd.melt(\n",
      "C:\\Users\\Faez\\anaconda3\\lib\\site-packages\\scorecardpy\\woebin.py:442: FutureWarning: The default of observed=False is deprecated and will be changed to True in a future version of pandas. Pass observed=False to retain current behavior or observed=True to adopt the future default and silence this warning.\n",
      "  binning_1bst_brk = binning_1bst_brk.groupby(['variable', 'bstbin'], group_keys=False)\\\n",
      "C:\\Users\\Faez\\anaconda3\\lib\\site-packages\\scorecardpy\\woebin.py:442: FutureWarning: The provided callable <built-in function sum> is currently using SeriesGroupBy.sum. In a future version of pandas, the provided callable will be used directly. To keep current behavior pass the string \"sum\" instead.\n",
      "  binning_1bst_brk = binning_1bst_brk.groupby(['variable', 'bstbin'], group_keys=False)\\\n",
      "C:\\Users\\Faez\\anaconda3\\lib\\site-packages\\scorecardpy\\woebin.py:442: FutureWarning: The provided callable <built-in function sum> is currently using SeriesGroupBy.sum. In a future version of pandas, the provided callable will be used directly. To keep current behavior pass the string \"sum\" instead.\n",
      "  binning_1bst_brk = binning_1bst_brk.groupby(['variable', 'bstbin'], group_keys=False)\\\n",
      "C:\\Users\\Faez\\anaconda3\\lib\\site-packages\\scorecardpy\\woebin.py:136: FutureWarning: The provided callable <built-in function sum> is currently using SeriesGroupBy.sum. In a future version of pandas, the provided callable will be used directly. To keep current behavior pass the string \"sum\" instead.\n",
      "  binning_sv = pd.merge(\n",
      "C:\\Users\\Faez\\anaconda3\\lib\\site-packages\\scorecardpy\\woebin.py:136: FutureWarning: The provided callable <built-in function sum> is currently using SeriesGroupBy.sum. In a future version of pandas, the provided callable will be used directly. To keep current behavior pass the string \"sum\" instead.\n",
      "  binning_sv = pd.merge(\n",
      "C:\\Users\\Faez\\anaconda3\\lib\\site-packages\\scorecardpy\\woebin.py:320: FutureWarning: The default of observed=False is deprecated and will be changed to True in a future version of pandas. Pass observed=False to retain current behavior or observed=True to adopt the future default and silence this warning.\n",
      "  init_bin = dtm.groupby('bin', group_keys=False)['y'].agg([n0, n1])\\\n",
      "C:\\Users\\Faez\\anaconda3\\lib\\site-packages\\scorecardpy\\woebin.py:161: FutureWarning: The default of observed=False is deprecated and will be changed to True in a future version of pandas. Pass observed=False to retain current behavior or observed=True to adopt the future default and silence this warning.\n",
      "  binning = dtm.groupby(['variable','bin'], group_keys=False)['y'].agg([n0, n1])\\\n",
      "C:\\Users\\Faez\\anaconda3\\lib\\site-packages\\scorecardpy\\woebin.py:361: FutureWarning: The provided callable <built-in function sum> is currently using SeriesGroupBy.sum. In a future version of pandas, the provided callable will be used directly. To keep current behavior pass the string \"sum\" instead.\n",
      "  init_bin = init_bin.groupby('brkp', group_keys=False).agg({\n",
      "C:\\Users\\Faez\\anaconda3\\lib\\site-packages\\scorecardpy\\woebin.py:361: FutureWarning: The provided callable <built-in function sum> is currently using SeriesGroupBy.sum. In a future version of pandas, the provided callable will be used directly. To keep current behavior pass the string \"sum\" instead.\n",
      "  init_bin = init_bin.groupby('brkp', group_keys=False).agg({\n",
      "C:\\Users\\Faez\\anaconda3\\lib\\site-packages\\scorecardpy\\woebin.py:361: FutureWarning: The provided callable <built-in function sum> is currently using SeriesGroupBy.sum. In a future version of pandas, the provided callable will be used directly. To keep current behavior pass the string \"sum\" instead.\n",
      "  init_bin = init_bin.groupby('brkp', group_keys=False).agg({\n",
      "C:\\Users\\Faez\\anaconda3\\lib\\site-packages\\scorecardpy\\woebin.py:361: FutureWarning: The provided callable <built-in function sum> is currently using SeriesGroupBy.sum. In a future version of pandas, the provided callable will be used directly. To keep current behavior pass the string \"sum\" instead.\n",
      "  init_bin = init_bin.groupby('brkp', group_keys=False).agg({\n",
      "C:\\Users\\Faez\\anaconda3\\lib\\site-packages\\scorecardpy\\woebin.py:361: FutureWarning: The provided callable <built-in function sum> is currently using SeriesGroupBy.sum. In a future version of pandas, the provided callable will be used directly. To keep current behavior pass the string \"sum\" instead.\n",
      "  init_bin = init_bin.groupby('brkp', group_keys=False).agg({\n",
      "C:\\Users\\Faez\\anaconda3\\lib\\site-packages\\scorecardpy\\woebin.py:361: FutureWarning: The provided callable <built-in function sum> is currently using SeriesGroupBy.sum. In a future version of pandas, the provided callable will be used directly. To keep current behavior pass the string \"sum\" instead.\n",
      "  init_bin = init_bin.groupby('brkp', group_keys=False).agg({\n",
      "C:\\Users\\Faez\\anaconda3\\lib\\site-packages\\scorecardpy\\woebin.py:361: FutureWarning: The provided callable <built-in function sum> is currently using SeriesGroupBy.sum. In a future version of pandas, the provided callable will be used directly. To keep current behavior pass the string \"sum\" instead.\n",
      "  init_bin = init_bin.groupby('brkp', group_keys=False).agg({\n",
      "C:\\Users\\Faez\\anaconda3\\lib\\site-packages\\scorecardpy\\woebin.py:361: FutureWarning: The provided callable <built-in function sum> is currently using SeriesGroupBy.sum. In a future version of pandas, the provided callable will be used directly. To keep current behavior pass the string \"sum\" instead.\n",
      "  init_bin = init_bin.groupby('brkp', group_keys=False).agg({\n",
      "C:\\Users\\Faez\\anaconda3\\lib\\site-packages\\scorecardpy\\woebin.py:361: FutureWarning: The provided callable <built-in function sum> is currently using SeriesGroupBy.sum. In a future version of pandas, the provided callable will be used directly. To keep current behavior pass the string \"sum\" instead.\n",
      "  init_bin = init_bin.groupby('brkp', group_keys=False).agg({\n",
      "C:\\Users\\Faez\\anaconda3\\lib\\site-packages\\scorecardpy\\woebin.py:361: FutureWarning: The provided callable <built-in function sum> is currently using SeriesGroupBy.sum. In a future version of pandas, the provided callable will be used directly. To keep current behavior pass the string \"sum\" instead.\n",
      "  init_bin = init_bin.groupby('brkp', group_keys=False).agg({\n",
      "C:\\Users\\Faez\\anaconda3\\lib\\site-packages\\scorecardpy\\woebin.py:361: FutureWarning: The provided callable <built-in function sum> is currently using SeriesGroupBy.sum. In a future version of pandas, the provided callable will be used directly. To keep current behavior pass the string \"sum\" instead.\n",
      "  init_bin = init_bin.groupby('brkp', group_keys=False).agg({\n"
     ]
    },
    {
     "name": "stderr",
     "output_type": "stream",
     "text": [
      "C:\\Users\\Faez\\anaconda3\\lib\\site-packages\\scorecardpy\\woebin.py:361: FutureWarning: The provided callable <built-in function sum> is currently using SeriesGroupBy.sum. In a future version of pandas, the provided callable will be used directly. To keep current behavior pass the string \"sum\" instead.\n",
      "  init_bin = init_bin.groupby('brkp', group_keys=False).agg({\n",
      "C:\\Users\\Faez\\anaconda3\\lib\\site-packages\\scorecardpy\\woebin.py:361: FutureWarning: The provided callable <built-in function sum> is currently using SeriesGroupBy.sum. In a future version of pandas, the provided callable will be used directly. To keep current behavior pass the string \"sum\" instead.\n",
      "  init_bin = init_bin.groupby('brkp', group_keys=False).agg({\n",
      "C:\\Users\\Faez\\anaconda3\\lib\\site-packages\\scorecardpy\\woebin.py:361: FutureWarning: The provided callable <built-in function sum> is currently using SeriesGroupBy.sum. In a future version of pandas, the provided callable will be used directly. To keep current behavior pass the string \"sum\" instead.\n",
      "  init_bin = init_bin.groupby('brkp', group_keys=False).agg({\n",
      "C:\\Users\\Faez\\anaconda3\\lib\\site-packages\\scorecardpy\\woebin.py:361: FutureWarning: The provided callable <built-in function sum> is currently using SeriesGroupBy.sum. In a future version of pandas, the provided callable will be used directly. To keep current behavior pass the string \"sum\" instead.\n",
      "  init_bin = init_bin.groupby('brkp', group_keys=False).agg({\n",
      "C:\\Users\\Faez\\anaconda3\\lib\\site-packages\\scorecardpy\\woebin.py:361: FutureWarning: The provided callable <built-in function sum> is currently using SeriesGroupBy.sum. In a future version of pandas, the provided callable will be used directly. To keep current behavior pass the string \"sum\" instead.\n",
      "  init_bin = init_bin.groupby('brkp', group_keys=False).agg({\n",
      "C:\\Users\\Faez\\anaconda3\\lib\\site-packages\\scorecardpy\\woebin.py:361: FutureWarning: The provided callable <built-in function sum> is currently using SeriesGroupBy.sum. In a future version of pandas, the provided callable will be used directly. To keep current behavior pass the string \"sum\" instead.\n",
      "  init_bin = init_bin.groupby('brkp', group_keys=False).agg({\n",
      "C:\\Users\\Faez\\anaconda3\\lib\\site-packages\\scorecardpy\\woebin.py:361: FutureWarning: The provided callable <built-in function sum> is currently using SeriesGroupBy.sum. In a future version of pandas, the provided callable will be used directly. To keep current behavior pass the string \"sum\" instead.\n",
      "  init_bin = init_bin.groupby('brkp', group_keys=False).agg({\n",
      "C:\\Users\\Faez\\anaconda3\\lib\\site-packages\\scorecardpy\\woebin.py:361: FutureWarning: The provided callable <built-in function sum> is currently using SeriesGroupBy.sum. In a future version of pandas, the provided callable will be used directly. To keep current behavior pass the string \"sum\" instead.\n",
      "  init_bin = init_bin.groupby('brkp', group_keys=False).agg({\n",
      "C:\\Users\\Faez\\anaconda3\\lib\\site-packages\\scorecardpy\\woebin.py:361: FutureWarning: The provided callable <built-in function sum> is currently using SeriesGroupBy.sum. In a future version of pandas, the provided callable will be used directly. To keep current behavior pass the string \"sum\" instead.\n",
      "  init_bin = init_bin.groupby('brkp', group_keys=False).agg({\n",
      "C:\\Users\\Faez\\anaconda3\\lib\\site-packages\\scorecardpy\\woebin.py:361: FutureWarning: The provided callable <built-in function sum> is currently using SeriesGroupBy.sum. In a future version of pandas, the provided callable will be used directly. To keep current behavior pass the string \"sum\" instead.\n",
      "  init_bin = init_bin.groupby('brkp', group_keys=False).agg({\n",
      "C:\\Users\\Faez\\anaconda3\\lib\\site-packages\\scorecardpy\\woebin.py:361: FutureWarning: The provided callable <built-in function sum> is currently using SeriesGroupBy.sum. In a future version of pandas, the provided callable will be used directly. To keep current behavior pass the string \"sum\" instead.\n",
      "  init_bin = init_bin.groupby('brkp', group_keys=False).agg({\n",
      "C:\\Users\\Faez\\anaconda3\\lib\\site-packages\\scorecardpy\\woebin.py:361: FutureWarning: The provided callable <built-in function sum> is currently using SeriesGroupBy.sum. In a future version of pandas, the provided callable will be used directly. To keep current behavior pass the string \"sum\" instead.\n",
      "  init_bin = init_bin.groupby('brkp', group_keys=False).agg({\n",
      "C:\\Users\\Faez\\anaconda3\\lib\\site-packages\\scorecardpy\\woebin.py:410: FutureWarning: The provided callable <built-in function sum> is currently using SeriesGroupBy.sum. In a future version of pandas, the provided callable will be used directly. To keep current behavior pass the string \"sum\" instead.\n",
      "  total_iv_all_brks = pd.melt(\n",
      "C:\\Users\\Faez\\anaconda3\\lib\\site-packages\\scorecardpy\\woebin.py:410: FutureWarning: The provided callable <built-in function sum> is currently using SeriesGroupBy.sum. In a future version of pandas, the provided callable will be used directly. To keep current behavior pass the string \"sum\" instead.\n",
      "  total_iv_all_brks = pd.melt(\n",
      "C:\\Users\\Faez\\anaconda3\\lib\\site-packages\\scorecardpy\\woebin.py:442: FutureWarning: The default of observed=False is deprecated and will be changed to True in a future version of pandas. Pass observed=False to retain current behavior or observed=True to adopt the future default and silence this warning.\n",
      "  binning_1bst_brk = binning_1bst_brk.groupby(['variable', 'bstbin'], group_keys=False)\\\n",
      "C:\\Users\\Faez\\anaconda3\\lib\\site-packages\\scorecardpy\\woebin.py:442: FutureWarning: The provided callable <built-in function sum> is currently using SeriesGroupBy.sum. In a future version of pandas, the provided callable will be used directly. To keep current behavior pass the string \"sum\" instead.\n",
      "  binning_1bst_brk = binning_1bst_brk.groupby(['variable', 'bstbin'], group_keys=False)\\\n",
      "C:\\Users\\Faez\\anaconda3\\lib\\site-packages\\scorecardpy\\woebin.py:442: FutureWarning: The provided callable <built-in function sum> is currently using SeriesGroupBy.sum. In a future version of pandas, the provided callable will be used directly. To keep current behavior pass the string \"sum\" instead.\n",
      "  binning_1bst_brk = binning_1bst_brk.groupby(['variable', 'bstbin'], group_keys=False)\\\n",
      "C:\\Users\\Faez\\anaconda3\\lib\\site-packages\\scorecardpy\\woebin.py:410: FutureWarning: The provided callable <built-in function sum> is currently using SeriesGroupBy.sum. In a future version of pandas, the provided callable will be used directly. To keep current behavior pass the string \"sum\" instead.\n",
      "  total_iv_all_brks = pd.melt(\n",
      "C:\\Users\\Faez\\anaconda3\\lib\\site-packages\\scorecardpy\\woebin.py:410: FutureWarning: The provided callable <built-in function sum> is currently using SeriesGroupBy.sum. In a future version of pandas, the provided callable will be used directly. To keep current behavior pass the string \"sum\" instead.\n",
      "  total_iv_all_brks = pd.melt(\n",
      "C:\\Users\\Faez\\anaconda3\\lib\\site-packages\\scorecardpy\\woebin.py:442: FutureWarning: The default of observed=False is deprecated and will be changed to True in a future version of pandas. Pass observed=False to retain current behavior or observed=True to adopt the future default and silence this warning.\n",
      "  binning_1bst_brk = binning_1bst_brk.groupby(['variable', 'bstbin'], group_keys=False)\\\n",
      "C:\\Users\\Faez\\anaconda3\\lib\\site-packages\\scorecardpy\\woebin.py:442: FutureWarning: The provided callable <built-in function sum> is currently using SeriesGroupBy.sum. In a future version of pandas, the provided callable will be used directly. To keep current behavior pass the string \"sum\" instead.\n",
      "  binning_1bst_brk = binning_1bst_brk.groupby(['variable', 'bstbin'], group_keys=False)\\\n",
      "C:\\Users\\Faez\\anaconda3\\lib\\site-packages\\scorecardpy\\woebin.py:442: FutureWarning: The provided callable <built-in function sum> is currently using SeriesGroupBy.sum. In a future version of pandas, the provided callable will be used directly. To keep current behavior pass the string \"sum\" instead.\n",
      "  binning_1bst_brk = binning_1bst_brk.groupby(['variable', 'bstbin'], group_keys=False)\\\n",
      "C:\\Users\\Faez\\anaconda3\\lib\\site-packages\\scorecardpy\\woebin.py:136: FutureWarning: The provided callable <built-in function sum> is currently using SeriesGroupBy.sum. In a future version of pandas, the provided callable will be used directly. To keep current behavior pass the string \"sum\" instead.\n",
      "  binning_sv = pd.merge(\n",
      "C:\\Users\\Faez\\anaconda3\\lib\\site-packages\\scorecardpy\\woebin.py:136: FutureWarning: The provided callable <built-in function sum> is currently using SeriesGroupBy.sum. In a future version of pandas, the provided callable will be used directly. To keep current behavior pass the string \"sum\" instead.\n",
      "  binning_sv = pd.merge(\n",
      "C:\\Users\\Faez\\anaconda3\\lib\\site-packages\\scorecardpy\\woebin.py:320: FutureWarning: The default of observed=False is deprecated and will be changed to True in a future version of pandas. Pass observed=False to retain current behavior or observed=True to adopt the future default and silence this warning.\n",
      "  init_bin = dtm.groupby('bin', group_keys=False)['y'].agg([n0, n1])\\\n",
      "C:\\Users\\Faez\\anaconda3\\lib\\site-packages\\scorecardpy\\woebin.py:161: FutureWarning: The default of observed=False is deprecated and will be changed to True in a future version of pandas. Pass observed=False to retain current behavior or observed=True to adopt the future default and silence this warning.\n",
      "  binning = dtm.groupby(['variable','bin'], group_keys=False)['y'].agg([n0, n1])\\\n",
      "C:\\Users\\Faez\\anaconda3\\lib\\site-packages\\scorecardpy\\woebin.py:361: FutureWarning: The provided callable <built-in function sum> is currently using SeriesGroupBy.sum. In a future version of pandas, the provided callable will be used directly. To keep current behavior pass the string \"sum\" instead.\n",
      "  init_bin = init_bin.groupby('brkp', group_keys=False).agg({\n",
      "C:\\Users\\Faez\\anaconda3\\lib\\site-packages\\scorecardpy\\woebin.py:361: FutureWarning: The provided callable <built-in function sum> is currently using SeriesGroupBy.sum. In a future version of pandas, the provided callable will be used directly. To keep current behavior pass the string \"sum\" instead.\n",
      "  init_bin = init_bin.groupby('brkp', group_keys=False).agg({\n",
      "C:\\Users\\Faez\\anaconda3\\lib\\site-packages\\scorecardpy\\woebin.py:361: FutureWarning: The provided callable <built-in function sum> is currently using SeriesGroupBy.sum. In a future version of pandas, the provided callable will be used directly. To keep current behavior pass the string \"sum\" instead.\n",
      "  init_bin = init_bin.groupby('brkp', group_keys=False).agg({\n",
      "C:\\Users\\Faez\\anaconda3\\lib\\site-packages\\scorecardpy\\woebin.py:361: FutureWarning: The provided callable <built-in function sum> is currently using SeriesGroupBy.sum. In a future version of pandas, the provided callable will be used directly. To keep current behavior pass the string \"sum\" instead.\n",
      "  init_bin = init_bin.groupby('brkp', group_keys=False).agg({\n",
      "C:\\Users\\Faez\\anaconda3\\lib\\site-packages\\scorecardpy\\woebin.py:361: FutureWarning: The provided callable <built-in function sum> is currently using SeriesGroupBy.sum. In a future version of pandas, the provided callable will be used directly. To keep current behavior pass the string \"sum\" instead.\n",
      "  init_bin = init_bin.groupby('brkp', group_keys=False).agg({\n"
     ]
    },
    {
     "name": "stderr",
     "output_type": "stream",
     "text": [
      "C:\\Users\\Faez\\anaconda3\\lib\\site-packages\\scorecardpy\\woebin.py:361: FutureWarning: The provided callable <built-in function sum> is currently using SeriesGroupBy.sum. In a future version of pandas, the provided callable will be used directly. To keep current behavior pass the string \"sum\" instead.\n",
      "  init_bin = init_bin.groupby('brkp', group_keys=False).agg({\n",
      "C:\\Users\\Faez\\anaconda3\\lib\\site-packages\\scorecardpy\\woebin.py:361: FutureWarning: The provided callable <built-in function sum> is currently using SeriesGroupBy.sum. In a future version of pandas, the provided callable will be used directly. To keep current behavior pass the string \"sum\" instead.\n",
      "  init_bin = init_bin.groupby('brkp', group_keys=False).agg({\n",
      "C:\\Users\\Faez\\anaconda3\\lib\\site-packages\\scorecardpy\\woebin.py:410: FutureWarning: The provided callable <built-in function sum> is currently using SeriesGroupBy.sum. In a future version of pandas, the provided callable will be used directly. To keep current behavior pass the string \"sum\" instead.\n",
      "  total_iv_all_brks = pd.melt(\n",
      "C:\\Users\\Faez\\anaconda3\\lib\\site-packages\\scorecardpy\\woebin.py:410: FutureWarning: The provided callable <built-in function sum> is currently using SeriesGroupBy.sum. In a future version of pandas, the provided callable will be used directly. To keep current behavior pass the string \"sum\" instead.\n",
      "  total_iv_all_brks = pd.melt(\n",
      "C:\\Users\\Faez\\anaconda3\\lib\\site-packages\\scorecardpy\\woebin.py:442: FutureWarning: The default of observed=False is deprecated and will be changed to True in a future version of pandas. Pass observed=False to retain current behavior or observed=True to adopt the future default and silence this warning.\n",
      "  binning_1bst_brk = binning_1bst_brk.groupby(['variable', 'bstbin'], group_keys=False)\\\n",
      "C:\\Users\\Faez\\anaconda3\\lib\\site-packages\\scorecardpy\\woebin.py:442: FutureWarning: The provided callable <built-in function sum> is currently using SeriesGroupBy.sum. In a future version of pandas, the provided callable will be used directly. To keep current behavior pass the string \"sum\" instead.\n",
      "  binning_1bst_brk = binning_1bst_brk.groupby(['variable', 'bstbin'], group_keys=False)\\\n",
      "C:\\Users\\Faez\\anaconda3\\lib\\site-packages\\scorecardpy\\woebin.py:442: FutureWarning: The provided callable <built-in function sum> is currently using SeriesGroupBy.sum. In a future version of pandas, the provided callable will be used directly. To keep current behavior pass the string \"sum\" instead.\n",
      "  binning_1bst_brk = binning_1bst_brk.groupby(['variable', 'bstbin'], group_keys=False)\\\n",
      "C:\\Users\\Faez\\anaconda3\\lib\\site-packages\\scorecardpy\\woebin.py:410: FutureWarning: The provided callable <built-in function sum> is currently using SeriesGroupBy.sum. In a future version of pandas, the provided callable will be used directly. To keep current behavior pass the string \"sum\" instead.\n",
      "  total_iv_all_brks = pd.melt(\n",
      "C:\\Users\\Faez\\anaconda3\\lib\\site-packages\\scorecardpy\\woebin.py:410: FutureWarning: The provided callable <built-in function sum> is currently using SeriesGroupBy.sum. In a future version of pandas, the provided callable will be used directly. To keep current behavior pass the string \"sum\" instead.\n",
      "  total_iv_all_brks = pd.melt(\n",
      "C:\\Users\\Faez\\anaconda3\\lib\\site-packages\\scorecardpy\\woebin.py:442: FutureWarning: The default of observed=False is deprecated and will be changed to True in a future version of pandas. Pass observed=False to retain current behavior or observed=True to adopt the future default and silence this warning.\n",
      "  binning_1bst_brk = binning_1bst_brk.groupby(['variable', 'bstbin'], group_keys=False)\\\n",
      "C:\\Users\\Faez\\anaconda3\\lib\\site-packages\\scorecardpy\\woebin.py:442: FutureWarning: The provided callable <built-in function sum> is currently using SeriesGroupBy.sum. In a future version of pandas, the provided callable will be used directly. To keep current behavior pass the string \"sum\" instead.\n",
      "  binning_1bst_brk = binning_1bst_brk.groupby(['variable', 'bstbin'], group_keys=False)\\\n",
      "C:\\Users\\Faez\\anaconda3\\lib\\site-packages\\scorecardpy\\woebin.py:442: FutureWarning: The provided callable <built-in function sum> is currently using SeriesGroupBy.sum. In a future version of pandas, the provided callable will be used directly. To keep current behavior pass the string \"sum\" instead.\n",
      "  binning_1bst_brk = binning_1bst_brk.groupby(['variable', 'bstbin'], group_keys=False)\\\n",
      "C:\\Users\\Faez\\anaconda3\\lib\\site-packages\\scorecardpy\\woebin.py:410: FutureWarning: The provided callable <built-in function sum> is currently using SeriesGroupBy.sum. In a future version of pandas, the provided callable will be used directly. To keep current behavior pass the string \"sum\" instead.\n",
      "  total_iv_all_brks = pd.melt(\n",
      "C:\\Users\\Faez\\anaconda3\\lib\\site-packages\\scorecardpy\\woebin.py:410: FutureWarning: The provided callable <built-in function sum> is currently using SeriesGroupBy.sum. In a future version of pandas, the provided callable will be used directly. To keep current behavior pass the string \"sum\" instead.\n",
      "  total_iv_all_brks = pd.melt(\n",
      "C:\\Users\\Faez\\anaconda3\\lib\\site-packages\\scorecardpy\\woebin.py:442: FutureWarning: The default of observed=False is deprecated and will be changed to True in a future version of pandas. Pass observed=False to retain current behavior or observed=True to adopt the future default and silence this warning.\n",
      "  binning_1bst_brk = binning_1bst_brk.groupby(['variable', 'bstbin'], group_keys=False)\\\n",
      "C:\\Users\\Faez\\anaconda3\\lib\\site-packages\\scorecardpy\\woebin.py:442: FutureWarning: The provided callable <built-in function sum> is currently using SeriesGroupBy.sum. In a future version of pandas, the provided callable will be used directly. To keep current behavior pass the string \"sum\" instead.\n",
      "  binning_1bst_brk = binning_1bst_brk.groupby(['variable', 'bstbin'], group_keys=False)\\\n",
      "C:\\Users\\Faez\\anaconda3\\lib\\site-packages\\scorecardpy\\woebin.py:442: FutureWarning: The provided callable <built-in function sum> is currently using SeriesGroupBy.sum. In a future version of pandas, the provided callable will be used directly. To keep current behavior pass the string \"sum\" instead.\n",
      "  binning_1bst_brk = binning_1bst_brk.groupby(['variable', 'bstbin'], group_keys=False)\\\n",
      "C:\\Users\\Faez\\anaconda3\\lib\\site-packages\\scorecardpy\\woebin.py:410: FutureWarning: The provided callable <built-in function sum> is currently using SeriesGroupBy.sum. In a future version of pandas, the provided callable will be used directly. To keep current behavior pass the string \"sum\" instead.\n",
      "  total_iv_all_brks = pd.melt(\n",
      "C:\\Users\\Faez\\anaconda3\\lib\\site-packages\\scorecardpy\\woebin.py:410: FutureWarning: The provided callable <built-in function sum> is currently using SeriesGroupBy.sum. In a future version of pandas, the provided callable will be used directly. To keep current behavior pass the string \"sum\" instead.\n",
      "  total_iv_all_brks = pd.melt(\n",
      "C:\\Users\\Faez\\anaconda3\\lib\\site-packages\\scorecardpy\\woebin.py:442: FutureWarning: The default of observed=False is deprecated and will be changed to True in a future version of pandas. Pass observed=False to retain current behavior or observed=True to adopt the future default and silence this warning.\n",
      "  binning_1bst_brk = binning_1bst_brk.groupby(['variable', 'bstbin'], group_keys=False)\\\n",
      "C:\\Users\\Faez\\anaconda3\\lib\\site-packages\\scorecardpy\\woebin.py:442: FutureWarning: The provided callable <built-in function sum> is currently using SeriesGroupBy.sum. In a future version of pandas, the provided callable will be used directly. To keep current behavior pass the string \"sum\" instead.\n",
      "  binning_1bst_brk = binning_1bst_brk.groupby(['variable', 'bstbin'], group_keys=False)\\\n",
      "C:\\Users\\Faez\\anaconda3\\lib\\site-packages\\scorecardpy\\woebin.py:442: FutureWarning: The provided callable <built-in function sum> is currently using SeriesGroupBy.sum. In a future version of pandas, the provided callable will be used directly. To keep current behavior pass the string \"sum\" instead.\n",
      "  binning_1bst_brk = binning_1bst_brk.groupby(['variable', 'bstbin'], group_keys=False)\\\n",
      "C:\\Users\\Faez\\anaconda3\\lib\\site-packages\\scorecardpy\\woebin.py:136: FutureWarning: The provided callable <built-in function sum> is currently using SeriesGroupBy.sum. In a future version of pandas, the provided callable will be used directly. To keep current behavior pass the string \"sum\" instead.\n",
      "  binning_sv = pd.merge(\n",
      "C:\\Users\\Faez\\anaconda3\\lib\\site-packages\\scorecardpy\\woebin.py:136: FutureWarning: The provided callable <built-in function sum> is currently using SeriesGroupBy.sum. In a future version of pandas, the provided callable will be used directly. To keep current behavior pass the string \"sum\" instead.\n",
      "  binning_sv = pd.merge(\n",
      "C:\\Users\\Faez\\anaconda3\\lib\\site-packages\\scorecardpy\\woebin.py:410: FutureWarning: The provided callable <built-in function sum> is currently using SeriesGroupBy.sum. In a future version of pandas, the provided callable will be used directly. To keep current behavior pass the string \"sum\" instead.\n",
      "  total_iv_all_brks = pd.melt(\n",
      "C:\\Users\\Faez\\anaconda3\\lib\\site-packages\\scorecardpy\\woebin.py:410: FutureWarning: The provided callable <built-in function sum> is currently using SeriesGroupBy.sum. In a future version of pandas, the provided callable will be used directly. To keep current behavior pass the string \"sum\" instead.\n",
      "  total_iv_all_brks = pd.melt(\n",
      "C:\\Users\\Faez\\anaconda3\\lib\\site-packages\\scorecardpy\\woebin.py:446: FutureWarning: The default of observed=False is deprecated and will be changed to True in a future version of pandas. Pass observed=False to retain current behavior or observed=True to adopt the future default and silence this warning.\n",
      "  binning_1bst_brk = binning_1bst_brk.groupby(['variable', 'bstbin'], group_keys=False)\\\n",
      "C:\\Users\\Faez\\anaconda3\\lib\\site-packages\\scorecardpy\\woebin.py:446: FutureWarning: The provided callable <built-in function sum> is currently using SeriesGroupBy.sum. In a future version of pandas, the provided callable will be used directly. To keep current behavior pass the string \"sum\" instead.\n",
      "  binning_1bst_brk = binning_1bst_brk.groupby(['variable', 'bstbin'], group_keys=False)\\\n",
      "C:\\Users\\Faez\\anaconda3\\lib\\site-packages\\scorecardpy\\woebin.py:446: FutureWarning: The provided callable <built-in function sum> is currently using SeriesGroupBy.sum. In a future version of pandas, the provided callable will be used directly. To keep current behavior pass the string \"sum\" instead.\n",
      "  binning_1bst_brk = binning_1bst_brk.groupby(['variable', 'bstbin'], group_keys=False)\\\n",
      "C:\\Users\\Faez\\anaconda3\\lib\\site-packages\\scorecardpy\\woebin.py:410: FutureWarning: The provided callable <built-in function sum> is currently using SeriesGroupBy.sum. In a future version of pandas, the provided callable will be used directly. To keep current behavior pass the string \"sum\" instead.\n",
      "  total_iv_all_brks = pd.melt(\n",
      "C:\\Users\\Faez\\anaconda3\\lib\\site-packages\\scorecardpy\\woebin.py:410: FutureWarning: The provided callable <built-in function sum> is currently using SeriesGroupBy.sum. In a future version of pandas, the provided callable will be used directly. To keep current behavior pass the string \"sum\" instead.\n",
      "  total_iv_all_brks = pd.melt(\n",
      "C:\\Users\\Faez\\anaconda3\\lib\\site-packages\\scorecardpy\\woebin.py:446: FutureWarning: The default of observed=False is deprecated and will be changed to True in a future version of pandas. Pass observed=False to retain current behavior or observed=True to adopt the future default and silence this warning.\n",
      "  binning_1bst_brk = binning_1bst_brk.groupby(['variable', 'bstbin'], group_keys=False)\\\n",
      "C:\\Users\\Faez\\anaconda3\\lib\\site-packages\\scorecardpy\\woebin.py:446: FutureWarning: The provided callable <built-in function sum> is currently using SeriesGroupBy.sum. In a future version of pandas, the provided callable will be used directly. To keep current behavior pass the string \"sum\" instead.\n",
      "  binning_1bst_brk = binning_1bst_brk.groupby(['variable', 'bstbin'], group_keys=False)\\\n",
      "C:\\Users\\Faez\\anaconda3\\lib\\site-packages\\scorecardpy\\woebin.py:446: FutureWarning: The provided callable <built-in function sum> is currently using SeriesGroupBy.sum. In a future version of pandas, the provided callable will be used directly. To keep current behavior pass the string \"sum\" instead.\n",
      "  binning_1bst_brk = binning_1bst_brk.groupby(['variable', 'bstbin'], group_keys=False)\\\n",
      "C:\\Users\\Faez\\anaconda3\\lib\\site-packages\\scorecardpy\\woebin.py:410: FutureWarning: The provided callable <built-in function sum> is currently using SeriesGroupBy.sum. In a future version of pandas, the provided callable will be used directly. To keep current behavior pass the string \"sum\" instead.\n",
      "  total_iv_all_brks = pd.melt(\n",
      "C:\\Users\\Faez\\anaconda3\\lib\\site-packages\\scorecardpy\\woebin.py:410: FutureWarning: The provided callable <built-in function sum> is currently using SeriesGroupBy.sum. In a future version of pandas, the provided callable will be used directly. To keep current behavior pass the string \"sum\" instead.\n",
      "  total_iv_all_brks = pd.melt(\n",
      "C:\\Users\\Faez\\anaconda3\\lib\\site-packages\\scorecardpy\\woebin.py:446: FutureWarning: The default of observed=False is deprecated and will be changed to True in a future version of pandas. Pass observed=False to retain current behavior or observed=True to adopt the future default and silence this warning.\n",
      "  binning_1bst_brk = binning_1bst_brk.groupby(['variable', 'bstbin'], group_keys=False)\\\n",
      "C:\\Users\\Faez\\anaconda3\\lib\\site-packages\\scorecardpy\\woebin.py:446: FutureWarning: The provided callable <built-in function sum> is currently using SeriesGroupBy.sum. In a future version of pandas, the provided callable will be used directly. To keep current behavior pass the string \"sum\" instead.\n",
      "  binning_1bst_brk = binning_1bst_brk.groupby(['variable', 'bstbin'], group_keys=False)\\\n",
      "C:\\Users\\Faez\\anaconda3\\lib\\site-packages\\scorecardpy\\woebin.py:446: FutureWarning: The provided callable <built-in function sum> is currently using SeriesGroupBy.sum. In a future version of pandas, the provided callable will be used directly. To keep current behavior pass the string \"sum\" instead.\n",
      "  binning_1bst_brk = binning_1bst_brk.groupby(['variable', 'bstbin'], group_keys=False)\\\n",
      "C:\\Users\\Faez\\anaconda3\\lib\\site-packages\\scorecardpy\\woebin.py:320: FutureWarning: The default of observed=False is deprecated and will be changed to True in a future version of pandas. Pass observed=False to retain current behavior or observed=True to adopt the future default and silence this warning.\n",
      "  init_bin = dtm.groupby('bin', group_keys=False)['y'].agg([n0, n1])\\\n",
      "C:\\Users\\Faez\\anaconda3\\lib\\site-packages\\scorecardpy\\woebin.py:161: FutureWarning: The default of observed=False is deprecated and will be changed to True in a future version of pandas. Pass observed=False to retain current behavior or observed=True to adopt the future default and silence this warning.\n",
      "  binning = dtm.groupby(['variable','bin'], group_keys=False)['y'].agg([n0, n1])\\\n",
      "C:\\Users\\Faez\\anaconda3\\lib\\site-packages\\scorecardpy\\woebin.py:361: FutureWarning: The provided callable <built-in function sum> is currently using SeriesGroupBy.sum. In a future version of pandas, the provided callable will be used directly. To keep current behavior pass the string \"sum\" instead.\n",
      "  init_bin = init_bin.groupby('brkp', group_keys=False).agg({\n",
      "C:\\Users\\Faez\\anaconda3\\lib\\site-packages\\scorecardpy\\woebin.py:361: FutureWarning: The provided callable <built-in function sum> is currently using SeriesGroupBy.sum. In a future version of pandas, the provided callable will be used directly. To keep current behavior pass the string \"sum\" instead.\n",
      "  init_bin = init_bin.groupby('brkp', group_keys=False).agg({\n",
      "C:\\Users\\Faez\\anaconda3\\lib\\site-packages\\scorecardpy\\woebin.py:361: FutureWarning: The provided callable <built-in function sum> is currently using SeriesGroupBy.sum. In a future version of pandas, the provided callable will be used directly. To keep current behavior pass the string \"sum\" instead.\n",
      "  init_bin = init_bin.groupby('brkp', group_keys=False).agg({\n"
     ]
    },
    {
     "name": "stderr",
     "output_type": "stream",
     "text": [
      "C:\\Users\\Faez\\anaconda3\\lib\\site-packages\\scorecardpy\\woebin.py:361: FutureWarning: The provided callable <built-in function sum> is currently using SeriesGroupBy.sum. In a future version of pandas, the provided callable will be used directly. To keep current behavior pass the string \"sum\" instead.\n",
      "  init_bin = init_bin.groupby('brkp', group_keys=False).agg({\n",
      "C:\\Users\\Faez\\anaconda3\\lib\\site-packages\\scorecardpy\\woebin.py:361: FutureWarning: The provided callable <built-in function sum> is currently using SeriesGroupBy.sum. In a future version of pandas, the provided callable will be used directly. To keep current behavior pass the string \"sum\" instead.\n",
      "  init_bin = init_bin.groupby('brkp', group_keys=False).agg({\n",
      "C:\\Users\\Faez\\anaconda3\\lib\\site-packages\\scorecardpy\\woebin.py:361: FutureWarning: The provided callable <built-in function sum> is currently using SeriesGroupBy.sum. In a future version of pandas, the provided callable will be used directly. To keep current behavior pass the string \"sum\" instead.\n",
      "  init_bin = init_bin.groupby('brkp', group_keys=False).agg({\n",
      "C:\\Users\\Faez\\anaconda3\\lib\\site-packages\\scorecardpy\\woebin.py:410: FutureWarning: The provided callable <built-in function sum> is currently using SeriesGroupBy.sum. In a future version of pandas, the provided callable will be used directly. To keep current behavior pass the string \"sum\" instead.\n",
      "  total_iv_all_brks = pd.melt(\n",
      "C:\\Users\\Faez\\anaconda3\\lib\\site-packages\\scorecardpy\\woebin.py:410: FutureWarning: The provided callable <built-in function sum> is currently using SeriesGroupBy.sum. In a future version of pandas, the provided callable will be used directly. To keep current behavior pass the string \"sum\" instead.\n",
      "  total_iv_all_brks = pd.melt(\n",
      "C:\\Users\\Faez\\anaconda3\\lib\\site-packages\\scorecardpy\\woebin.py:442: FutureWarning: The default of observed=False is deprecated and will be changed to True in a future version of pandas. Pass observed=False to retain current behavior or observed=True to adopt the future default and silence this warning.\n",
      "  binning_1bst_brk = binning_1bst_brk.groupby(['variable', 'bstbin'], group_keys=False)\\\n",
      "C:\\Users\\Faez\\anaconda3\\lib\\site-packages\\scorecardpy\\woebin.py:442: FutureWarning: The provided callable <built-in function sum> is currently using SeriesGroupBy.sum. In a future version of pandas, the provided callable will be used directly. To keep current behavior pass the string \"sum\" instead.\n",
      "  binning_1bst_brk = binning_1bst_brk.groupby(['variable', 'bstbin'], group_keys=False)\\\n",
      "C:\\Users\\Faez\\anaconda3\\lib\\site-packages\\scorecardpy\\woebin.py:442: FutureWarning: The provided callable <built-in function sum> is currently using SeriesGroupBy.sum. In a future version of pandas, the provided callable will be used directly. To keep current behavior pass the string \"sum\" instead.\n",
      "  binning_1bst_brk = binning_1bst_brk.groupby(['variable', 'bstbin'], group_keys=False)\\\n",
      "C:\\Users\\Faez\\anaconda3\\lib\\site-packages\\scorecardpy\\woebin.py:410: FutureWarning: The provided callable <built-in function sum> is currently using SeriesGroupBy.sum. In a future version of pandas, the provided callable will be used directly. To keep current behavior pass the string \"sum\" instead.\n",
      "  total_iv_all_brks = pd.melt(\n",
      "C:\\Users\\Faez\\anaconda3\\lib\\site-packages\\scorecardpy\\woebin.py:410: FutureWarning: The provided callable <built-in function sum> is currently using SeriesGroupBy.sum. In a future version of pandas, the provided callable will be used directly. To keep current behavior pass the string \"sum\" instead.\n",
      "  total_iv_all_brks = pd.melt(\n",
      "C:\\Users\\Faez\\anaconda3\\lib\\site-packages\\scorecardpy\\woebin.py:442: FutureWarning: The default of observed=False is deprecated and will be changed to True in a future version of pandas. Pass observed=False to retain current behavior or observed=True to adopt the future default and silence this warning.\n",
      "  binning_1bst_brk = binning_1bst_brk.groupby(['variable', 'bstbin'], group_keys=False)\\\n",
      "C:\\Users\\Faez\\anaconda3\\lib\\site-packages\\scorecardpy\\woebin.py:442: FutureWarning: The provided callable <built-in function sum> is currently using SeriesGroupBy.sum. In a future version of pandas, the provided callable will be used directly. To keep current behavior pass the string \"sum\" instead.\n",
      "  binning_1bst_brk = binning_1bst_brk.groupby(['variable', 'bstbin'], group_keys=False)\\\n",
      "C:\\Users\\Faez\\anaconda3\\lib\\site-packages\\scorecardpy\\woebin.py:442: FutureWarning: The provided callable <built-in function sum> is currently using SeriesGroupBy.sum. In a future version of pandas, the provided callable will be used directly. To keep current behavior pass the string \"sum\" instead.\n",
      "  binning_1bst_brk = binning_1bst_brk.groupby(['variable', 'bstbin'], group_keys=False)\\\n",
      "C:\\Users\\Faez\\anaconda3\\lib\\site-packages\\scorecardpy\\woebin.py:410: FutureWarning: The provided callable <built-in function sum> is currently using SeriesGroupBy.sum. In a future version of pandas, the provided callable will be used directly. To keep current behavior pass the string \"sum\" instead.\n",
      "  total_iv_all_brks = pd.melt(\n",
      "C:\\Users\\Faez\\anaconda3\\lib\\site-packages\\scorecardpy\\woebin.py:410: FutureWarning: The provided callable <built-in function sum> is currently using SeriesGroupBy.sum. In a future version of pandas, the provided callable will be used directly. To keep current behavior pass the string \"sum\" instead.\n",
      "  total_iv_all_brks = pd.melt(\n",
      "C:\\Users\\Faez\\anaconda3\\lib\\site-packages\\scorecardpy\\woebin.py:442: FutureWarning: The default of observed=False is deprecated and will be changed to True in a future version of pandas. Pass observed=False to retain current behavior or observed=True to adopt the future default and silence this warning.\n",
      "  binning_1bst_brk = binning_1bst_brk.groupby(['variable', 'bstbin'], group_keys=False)\\\n",
      "C:\\Users\\Faez\\anaconda3\\lib\\site-packages\\scorecardpy\\woebin.py:442: FutureWarning: The provided callable <built-in function sum> is currently using SeriesGroupBy.sum. In a future version of pandas, the provided callable will be used directly. To keep current behavior pass the string \"sum\" instead.\n",
      "  binning_1bst_brk = binning_1bst_brk.groupby(['variable', 'bstbin'], group_keys=False)\\\n",
      "C:\\Users\\Faez\\anaconda3\\lib\\site-packages\\scorecardpy\\woebin.py:442: FutureWarning: The provided callable <built-in function sum> is currently using SeriesGroupBy.sum. In a future version of pandas, the provided callable will be used directly. To keep current behavior pass the string \"sum\" instead.\n",
      "  binning_1bst_brk = binning_1bst_brk.groupby(['variable', 'bstbin'], group_keys=False)\\\n",
      "C:\\Users\\Faez\\anaconda3\\lib\\site-packages\\scorecardpy\\woebin.py:136: FutureWarning: The provided callable <built-in function sum> is currently using SeriesGroupBy.sum. In a future version of pandas, the provided callable will be used directly. To keep current behavior pass the string \"sum\" instead.\n",
      "  binning_sv = pd.merge(\n",
      "C:\\Users\\Faez\\anaconda3\\lib\\site-packages\\scorecardpy\\woebin.py:136: FutureWarning: The provided callable <built-in function sum> is currently using SeriesGroupBy.sum. In a future version of pandas, the provided callable will be used directly. To keep current behavior pass the string \"sum\" instead.\n",
      "  binning_sv = pd.merge(\n",
      "C:\\Users\\Faez\\anaconda3\\lib\\site-packages\\scorecardpy\\woebin.py:320: FutureWarning: The default of observed=False is deprecated and will be changed to True in a future version of pandas. Pass observed=False to retain current behavior or observed=True to adopt the future default and silence this warning.\n",
      "  init_bin = dtm.groupby('bin', group_keys=False)['y'].agg([n0, n1])\\\n",
      "C:\\Users\\Faez\\anaconda3\\lib\\site-packages\\scorecardpy\\woebin.py:410: FutureWarning: The provided callable <built-in function sum> is currently using SeriesGroupBy.sum. In a future version of pandas, the provided callable will be used directly. To keep current behavior pass the string \"sum\" instead.\n",
      "  total_iv_all_brks = pd.melt(\n",
      "C:\\Users\\Faez\\anaconda3\\lib\\site-packages\\scorecardpy\\woebin.py:410: FutureWarning: The provided callable <built-in function sum> is currently using SeriesGroupBy.sum. In a future version of pandas, the provided callable will be used directly. To keep current behavior pass the string \"sum\" instead.\n",
      "  total_iv_all_brks = pd.melt(\n"
     ]
    },
    {
     "name": "stderr",
     "output_type": "stream",
     "text": [
      "C:\\Users\\Faez\\anaconda3\\lib\\site-packages\\scorecardpy\\woebin.py:442: FutureWarning: The default of observed=False is deprecated and will be changed to True in a future version of pandas. Pass observed=False to retain current behavior or observed=True to adopt the future default and silence this warning.\n",
      "  binning_1bst_brk = binning_1bst_brk.groupby(['variable', 'bstbin'], group_keys=False)\\\n",
      "C:\\Users\\Faez\\anaconda3\\lib\\site-packages\\scorecardpy\\woebin.py:442: FutureWarning: The provided callable <built-in function sum> is currently using SeriesGroupBy.sum. In a future version of pandas, the provided callable will be used directly. To keep current behavior pass the string \"sum\" instead.\n",
      "  binning_1bst_brk = binning_1bst_brk.groupby(['variable', 'bstbin'], group_keys=False)\\\n",
      "C:\\Users\\Faez\\anaconda3\\lib\\site-packages\\scorecardpy\\woebin.py:442: FutureWarning: The provided callable <built-in function sum> is currently using SeriesGroupBy.sum. In a future version of pandas, the provided callable will be used directly. To keep current behavior pass the string \"sum\" instead.\n",
      "  binning_1bst_brk = binning_1bst_brk.groupby(['variable', 'bstbin'], group_keys=False)\\\n",
      "C:\\Users\\Faez\\anaconda3\\lib\\site-packages\\scorecardpy\\woebin.py:410: FutureWarning: The provided callable <built-in function sum> is currently using SeriesGroupBy.sum. In a future version of pandas, the provided callable will be used directly. To keep current behavior pass the string \"sum\" instead.\n",
      "  total_iv_all_brks = pd.melt(\n",
      "C:\\Users\\Faez\\anaconda3\\lib\\site-packages\\scorecardpy\\woebin.py:410: FutureWarning: The provided callable <built-in function sum> is currently using SeriesGroupBy.sum. In a future version of pandas, the provided callable will be used directly. To keep current behavior pass the string \"sum\" instead.\n",
      "  total_iv_all_brks = pd.melt(\n",
      "C:\\Users\\Faez\\anaconda3\\lib\\site-packages\\scorecardpy\\woebin.py:442: FutureWarning: The default of observed=False is deprecated and will be changed to True in a future version of pandas. Pass observed=False to retain current behavior or observed=True to adopt the future default and silence this warning.\n",
      "  binning_1bst_brk = binning_1bst_brk.groupby(['variable', 'bstbin'], group_keys=False)\\\n",
      "C:\\Users\\Faez\\anaconda3\\lib\\site-packages\\scorecardpy\\woebin.py:442: FutureWarning: The provided callable <built-in function sum> is currently using SeriesGroupBy.sum. In a future version of pandas, the provided callable will be used directly. To keep current behavior pass the string \"sum\" instead.\n",
      "  binning_1bst_brk = binning_1bst_brk.groupby(['variable', 'bstbin'], group_keys=False)\\\n",
      "C:\\Users\\Faez\\anaconda3\\lib\\site-packages\\scorecardpy\\woebin.py:442: FutureWarning: The provided callable <built-in function sum> is currently using SeriesGroupBy.sum. In a future version of pandas, the provided callable will be used directly. To keep current behavior pass the string \"sum\" instead.\n",
      "  binning_1bst_brk = binning_1bst_brk.groupby(['variable', 'bstbin'], group_keys=False)\\\n",
      "C:\\Users\\Faez\\anaconda3\\lib\\site-packages\\scorecardpy\\woebin.py:410: FutureWarning: The provided callable <built-in function sum> is currently using SeriesGroupBy.sum. In a future version of pandas, the provided callable will be used directly. To keep current behavior pass the string \"sum\" instead.\n",
      "  total_iv_all_brks = pd.melt(\n",
      "C:\\Users\\Faez\\anaconda3\\lib\\site-packages\\scorecardpy\\woebin.py:410: FutureWarning: The provided callable <built-in function sum> is currently using SeriesGroupBy.sum. In a future version of pandas, the provided callable will be used directly. To keep current behavior pass the string \"sum\" instead.\n",
      "  total_iv_all_brks = pd.melt(\n",
      "C:\\Users\\Faez\\anaconda3\\lib\\site-packages\\scorecardpy\\woebin.py:442: FutureWarning: The default of observed=False is deprecated and will be changed to True in a future version of pandas. Pass observed=False to retain current behavior or observed=True to adopt the future default and silence this warning.\n",
      "  binning_1bst_brk = binning_1bst_brk.groupby(['variable', 'bstbin'], group_keys=False)\\\n",
      "C:\\Users\\Faez\\anaconda3\\lib\\site-packages\\scorecardpy\\woebin.py:442: FutureWarning: The provided callable <built-in function sum> is currently using SeriesGroupBy.sum. In a future version of pandas, the provided callable will be used directly. To keep current behavior pass the string \"sum\" instead.\n",
      "  binning_1bst_brk = binning_1bst_brk.groupby(['variable', 'bstbin'], group_keys=False)\\\n",
      "C:\\Users\\Faez\\anaconda3\\lib\\site-packages\\scorecardpy\\woebin.py:442: FutureWarning: The provided callable <built-in function sum> is currently using SeriesGroupBy.sum. In a future version of pandas, the provided callable will be used directly. To keep current behavior pass the string \"sum\" instead.\n",
      "  binning_1bst_brk = binning_1bst_brk.groupby(['variable', 'bstbin'], group_keys=False)\\\n",
      "C:\\Users\\Faez\\anaconda3\\lib\\site-packages\\scorecardpy\\woebin.py:136: FutureWarning: The provided callable <built-in function sum> is currently using SeriesGroupBy.sum. In a future version of pandas, the provided callable will be used directly. To keep current behavior pass the string \"sum\" instead.\n",
      "  binning_sv = pd.merge(\n",
      "C:\\Users\\Faez\\anaconda3\\lib\\site-packages\\scorecardpy\\woebin.py:136: FutureWarning: The provided callable <built-in function sum> is currently using SeriesGroupBy.sum. In a future version of pandas, the provided callable will be used directly. To keep current behavior pass the string \"sum\" instead.\n",
      "  binning_sv = pd.merge(\n",
      "C:\\Users\\Faez\\anaconda3\\lib\\site-packages\\scorecardpy\\woebin.py:320: FutureWarning: The default of observed=False is deprecated and will be changed to True in a future version of pandas. Pass observed=False to retain current behavior or observed=True to adopt the future default and silence this warning.\n",
      "  init_bin = dtm.groupby('bin', group_keys=False)['y'].agg([n0, n1])\\\n",
      "C:\\Users\\Faez\\anaconda3\\lib\\site-packages\\scorecardpy\\woebin.py:361: FutureWarning: The provided callable <built-in function sum> is currently using SeriesGroupBy.sum. In a future version of pandas, the provided callable will be used directly. To keep current behavior pass the string \"sum\" instead.\n",
      "  init_bin = init_bin.groupby('brkp', group_keys=False).agg({\n",
      "C:\\Users\\Faez\\anaconda3\\lib\\site-packages\\scorecardpy\\woebin.py:361: FutureWarning: The provided callable <built-in function sum> is currently using SeriesGroupBy.sum. In a future version of pandas, the provided callable will be used directly. To keep current behavior pass the string \"sum\" instead.\n",
      "  init_bin = init_bin.groupby('brkp', group_keys=False).agg({\n",
      "C:\\Users\\Faez\\anaconda3\\lib\\site-packages\\scorecardpy\\woebin.py:361: FutureWarning: The provided callable <built-in function sum> is currently using SeriesGroupBy.sum. In a future version of pandas, the provided callable will be used directly. To keep current behavior pass the string \"sum\" instead.\n",
      "  init_bin = init_bin.groupby('brkp', group_keys=False).agg({\n",
      "C:\\Users\\Faez\\anaconda3\\lib\\site-packages\\scorecardpy\\woebin.py:361: FutureWarning: The provided callable <built-in function sum> is currently using SeriesGroupBy.sum. In a future version of pandas, the provided callable will be used directly. To keep current behavior pass the string \"sum\" instead.\n",
      "  init_bin = init_bin.groupby('brkp', group_keys=False).agg({\n",
      "C:\\Users\\Faez\\anaconda3\\lib\\site-packages\\scorecardpy\\woebin.py:361: FutureWarning: The provided callable <built-in function sum> is currently using SeriesGroupBy.sum. In a future version of pandas, the provided callable will be used directly. To keep current behavior pass the string \"sum\" instead.\n",
      "  init_bin = init_bin.groupby('brkp', group_keys=False).agg({\n",
      "C:\\Users\\Faez\\anaconda3\\lib\\site-packages\\scorecardpy\\woebin.py:361: FutureWarning: The provided callable <built-in function sum> is currently using SeriesGroupBy.sum. In a future version of pandas, the provided callable will be used directly. To keep current behavior pass the string \"sum\" instead.\n",
      "  init_bin = init_bin.groupby('brkp', group_keys=False).agg({\n",
      "C:\\Users\\Faez\\anaconda3\\lib\\site-packages\\scorecardpy\\woebin.py:361: FutureWarning: The provided callable <built-in function sum> is currently using SeriesGroupBy.sum. In a future version of pandas, the provided callable will be used directly. To keep current behavior pass the string \"sum\" instead.\n",
      "  init_bin = init_bin.groupby('brkp', group_keys=False).agg({\n"
     ]
    },
    {
     "name": "stderr",
     "output_type": "stream",
     "text": [
      "C:\\Users\\Faez\\anaconda3\\lib\\site-packages\\scorecardpy\\woebin.py:410: FutureWarning: The provided callable <built-in function sum> is currently using SeriesGroupBy.sum. In a future version of pandas, the provided callable will be used directly. To keep current behavior pass the string \"sum\" instead.\n",
      "  total_iv_all_brks = pd.melt(\n",
      "C:\\Users\\Faez\\anaconda3\\lib\\site-packages\\scorecardpy\\woebin.py:410: FutureWarning: The provided callable <built-in function sum> is currently using SeriesGroupBy.sum. In a future version of pandas, the provided callable will be used directly. To keep current behavior pass the string \"sum\" instead.\n",
      "  total_iv_all_brks = pd.melt(\n",
      "C:\\Users\\Faez\\anaconda3\\lib\\site-packages\\scorecardpy\\woebin.py:442: FutureWarning: The default of observed=False is deprecated and will be changed to True in a future version of pandas. Pass observed=False to retain current behavior or observed=True to adopt the future default and silence this warning.\n",
      "  binning_1bst_brk = binning_1bst_brk.groupby(['variable', 'bstbin'], group_keys=False)\\\n",
      "C:\\Users\\Faez\\anaconda3\\lib\\site-packages\\scorecardpy\\woebin.py:442: FutureWarning: The provided callable <built-in function sum> is currently using SeriesGroupBy.sum. In a future version of pandas, the provided callable will be used directly. To keep current behavior pass the string \"sum\" instead.\n",
      "  binning_1bst_brk = binning_1bst_brk.groupby(['variable', 'bstbin'], group_keys=False)\\\n",
      "C:\\Users\\Faez\\anaconda3\\lib\\site-packages\\scorecardpy\\woebin.py:442: FutureWarning: The provided callable <built-in function sum> is currently using SeriesGroupBy.sum. In a future version of pandas, the provided callable will be used directly. To keep current behavior pass the string \"sum\" instead.\n",
      "  binning_1bst_brk = binning_1bst_brk.groupby(['variable', 'bstbin'], group_keys=False)\\\n",
      "C:\\Users\\Faez\\anaconda3\\lib\\site-packages\\scorecardpy\\woebin.py:410: FutureWarning: The provided callable <built-in function sum> is currently using SeriesGroupBy.sum. In a future version of pandas, the provided callable will be used directly. To keep current behavior pass the string \"sum\" instead.\n",
      "  total_iv_all_brks = pd.melt(\n",
      "C:\\Users\\Faez\\anaconda3\\lib\\site-packages\\scorecardpy\\woebin.py:410: FutureWarning: The provided callable <built-in function sum> is currently using SeriesGroupBy.sum. In a future version of pandas, the provided callable will be used directly. To keep current behavior pass the string \"sum\" instead.\n",
      "  total_iv_all_brks = pd.melt(\n",
      "C:\\Users\\Faez\\anaconda3\\lib\\site-packages\\scorecardpy\\woebin.py:442: FutureWarning: The default of observed=False is deprecated and will be changed to True in a future version of pandas. Pass observed=False to retain current behavior or observed=True to adopt the future default and silence this warning.\n",
      "  binning_1bst_brk = binning_1bst_brk.groupby(['variable', 'bstbin'], group_keys=False)\\\n",
      "C:\\Users\\Faez\\anaconda3\\lib\\site-packages\\scorecardpy\\woebin.py:442: FutureWarning: The provided callable <built-in function sum> is currently using SeriesGroupBy.sum. In a future version of pandas, the provided callable will be used directly. To keep current behavior pass the string \"sum\" instead.\n",
      "  binning_1bst_brk = binning_1bst_brk.groupby(['variable', 'bstbin'], group_keys=False)\\\n",
      "C:\\Users\\Faez\\anaconda3\\lib\\site-packages\\scorecardpy\\woebin.py:442: FutureWarning: The provided callable <built-in function sum> is currently using SeriesGroupBy.sum. In a future version of pandas, the provided callable will be used directly. To keep current behavior pass the string \"sum\" instead.\n",
      "  binning_1bst_brk = binning_1bst_brk.groupby(['variable', 'bstbin'], group_keys=False)\\\n",
      "C:\\Users\\Faez\\anaconda3\\lib\\site-packages\\scorecardpy\\woebin.py:410: FutureWarning: The provided callable <built-in function sum> is currently using SeriesGroupBy.sum. In a future version of pandas, the provided callable will be used directly. To keep current behavior pass the string \"sum\" instead.\n",
      "  total_iv_all_brks = pd.melt(\n",
      "C:\\Users\\Faez\\anaconda3\\lib\\site-packages\\scorecardpy\\woebin.py:410: FutureWarning: The provided callable <built-in function sum> is currently using SeriesGroupBy.sum. In a future version of pandas, the provided callable will be used directly. To keep current behavior pass the string \"sum\" instead.\n",
      "  total_iv_all_brks = pd.melt(\n",
      "C:\\Users\\Faez\\anaconda3\\lib\\site-packages\\scorecardpy\\woebin.py:442: FutureWarning: The default of observed=False is deprecated and will be changed to True in a future version of pandas. Pass observed=False to retain current behavior or observed=True to adopt the future default and silence this warning.\n",
      "  binning_1bst_brk = binning_1bst_brk.groupby(['variable', 'bstbin'], group_keys=False)\\\n",
      "C:\\Users\\Faez\\anaconda3\\lib\\site-packages\\scorecardpy\\woebin.py:442: FutureWarning: The provided callable <built-in function sum> is currently using SeriesGroupBy.sum. In a future version of pandas, the provided callable will be used directly. To keep current behavior pass the string \"sum\" instead.\n",
      "  binning_1bst_brk = binning_1bst_brk.groupby(['variable', 'bstbin'], group_keys=False)\\\n",
      "C:\\Users\\Faez\\anaconda3\\lib\\site-packages\\scorecardpy\\woebin.py:442: FutureWarning: The provided callable <built-in function sum> is currently using SeriesGroupBy.sum. In a future version of pandas, the provided callable will be used directly. To keep current behavior pass the string \"sum\" instead.\n",
      "  binning_1bst_brk = binning_1bst_brk.groupby(['variable', 'bstbin'], group_keys=False)\\\n",
      "C:\\Users\\Faez\\anaconda3\\lib\\site-packages\\scorecardpy\\woebin.py:410: FutureWarning: The provided callable <built-in function sum> is currently using SeriesGroupBy.sum. In a future version of pandas, the provided callable will be used directly. To keep current behavior pass the string \"sum\" instead.\n",
      "  total_iv_all_brks = pd.melt(\n",
      "C:\\Users\\Faez\\anaconda3\\lib\\site-packages\\scorecardpy\\woebin.py:410: FutureWarning: The provided callable <built-in function sum> is currently using SeriesGroupBy.sum. In a future version of pandas, the provided callable will be used directly. To keep current behavior pass the string \"sum\" instead.\n",
      "  total_iv_all_brks = pd.melt(\n",
      "C:\\Users\\Faez\\anaconda3\\lib\\site-packages\\scorecardpy\\woebin.py:442: FutureWarning: The default of observed=False is deprecated and will be changed to True in a future version of pandas. Pass observed=False to retain current behavior or observed=True to adopt the future default and silence this warning.\n",
      "  binning_1bst_brk = binning_1bst_brk.groupby(['variable', 'bstbin'], group_keys=False)\\\n",
      "C:\\Users\\Faez\\anaconda3\\lib\\site-packages\\scorecardpy\\woebin.py:442: FutureWarning: The provided callable <built-in function sum> is currently using SeriesGroupBy.sum. In a future version of pandas, the provided callable will be used directly. To keep current behavior pass the string \"sum\" instead.\n",
      "  binning_1bst_brk = binning_1bst_brk.groupby(['variable', 'bstbin'], group_keys=False)\\\n",
      "C:\\Users\\Faez\\anaconda3\\lib\\site-packages\\scorecardpy\\woebin.py:442: FutureWarning: The provided callable <built-in function sum> is currently using SeriesGroupBy.sum. In a future version of pandas, the provided callable will be used directly. To keep current behavior pass the string \"sum\" instead.\n",
      "  binning_1bst_brk = binning_1bst_brk.groupby(['variable', 'bstbin'], group_keys=False)\\\n",
      "C:\\Users\\Faez\\anaconda3\\lib\\site-packages\\scorecardpy\\woebin.py:410: FutureWarning: The provided callable <built-in function sum> is currently using SeriesGroupBy.sum. In a future version of pandas, the provided callable will be used directly. To keep current behavior pass the string \"sum\" instead.\n",
      "  total_iv_all_brks = pd.melt(\n",
      "C:\\Users\\Faez\\anaconda3\\lib\\site-packages\\scorecardpy\\woebin.py:410: FutureWarning: The provided callable <built-in function sum> is currently using SeriesGroupBy.sum. In a future version of pandas, the provided callable will be used directly. To keep current behavior pass the string \"sum\" instead.\n",
      "  total_iv_all_brks = pd.melt(\n",
      "C:\\Users\\Faez\\anaconda3\\lib\\site-packages\\scorecardpy\\woebin.py:442: FutureWarning: The default of observed=False is deprecated and will be changed to True in a future version of pandas. Pass observed=False to retain current behavior or observed=True to adopt the future default and silence this warning.\n",
      "  binning_1bst_brk = binning_1bst_brk.groupby(['variable', 'bstbin'], group_keys=False)\\\n",
      "C:\\Users\\Faez\\anaconda3\\lib\\site-packages\\scorecardpy\\woebin.py:442: FutureWarning: The provided callable <built-in function sum> is currently using SeriesGroupBy.sum. In a future version of pandas, the provided callable will be used directly. To keep current behavior pass the string \"sum\" instead.\n",
      "  binning_1bst_brk = binning_1bst_brk.groupby(['variable', 'bstbin'], group_keys=False)\\\n",
      "C:\\Users\\Faez\\anaconda3\\lib\\site-packages\\scorecardpy\\woebin.py:442: FutureWarning: The provided callable <built-in function sum> is currently using SeriesGroupBy.sum. In a future version of pandas, the provided callable will be used directly. To keep current behavior pass the string \"sum\" instead.\n",
      "  binning_1bst_brk = binning_1bst_brk.groupby(['variable', 'bstbin'], group_keys=False)\\\n",
      "C:\\Users\\Faez\\anaconda3\\lib\\site-packages\\scorecardpy\\woebin.py:410: FutureWarning: The provided callable <built-in function sum> is currently using SeriesGroupBy.sum. In a future version of pandas, the provided callable will be used directly. To keep current behavior pass the string \"sum\" instead.\n",
      "  total_iv_all_brks = pd.melt(\n",
      "C:\\Users\\Faez\\anaconda3\\lib\\site-packages\\scorecardpy\\woebin.py:410: FutureWarning: The provided callable <built-in function sum> is currently using SeriesGroupBy.sum. In a future version of pandas, the provided callable will be used directly. To keep current behavior pass the string \"sum\" instead.\n",
      "  total_iv_all_brks = pd.melt(\n"
     ]
    },
    {
     "name": "stderr",
     "output_type": "stream",
     "text": [
      "C:\\Users\\Faez\\anaconda3\\lib\\site-packages\\scorecardpy\\woebin.py:442: FutureWarning: The default of observed=False is deprecated and will be changed to True in a future version of pandas. Pass observed=False to retain current behavior or observed=True to adopt the future default and silence this warning.\n",
      "  binning_1bst_brk = binning_1bst_brk.groupby(['variable', 'bstbin'], group_keys=False)\\\n",
      "C:\\Users\\Faez\\anaconda3\\lib\\site-packages\\scorecardpy\\woebin.py:442: FutureWarning: The provided callable <built-in function sum> is currently using SeriesGroupBy.sum. In a future version of pandas, the provided callable will be used directly. To keep current behavior pass the string \"sum\" instead.\n",
      "  binning_1bst_brk = binning_1bst_brk.groupby(['variable', 'bstbin'], group_keys=False)\\\n",
      "C:\\Users\\Faez\\anaconda3\\lib\\site-packages\\scorecardpy\\woebin.py:442: FutureWarning: The provided callable <built-in function sum> is currently using SeriesGroupBy.sum. In a future version of pandas, the provided callable will be used directly. To keep current behavior pass the string \"sum\" instead.\n",
      "  binning_1bst_brk = binning_1bst_brk.groupby(['variable', 'bstbin'], group_keys=False)\\\n"
     ]
    }
   ],
   "source": [
    "# automatically calculate bin ranges, bins is a dictionary\n",
    "bins = sc.woebin(train, y = 'BAD')\n",
    "\n",
    "# for variables, bindetails in bins.items():\n",
    "#     print(variables, \" : \")\n",
    "#     display(bindetails)\n",
    "#     print(\"--\"*50)"
   ]
  },
  {
   "cell_type": "markdown",
   "metadata": {
    "nteract": {
     "transient": {
      "deleting": false
     }
    }
   },
   "source": [
    "### Logistic regression with WOE encoding\n",
    "\n",
    "Use `sc.woebin_ply` to encode the WOE values\n",
    "\n",
    "Generate the logistic regression model based on the encoded WOE values"
   ]
  },
  {
   "cell_type": "code",
   "execution_count": 11,
   "metadata": {
    "execution": {
     "iopub.execute_input": "2023-03-21T03:38:52.800Z",
     "iopub.status.busy": "2023-03-21T03:38:52.703Z",
     "iopub.status.idle": "2023-03-21T03:39:07.564Z",
     "shell.execute_reply": "2023-03-21T03:39:08.283Z"
    },
    "jupyter": {
     "outputs_hidden": false,
     "source_hidden": false
    },
    "nteract": {
     "transient": {
      "deleting": false
     }
    }
   },
   "outputs": [
    {
     "name": "stdout",
     "output_type": "stream",
     "text": [
      "[INFO] converting into woe values ...\n",
      "[INFO] converting into woe values ...\n"
     ]
    },
    {
     "data": {
      "text/html": [
       "<div>\n",
       "<style scoped>\n",
       "    .dataframe tbody tr th:only-of-type {\n",
       "        vertical-align: middle;\n",
       "    }\n",
       "\n",
       "    .dataframe tbody tr th {\n",
       "        vertical-align: top;\n",
       "    }\n",
       "\n",
       "    .dataframe thead th {\n",
       "        text-align: right;\n",
       "    }\n",
       "</style>\n",
       "<table border=\"1\" class=\"dataframe\">\n",
       "  <thead>\n",
       "    <tr style=\"text-align: right;\">\n",
       "      <th></th>\n",
       "      <th>BAD</th>\n",
       "      <th>YOJ_woe</th>\n",
       "      <th>DEROG_woe</th>\n",
       "      <th>NINQ_woe</th>\n",
       "      <th>REASON_woe</th>\n",
       "      <th>CLNO_woe</th>\n",
       "      <th>DEBTINC_woe</th>\n",
       "      <th>CLAGE_woe</th>\n",
       "      <th>JOB_woe</th>\n",
       "      <th>LOAN_woe</th>\n",
       "      <th>DELINQ_woe</th>\n",
       "      <th>VALUE_woe</th>\n",
       "    </tr>\n",
       "  </thead>\n",
       "  <tbody>\n",
       "    <tr>\n",
       "      <th>0</th>\n",
       "      <td>1</td>\n",
       "      <td>0.081210</td>\n",
       "      <td>-0.233648</td>\n",
       "      <td>-0.039651</td>\n",
       "      <td>0.177056</td>\n",
       "      <td>0.667759</td>\n",
       "      <td>1.894565</td>\n",
       "      <td>0.259807</td>\n",
       "      <td>0.198965</td>\n",
       "      <td>1.325945</td>\n",
       "      <td>-0.445745</td>\n",
       "      <td>0.792667</td>\n",
       "    </tr>\n",
       "    <tr>\n",
       "      <th>1</th>\n",
       "      <td>1</td>\n",
       "      <td>-0.216439</td>\n",
       "      <td>-0.233648</td>\n",
       "      <td>-0.288345</td>\n",
       "      <td>0.177056</td>\n",
       "      <td>-0.118164</td>\n",
       "      <td>1.894565</td>\n",
       "      <td>0.259807</td>\n",
       "      <td>0.198965</td>\n",
       "      <td>1.325945</td>\n",
       "      <td>1.762133</td>\n",
       "      <td>-0.101266</td>\n",
       "    </tr>\n",
       "    <tr>\n",
       "      <th>3</th>\n",
       "      <td>1</td>\n",
       "      <td>-0.401866</td>\n",
       "      <td>-0.560767</td>\n",
       "      <td>-0.333547</td>\n",
       "      <td>-0.057025</td>\n",
       "      <td>0.206724</td>\n",
       "      <td>1.894565</td>\n",
       "      <td>0.335453</td>\n",
       "      <td>-1.072540</td>\n",
       "      <td>1.325945</td>\n",
       "      <td>-0.514745</td>\n",
       "      <td>4.608769</td>\n",
       "    </tr>\n",
       "    <tr>\n",
       "      <th>4</th>\n",
       "      <td>0</td>\n",
       "      <td>0.240885</td>\n",
       "      <td>-0.233648</td>\n",
       "      <td>-0.288345</td>\n",
       "      <td>0.177056</td>\n",
       "      <td>-0.118164</td>\n",
       "      <td>1.894565</td>\n",
       "      <td>0.259807</td>\n",
       "      <td>-0.448386</td>\n",
       "      <td>1.325945</td>\n",
       "      <td>-0.445745</td>\n",
       "      <td>-0.504405</td>\n",
       "    </tr>\n",
       "    <tr>\n",
       "      <th>5</th>\n",
       "      <td>1</td>\n",
       "      <td>-0.216439</td>\n",
       "      <td>-0.233648</td>\n",
       "      <td>-0.039651</td>\n",
       "      <td>0.177056</td>\n",
       "      <td>0.667759</td>\n",
       "      <td>-1.338278</td>\n",
       "      <td>0.259807</td>\n",
       "      <td>0.198965</td>\n",
       "      <td>1.325945</td>\n",
       "      <td>-0.445745</td>\n",
       "      <td>0.473603</td>\n",
       "    </tr>\n",
       "    <tr>\n",
       "      <th>...</th>\n",
       "      <td>...</td>\n",
       "      <td>...</td>\n",
       "      <td>...</td>\n",
       "      <td>...</td>\n",
       "      <td>...</td>\n",
       "      <td>...</td>\n",
       "      <td>...</td>\n",
       "      <td>...</td>\n",
       "      <td>...</td>\n",
       "      <td>...</td>\n",
       "      <td>...</td>\n",
       "      <td>...</td>\n",
       "    </tr>\n",
       "    <tr>\n",
       "      <th>5951</th>\n",
       "      <td>0</td>\n",
       "      <td>0.081210</td>\n",
       "      <td>-0.233648</td>\n",
       "      <td>-0.288345</td>\n",
       "      <td>-0.085788</td>\n",
       "      <td>-0.118164</td>\n",
       "      <td>-1.338278</td>\n",
       "      <td>-0.254891</td>\n",
       "      <td>0.198965</td>\n",
       "      <td>0.189499</td>\n",
       "      <td>-0.445745</td>\n",
       "      <td>-0.504405</td>\n",
       "    </tr>\n",
       "    <tr>\n",
       "      <th>5952</th>\n",
       "      <td>0</td>\n",
       "      <td>0.081210</td>\n",
       "      <td>-0.233648</td>\n",
       "      <td>-0.288345</td>\n",
       "      <td>-0.085788</td>\n",
       "      <td>-0.118164</td>\n",
       "      <td>-1.338278</td>\n",
       "      <td>-0.254891</td>\n",
       "      <td>0.198965</td>\n",
       "      <td>0.189499</td>\n",
       "      <td>-0.445745</td>\n",
       "      <td>-0.504405</td>\n",
       "    </tr>\n",
       "    <tr>\n",
       "      <th>5955</th>\n",
       "      <td>0</td>\n",
       "      <td>0.081210</td>\n",
       "      <td>-0.233648</td>\n",
       "      <td>-0.288345</td>\n",
       "      <td>-0.085788</td>\n",
       "      <td>-0.118164</td>\n",
       "      <td>-1.338278</td>\n",
       "      <td>-0.254891</td>\n",
       "      <td>0.198965</td>\n",
       "      <td>0.189499</td>\n",
       "      <td>-0.445745</td>\n",
       "      <td>-0.504405</td>\n",
       "    </tr>\n",
       "    <tr>\n",
       "      <th>5957</th>\n",
       "      <td>0</td>\n",
       "      <td>0.081210</td>\n",
       "      <td>-0.233648</td>\n",
       "      <td>-0.288345</td>\n",
       "      <td>-0.085788</td>\n",
       "      <td>-0.118164</td>\n",
       "      <td>-1.338278</td>\n",
       "      <td>-0.254891</td>\n",
       "      <td>0.198965</td>\n",
       "      <td>0.189499</td>\n",
       "      <td>-0.445745</td>\n",
       "      <td>-0.504405</td>\n",
       "    </tr>\n",
       "    <tr>\n",
       "      <th>5958</th>\n",
       "      <td>0</td>\n",
       "      <td>0.081210</td>\n",
       "      <td>-0.233648</td>\n",
       "      <td>-0.288345</td>\n",
       "      <td>-0.085788</td>\n",
       "      <td>-0.118164</td>\n",
       "      <td>-1.338278</td>\n",
       "      <td>-0.254891</td>\n",
       "      <td>0.198965</td>\n",
       "      <td>0.189499</td>\n",
       "      <td>-0.445745</td>\n",
       "      <td>-0.504405</td>\n",
       "    </tr>\n",
       "  </tbody>\n",
       "</table>\n",
       "<p>4172 rows × 12 columns</p>\n",
       "</div>"
      ],
      "text/plain": [
       "      BAD   YOJ_woe  DEROG_woe  NINQ_woe  REASON_woe  CLNO_woe  DEBTINC_woe  \\\n",
       "0       1  0.081210  -0.233648 -0.039651    0.177056  0.667759     1.894565   \n",
       "1       1 -0.216439  -0.233648 -0.288345    0.177056 -0.118164     1.894565   \n",
       "3       1 -0.401866  -0.560767 -0.333547   -0.057025  0.206724     1.894565   \n",
       "4       0  0.240885  -0.233648 -0.288345    0.177056 -0.118164     1.894565   \n",
       "5       1 -0.216439  -0.233648 -0.039651    0.177056  0.667759    -1.338278   \n",
       "...   ...       ...        ...       ...         ...       ...          ...   \n",
       "5951    0  0.081210  -0.233648 -0.288345   -0.085788 -0.118164    -1.338278   \n",
       "5952    0  0.081210  -0.233648 -0.288345   -0.085788 -0.118164    -1.338278   \n",
       "5955    0  0.081210  -0.233648 -0.288345   -0.085788 -0.118164    -1.338278   \n",
       "5957    0  0.081210  -0.233648 -0.288345   -0.085788 -0.118164    -1.338278   \n",
       "5958    0  0.081210  -0.233648 -0.288345   -0.085788 -0.118164    -1.338278   \n",
       "\n",
       "      CLAGE_woe   JOB_woe  LOAN_woe  DELINQ_woe  VALUE_woe  \n",
       "0      0.259807  0.198965  1.325945   -0.445745   0.792667  \n",
       "1      0.259807  0.198965  1.325945    1.762133  -0.101266  \n",
       "3      0.335453 -1.072540  1.325945   -0.514745   4.608769  \n",
       "4      0.259807 -0.448386  1.325945   -0.445745  -0.504405  \n",
       "5      0.259807  0.198965  1.325945   -0.445745   0.473603  \n",
       "...         ...       ...       ...         ...        ...  \n",
       "5951  -0.254891  0.198965  0.189499   -0.445745  -0.504405  \n",
       "5952  -0.254891  0.198965  0.189499   -0.445745  -0.504405  \n",
       "5955  -0.254891  0.198965  0.189499   -0.445745  -0.504405  \n",
       "5957  -0.254891  0.198965  0.189499   -0.445745  -0.504405  \n",
       "5958  -0.254891  0.198965  0.189499   -0.445745  -0.504405  \n",
       "\n",
       "[4172 rows x 12 columns]"
      ]
     },
     "execution_count": 11,
     "metadata": {},
     "output_type": "execute_result"
    }
   ],
   "source": [
    "# sample code\n",
    "\n",
    "# prepare a dataset with the WOE values for Logistic Regression training\n",
    "# woebin_ply() converts original values of input data into woe\n",
    "train_woe = sc.woebin_ply(train, bins)\n",
    "test_woe = sc.woebin_ply(test, bins)\n",
    "train_woe"
   ]
  },
  {
   "cell_type": "code",
   "execution_count": 7,
   "metadata": {
    "execution": {
     "iopub.execute_input": "2023-03-21T03:39:07.628Z",
     "iopub.status.busy": "2023-03-21T03:39:07.601Z",
     "iopub.status.idle": "2023-03-21T03:39:07.719Z",
     "shell.execute_reply": "2023-03-21T03:39:08.298Z"
    },
    "jupyter": {
     "outputs_hidden": false,
     "source_hidden": false
    },
    "nteract": {
     "transient": {
      "deleting": false
     }
    }
   },
   "outputs": [
    {
     "name": "stderr",
     "output_type": "stream",
     "text": [
      "C:\\Users\\Faez\\anaconda3\\lib\\site-packages\\sklearn\\utils\\validation.py:623: FutureWarning: is_sparse is deprecated and will be removed in a future version. Check `isinstance(dtype, pd.SparseDtype)` instead.\n",
      "  if not hasattr(array, \"sparse\") and array.dtypes.apply(is_sparse).any():\n"
     ]
    },
    {
     "data": {
      "text/plain": [
       "intercept      0.017257\n",
       "CLAGE_woe      1.059094\n",
       "REASON_woe     0.064315\n",
       "DEROG_woe      0.691944\n",
       "JOB_woe        0.949626\n",
       "DEBTINC_woe    0.952677\n",
       "LOAN_woe       0.461214\n",
       "CLNO_woe       0.951065\n",
       "NINQ_woe       0.529535\n",
       "YOJ_woe        1.069509\n",
       "DELINQ_woe     0.957346\n",
       "VALUE_woe      0.881628\n",
       "dtype: float64"
      ]
     },
     "execution_count": 7,
     "metadata": {},
     "output_type": "execute_result"
    }
   ],
   "source": [
    "# sample code\n",
    "\n",
    "# create the X, y parts of data for train and test\n",
    "y_train = train_woe.loc[:, 'BAD']\n",
    "X_train = train_woe.loc[:, train_woe.columns != 'BAD']\n",
    "y_test = test_woe.loc[:, 'BAD']\n",
    "X_test = test_woe.loc[:, train_woe.columns != 'BAD']\n",
    "\n",
    "# create a logistic regression model object\n",
    "lr = linear_model.LogisticRegression(class_weight='balanced')\n",
    "lr.fit(X_train, y_train)\n",
    "pd.Series(np.concatenate([lr.intercept_, lr.coef_[0]]),\n",
    "          index = np.concatenate([['intercept'], lr.feature_names_in_]) )"
   ]
  },
  {
   "cell_type": "markdown",
   "metadata": {
    "nteract": {
     "transient": {
      "deleting": false
     }
    }
   },
   "source": [
    "### Generate scorecard\n",
    "\n",
    "Use `sc.scorecard` to generate the scorecard"
   ]
  },
  {
   "cell_type": "code",
   "execution_count": 8,
   "metadata": {
    "execution": {
     "iopub.execute_input": "2023-03-21T03:48:23.709Z",
     "iopub.status.busy": "2023-03-21T03:48:23.681Z",
     "iopub.status.idle": "2023-03-21T03:48:23.769Z",
     "shell.execute_reply": "2023-03-21T03:48:23.837Z"
    },
    "jupyter": {
     "outputs_hidden": false,
     "source_hidden": false
    },
    "nteract": {
     "transient": {
      "deleting": false
     }
    }
   },
   "outputs": [
    {
     "name": "stdout",
     "output_type": "stream",
     "text": [
      "{'CLAGE':   variable            bin  points\n",
      "0    CLAGE        missing    37.0\n",
      "1    CLAGE    [-inf,70.0)    19.0\n",
      "2    CLAGE   [70.0,170.0)    39.0\n",
      "3    CLAGE  [170.0,240.0)    55.0\n",
      "4    CLAGE  [240.0,280.0)    78.0\n",
      "5    CLAGE    [280.0,inf)    66.0,\n",
      " 'CLNO':    variable          bin  points\n",
      "26     CLNO      missing    41.0\n",
      "27     CLNO  [-inf,10.0)    28.0\n",
      "28     CLNO  [10.0,24.0)    50.0\n",
      "29     CLNO  [24.0,33.0)    54.0\n",
      "30     CLNO   [33.0,inf)    41.0,\n",
      " 'DEBTINC':    variable          bin  points\n",
      "18  DEBTINC      missing    -5.0\n",
      "19  DEBTINC  [-inf,40.0)    84.0\n",
      "20  DEBTINC  [40.0,42.0)    67.0\n",
      "21  DEBTINC   [42.0,inf)    27.0,\n",
      " 'DELINQ':    variable         bin  points\n",
      "42   DELINQ     missing    61.0\n",
      "43   DELINQ  [-inf,1.0)    59.0\n",
      "44   DELINQ   [1.0,2.0)    26.0\n",
      "45   DELINQ   [2.0,inf)    -2.0,\n",
      " 'DEROG':    variable         bin  points\n",
      "9     DEROG     missing    58.0\n",
      "10    DEROG  [-inf,1.0)    51.0\n",
      "11    DEROG   [1.0,2.0)    27.0\n",
      "12    DEROG   [2.0,inf)    12.0,\n",
      " 'JOB':    variable           bin  points\n",
      "13      JOB       missing    76.0\n",
      "14      JOB        Office    59.0\n",
      "15      JOB       ProfExe    54.0\n",
      "16      JOB   Mgr%,%Other    41.0\n",
      "17      JOB  Sales%,%Self    30.0,\n",
      " 'LOAN':    variable                bin  points\n",
      "22     LOAN      [-inf,6000.0)    29.0\n",
      "23     LOAN   [6000.0,17000.0)    46.0\n",
      "24     LOAN  [17000.0,38000.0)    51.0\n",
      "25     LOAN      [38000.0,inf)    44.0,\n",
      " 'NINQ':    variable         bin  points\n",
      "31     NINQ     missing    52.0\n",
      "32     NINQ  [-inf,1.0)    51.0\n",
      "33     NINQ   [1.0,2.0)    47.0\n",
      "34     NINQ   [2.0,4.0)    43.0\n",
      "35     NINQ   [4.0,inf)    30.0,\n",
      " 'REASON':   variable      bin  points\n",
      "6   REASON  missing    47.0\n",
      "7   REASON  DebtCon    47.0\n",
      "8   REASON  HomeImp    46.0,\n",
      " 'VALUE':    variable                  bin  points\n",
      "46    VALUE              missing   -70.0\n",
      "47    VALUE       [-inf,40000.0)    27.0\n",
      "48    VALUE    [40000.0,50000.0)    35.0\n",
      "49    VALUE    [50000.0,90000.0)    49.0\n",
      "50    VALUE   [90000.0,125000.0)    60.0\n",
      "51    VALUE  [125000.0,170000.0)    44.0\n",
      "52    VALUE  [170000.0,200000.0)    72.0\n",
      "53    VALUE       [200000.0,inf)    46.0,\n",
      " 'YOJ':    variable          bin  points\n",
      "36      YOJ      missing    59.0\n",
      "37      YOJ   [-inf,5.0)    39.0\n",
      "38      YOJ    [5.0,6.0)    46.0\n",
      "39      YOJ   [6.0,10.0)    53.0\n",
      "40      YOJ  [10.0,21.0)    44.0\n",
      "41      YOJ   [21.0,inf)    60.0,\n",
      " 'basepoints':      variable  bin  points\n",
      "0  basepoints  NaN       0}\n"
     ]
    }
   ],
   "source": [
    "# sample code\n",
    "\n",
    "# generate a card from the model and bins. The scores will be based on probability of default from the model\n",
    "# bins = bins created from sc.woebin\n",
    "# lr = fitted logistic regression model\n",
    "# align target odds with probabity of default = 5%\n",
    "# odds = p/(1-p) = 0.05/(1-0.05) = 0.0526 ~= 1/19\n",
    "card = sc.scorecard(bins, lr, X_train.columns, points0 = 600, odds0 = 1/19, pdo = 20, basepoints_eq0 = True)\n",
    "\n",
    "pprint.pprint(card)"
   ]
  },
  {
   "cell_type": "markdown",
   "metadata": {},
   "source": [
    "**Ex Q1. Calculate the approval status for a new application**\n",
    "\n",
    "Manually calcuate the score and approval status for a cutoff score of 600 and an application with the following information:<BR>\n",
    "- LOAN = 88,900\n",
    "- VALUE = 57,264\n",
    "- REASON = DebtCon\n",
    "- JOB = Other\n",
    "- YOJ = 16.0\n",
    "- DEROG = 0\n",
    "- DELINQ = 0\n",
    "- CLAGE = 221.8\n",
    "- NINQ = 0\n",
    "- CLNO = 16\n",
    "- DEBTINC = 36.1"
   ]
  },
  {
   "cell_type": "markdown",
   "metadata": {},
   "source": [
    "Your answer here"
   ]
  },
  {
   "cell_type": "markdown",
   "metadata": {},
   "source": [
    "Use `sc.scorecard_ply` to score a new application with the same values"
   ]
  },
  {
   "cell_type": "code",
   "execution_count": 9,
   "metadata": {},
   "outputs": [
    {
     "name": "stdout",
     "output_type": "stream",
     "text": [
      "        App Value  Points\n",
      "LOAN        88900    44.0\n",
      "VALUE       57264    49.0\n",
      "REASON    DebtCon    47.0\n",
      "JOB         Other    41.0\n",
      "YOJ          16.0    44.0\n",
      "DEROG         0.0    51.0\n",
      "DELINQ        0.0    59.0\n",
      "CLAGE       221.8    55.0\n",
      "NINQ          0.0    51.0\n",
      "CLNO         16.0    50.0\n",
      "DEBTINC      36.1    84.0\n",
      "score         NaN   575.0\n"
     ]
    }
   ],
   "source": [
    "# sample code\n",
    "\n",
    "# calulate credit score for new application\n",
    "col = ['LOAN','VALUE','REASON','JOB','YOJ','DEROG','DELINQ','CLAGE','NINQ','CLNO','DEBTINC']\n",
    "val = [[88900,57264,'DebtCon','Other',16.0,0.0,0.0,221.8,0.0,16.0,36.1]]\n",
    "new_appl = pd.DataFrame(val, columns = col)\n",
    "\n",
    "new_appl_score = sc.scorecard_ply(new_appl, card, only_total_score = False).transpose()\n",
    "new_appl_score.index = new_appl_score.index.str.replace('_points', '')\n",
    "\n",
    "summary = pd.concat([new_appl.transpose(), new_appl_score], axis=1)\n",
    "summary.columns = ['App Value', 'Points']\n",
    "print(summary)"
   ]
  },
  {
   "cell_type": "markdown",
   "metadata": {},
   "source": [
    "### Score all the test and train data\n",
    "\n",
    "Use `sc.scorecard_ply` to score all the test and train data"
   ]
  },
  {
   "cell_type": "code",
   "execution_count": 12,
   "metadata": {},
   "outputs": [],
   "source": [
    "# sample code\n",
    "\n",
    "# credit score for samples in test and train\n",
    "train_score = sc.scorecard_ply(train, card)\n",
    "test_score = sc.scorecard_ply(test, card)"
   ]
  },
  {
   "cell_type": "markdown",
   "metadata": {},
   "source": [
    "### Evaluate the model's performance\n",
    "\n",
    "**Calculate Percentage Correctly Classified measures on the scorecard model**\n"
   ]
  },
  {
   "cell_type": "code",
   "execution_count": 11,
   "metadata": {},
   "outputs": [
    {
     "name": "stdout",
     "output_type": "stream",
     "text": [
      "*** Training Data Performance ***\n",
      "Confusion matrix:\n",
      "[[1981 1359]\n",
      " [  35  797]]\n",
      "PCC measures:\n",
      "              precision    recall  f1-score   support\n",
      "\n",
      "           0       0.98      0.59      0.74      3340\n",
      "           1       0.37      0.96      0.53       832\n",
      "\n",
      "    accuracy                           0.67      4172\n",
      "   macro avg       0.68      0.78      0.64      4172\n",
      "weighted avg       0.86      0.67      0.70      4172\n",
      "\n",
      "*** Test Data Performance ***\n",
      "Confusion matrix:\n",
      "[[882 549]\n",
      " [ 16 341]]\n",
      "PCC measures:\n",
      "              precision    recall  f1-score   support\n",
      "\n",
      "           0       0.98      0.62      0.76      1431\n",
      "           1       0.38      0.96      0.55       357\n",
      "\n",
      "    accuracy                           0.68      1788\n",
      "   macro avg       0.68      0.79      0.65      1788\n",
      "weighted avg       0.86      0.68      0.72      1788\n",
      "\n"
     ]
    }
   ],
   "source": [
    "# sample code\n",
    "\n",
    "# check model performance at 5:1 odds of default\n",
    "cutoff=560\n",
    "\n",
    "# create sets of predicted bad to compare with actual bad\n",
    "predicted_bad_train = (train_score < cutoff)\n",
    "predicted_bad_train_list = predicted_bad_train.astype(int).values.flatten().tolist()\n",
    "predicted_bad_test = (test_score < cutoff)\n",
    "predicted_bad_test_list = predicted_bad_test.astype(int).values.flatten().tolist()\n",
    "\n",
    "print('*** Training Data Performance ***')\n",
    "print('Confusion matrix:')\n",
    "print(metrics.confusion_matrix(y_train, predicted_bad_train_list))\n",
    "print('PCC measures:')\n",
    "print(metrics.classification_report(y_train, predicted_bad_train_list))\n",
    "\n",
    "print('*** Test Data Performance ***')\n",
    "print('Confusion matrix:')\n",
    "print(metrics.confusion_matrix(y_test, predicted_bad_test_list))\n",
    "print('PCC measures:')\n",
    "print(metrics.classification_report(y_test, predicted_bad_test_list))"
   ]
  },
  {
   "cell_type": "markdown",
   "metadata": {},
   "source": [
    "**Ex Q2. Compare the train vs test model performance**\n",
    "\n",
    "- How do the f1-scores for the training and test dataset compare?\n",
    "- How do the recall and specificity compare?\n",
    "- Does the model appear to be overfitting the training data? "
   ]
  },
  {
   "cell_type": "markdown",
   "metadata": {},
   "source": [
    "Your answer here"
   ]
  },
  {
   "cell_type": "markdown",
   "metadata": {},
   "source": [
    "### Evaluate effect of changing the cutoff score\n",
    "\n",
    "Examine the distribution of the scores"
   ]
  },
  {
   "cell_type": "code",
   "execution_count": null,
   "metadata": {},
   "outputs": [],
   "source": [
    "# combine scores for train and test data to assess distribution for entire population\n",
    "combined_score = pd.concat([train_score, test_score], ignore_index=True)\n",
    "\n",
    "# plot distribution of scores on copmbined data\n",
    "combined_score.hist(figsize = (7, 4), bins = 60)\n",
    "plt.tight_layout()"
   ]
  },
  {
   "cell_type": "code",
   "execution_count": null,
   "metadata": {},
   "outputs": [],
   "source": [
    "# sample code\n",
    "cutoff = 560\n",
    "\n",
    "approval_count = train_score[train_score[\"score\"]>cutoff].count()['score']\n",
    "approval_rate = approval_count/train_score.shape[0]\n",
    "print(f'Cutoff score of {cutoff:.0f}: {approval_count:,.0f} applications approved ({approval_rate:.1%})')"
   ]
  },
  {
   "cell_type": "code",
   "execution_count": null,
   "metadata": {},
   "outputs": [],
   "source": [
    "# sample code\n",
    "\n",
    "# calculate expected number of defaults\n",
    "odds_at_cutoff = 5\n",
    "\n",
    "default_prob = 1/(1+odds_at_cutoff)\n",
    "defaults = default_prob*approval_count\n",
    "print(f'Cutoff score of {cutoff:.0f}: {defaults:.0f} defaults expected')"
   ]
  },
  {
   "cell_type": "markdown",
   "metadata": {},
   "source": [
    "**Ex Q3. Evaluate the effect of adjusting the cutoff score**\n",
    "\n",
    "Change the cutoff score to 640\n",
    "- What is the number of applications approved?\n",
    "- What is the number of defaults expected? \n",
    "- How does the recall and specificity performance change?"
   ]
  },
  {
   "cell_type": "code",
   "execution_count": null,
   "metadata": {},
   "outputs": [],
   "source": [
    "# your code here"
   ]
  },
  {
   "cell_type": "markdown",
   "metadata": {},
   "source": [
    "Your answer here"
   ]
  },
  {
   "cell_type": "markdown",
   "metadata": {
    "nteract": {
     "transient": {
      "deleting": false
     }
    }
   },
   "source": [
    "### DIY\n",
    "\n",
    "**Use scorecardpy for your group assignment**"
   ]
  }
 ],
 "metadata": {
  "kernel_info": {
   "name": "python3"
  },
  "kernelspec": {
   "display_name": "Python 3 (ipykernel)",
   "language": "python",
   "name": "python3"
  },
  "language_info": {
   "codemirror_mode": {
    "name": "ipython",
    "version": 3
   },
   "file_extension": ".py",
   "mimetype": "text/x-python",
   "name": "python",
   "nbconvert_exporter": "python",
   "pygments_lexer": "ipython3",
   "version": "3.9.12"
  },
  "nteract": {
   "version": "0.28.0"
  }
 },
 "nbformat": 4,
 "nbformat_minor": 1
}

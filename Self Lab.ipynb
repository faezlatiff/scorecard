{
 "cells": [
  {
   "cell_type": "markdown",
   "metadata": {},
   "source": [
    "<h2>Financial Analytics</h2>"
   ]
  },
  {
   "cell_type": "code",
   "execution_count": 11,
   "metadata": {},
   "outputs": [
    {
     "name": "stdout",
     "output_type": "stream",
     "text": [
      "Collecting yfinance==0.2.31\n",
      "  Using cached yfinance-0.2.31-py2.py3-none-any.whl (65 kB)\n",
      "Requirement already satisfied: numpy>=1.16.5 in c:\\users\\faez\\anaconda3\\lib\\site-packages (from yfinance==0.2.31) (1.21.5)\n",
      "Requirement already satisfied: peewee>=3.16.2 in c:\\users\\faez\\anaconda3\\lib\\site-packages (from yfinance==0.2.31) (3.17.8)\n",
      "Requirement already satisfied: html5lib>=1.1 in c:\\users\\faez\\anaconda3\\lib\\site-packages (from yfinance==0.2.31) (1.1)\n",
      "Requirement already satisfied: beautifulsoup4>=4.11.1 in c:\\users\\faez\\anaconda3\\lib\\site-packages (from yfinance==0.2.31) (4.11.1)\n",
      "Requirement already satisfied: pandas>=1.3.0 in c:\\users\\faez\\anaconda3\\lib\\site-packages (from yfinance==0.2.31) (1.4.2)\n",
      "Requirement already satisfied: multitasking>=0.0.7 in c:\\users\\faez\\anaconda3\\lib\\site-packages (from yfinance==0.2.31) (0.0.11)\n",
      "Requirement already satisfied: frozendict>=2.3.4 in c:\\users\\faez\\anaconda3\\lib\\site-packages (from yfinance==0.2.31) (2.4.6)\n",
      "Requirement already satisfied: lxml>=4.9.1 in c:\\users\\faez\\anaconda3\\lib\\site-packages (from yfinance==0.2.31) (5.3.0)\n",
      "Requirement already satisfied: appdirs>=1.4.4 in c:\\users\\faez\\anaconda3\\lib\\site-packages (from yfinance==0.2.31) (1.4.4)\n",
      "Requirement already satisfied: pytz>=2022.5 in c:\\users\\faez\\anaconda3\\lib\\site-packages (from yfinance==0.2.31) (2024.2)\n",
      "Requirement already satisfied: requests>=2.31 in c:\\users\\faez\\anaconda3\\lib\\site-packages (from yfinance==0.2.31) (2.32.3)\n",
      "Requirement already satisfied: soupsieve>1.2 in c:\\users\\faez\\anaconda3\\lib\\site-packages (from beautifulsoup4>=4.11.1->yfinance==0.2.31) (2.3.1)\n",
      "Requirement already satisfied: six>=1.9 in c:\\users\\faez\\anaconda3\\lib\\site-packages (from html5lib>=1.1->yfinance==0.2.31) (1.16.0)\n",
      "Requirement already satisfied: webencodings in c:\\users\\faez\\anaconda3\\lib\\site-packages (from html5lib>=1.1->yfinance==0.2.31) (0.5.1)\n",
      "Requirement already satisfied: python-dateutil>=2.8.1 in c:\\users\\faez\\anaconda3\\lib\\site-packages (from pandas>=1.3.0->yfinance==0.2.31) (2.8.2)\n",
      "Requirement already satisfied: urllib3<3,>=1.21.1 in c:\\users\\faez\\anaconda3\\lib\\site-packages (from requests>=2.31->yfinance==0.2.31) (1.26.9)\n",
      "Requirement already satisfied: idna<4,>=2.5 in c:\\users\\faez\\anaconda3\\lib\\site-packages (from requests>=2.31->yfinance==0.2.31) (3.3)\n",
      "Requirement already satisfied: certifi>=2017.4.17 in c:\\users\\faez\\anaconda3\\lib\\site-packages (from requests>=2.31->yfinance==0.2.31) (2021.10.8)\n",
      "Requirement already satisfied: charset-normalizer<4,>=2 in c:\\users\\faez\\anaconda3\\lib\\site-packages (from requests>=2.31->yfinance==0.2.31) (2.0.4)\n",
      "Installing collected packages: yfinance\n",
      "Successfully installed yfinance-0.2.31\n"
     ]
    }
   ],
   "source": [
    "# pip uninstall -y yfinance\n",
    "!pip install yfinance==0.2.31"
   ]
  },
  {
   "cell_type": "code",
   "execution_count": 83,
   "metadata": {},
   "outputs": [],
   "source": [
    "import matplotlib.pyplot as plt\n",
    "import pandas as pd\n",
    "import numpy as np\n",
    "from matplotlib.ticker import FuncFormatter\n",
    "import yfinance as yf\n",
    "import statsmodels.api as sm\n",
    "\n",
    "from scipy.stats import norm\n",
    "\n",
    "#if compatibity problems force versions\n",
    "# !pip install scipy==1.7.3\n",
    "# !pip install numpy==1.22.4"
   ]
  },
  {
   "cell_type": "markdown",
   "metadata": {},
   "source": [
    "### Histograms with normal distribution plot \n",
    "Histograms can be generated using the plt.hist() method. <BR>\n",
    "A normal distribution curve can be generated using the numpy.linspace() method."
   ]
  },
  {
   "cell_type": "markdown",
   "metadata": {},
   "source": [
    "**Get the price data and calculate percent returns**"
   ]
  },
  {
   "cell_type": "code",
   "execution_count": 84,
   "metadata": {},
   "outputs": [],
   "source": [
    "# define function to get last trading day of year\n",
    "def last_trading_day(year):\n",
    "    return (pd.Timestamp(f'{year}-12-31') if pd.Timestamp(f'{year}-12-31').isoweekday() < 6 \\\n",
    "            else pd.Timestamp(f'{year}-12-31') - pd.offsets.BDay(1)).strftime('%Y-%m-%d')\n",
    "\n",
    "def first_trading_day(year):\n",
    "    return (pd.Timestamp(f'{year}-01-02') if pd.Timestamp(f'{year}-01-02').isoweekday() < 6 \\\n",
    "        else pd.Timestamp(f'{year}-01-02') - pd.offsets.BDay(-1)).strftime('%Y-%m-%d')"
   ]
  },
  {
   "cell_type": "code",
   "execution_count": 89,
   "metadata": {},
   "outputs": [
    {
     "name": "stderr",
     "output_type": "stream",
     "text": [
      "[*********************100%***********************]  3 of 3 completed\n"
     ]
    },
    {
     "data": {
      "text/html": [
       "<div>\n",
       "<style scoped>\n",
       "    .dataframe tbody tr th:only-of-type {\n",
       "        vertical-align: middle;\n",
       "    }\n",
       "\n",
       "    .dataframe tbody tr th {\n",
       "        vertical-align: top;\n",
       "    }\n",
       "\n",
       "    .dataframe thead th {\n",
       "        text-align: right;\n",
       "    }\n",
       "</style>\n",
       "<table border=\"1\" class=\"dataframe\">\n",
       "  <thead>\n",
       "    <tr style=\"text-align: right;\">\n",
       "      <th>Ticker</th>\n",
       "      <th>AIY.SI</th>\n",
       "      <th>TSM</th>\n",
       "      <th>VWRA.L</th>\n",
       "    </tr>\n",
       "    <tr>\n",
       "      <th>Date</th>\n",
       "      <th></th>\n",
       "      <th></th>\n",
       "      <th></th>\n",
       "    </tr>\n",
       "  </thead>\n",
       "  <tbody>\n",
       "    <tr>\n",
       "      <th>2022-01-03</th>\n",
       "      <td>-0.014286</td>\n",
       "      <td>0.070568</td>\n",
       "      <td>0.000000</td>\n",
       "    </tr>\n",
       "    <tr>\n",
       "      <th>2022-01-04</th>\n",
       "      <td>0.018116</td>\n",
       "      <td>0.035714</td>\n",
       "      <td>0.004565</td>\n",
       "    </tr>\n",
       "    <tr>\n",
       "      <th>2022-01-05</th>\n",
       "      <td>-0.020166</td>\n",
       "      <td>-0.047526</td>\n",
       "      <td>0.000000</td>\n",
       "    </tr>\n",
       "    <tr>\n",
       "      <th>2022-01-06</th>\n",
       "      <td>-0.010896</td>\n",
       "      <td>0.011097</td>\n",
       "      <td>-0.016496</td>\n",
       "    </tr>\n",
       "    <tr>\n",
       "      <th>2022-01-07</th>\n",
       "      <td>-0.039168</td>\n",
       "      <td>-0.038686</td>\n",
       "      <td>-0.002567</td>\n",
       "    </tr>\n",
       "    <tr>\n",
       "      <th>...</th>\n",
       "      <td>...</td>\n",
       "      <td>...</td>\n",
       "      <td>...</td>\n",
       "    </tr>\n",
       "    <tr>\n",
       "      <th>2024-12-24</th>\n",
       "      <td>0.000000</td>\n",
       "      <td>-0.004967</td>\n",
       "      <td>0.007620</td>\n",
       "    </tr>\n",
       "    <tr>\n",
       "      <th>2024-12-26</th>\n",
       "      <td>-0.005391</td>\n",
       "      <td>-0.015848</td>\n",
       "      <td>0.000000</td>\n",
       "    </tr>\n",
       "    <tr>\n",
       "      <th>2024-12-27</th>\n",
       "      <td>0.000000</td>\n",
       "      <td>-0.007042</td>\n",
       "      <td>-0.000428</td>\n",
       "    </tr>\n",
       "    <tr>\n",
       "      <th>2024-12-30</th>\n",
       "      <td>0.000000</td>\n",
       "      <td>-0.006150</td>\n",
       "      <td>-0.009993</td>\n",
       "    </tr>\n",
       "    <tr>\n",
       "      <th>2024-12-31</th>\n",
       "      <td>0.004065</td>\n",
       "      <td>-0.014472</td>\n",
       "      <td>0.004614</td>\n",
       "    </tr>\n",
       "  </tbody>\n",
       "</table>\n",
       "<p>774 rows × 3 columns</p>\n",
       "</div>"
      ],
      "text/plain": [
       "Ticker        AIY.SI       TSM    VWRA.L\n",
       "Date                                    \n",
       "2022-01-03 -0.014286  0.070568  0.000000\n",
       "2022-01-04  0.018116  0.035714  0.004565\n",
       "2022-01-05 -0.020166 -0.047526  0.000000\n",
       "2022-01-06 -0.010896  0.011097 -0.016496\n",
       "2022-01-07 -0.039168 -0.038686 -0.002567\n",
       "...              ...       ...       ...\n",
       "2024-12-24  0.000000 -0.004967  0.007620\n",
       "2024-12-26 -0.005391 -0.015848  0.000000\n",
       "2024-12-27  0.000000 -0.007042 -0.000428\n",
       "2024-12-30  0.000000 -0.006150 -0.009993\n",
       "2024-12-31  0.004065 -0.014472  0.004614\n",
       "\n",
       "[774 rows x 3 columns]"
      ]
     },
     "execution_count": 89,
     "metadata": {},
     "output_type": "execute_result"
    }
   ],
   "source": [
    "# sample code\n",
    "tickers = ['VWRA.L', 'TSM', 'AIY.SI']\n",
    "\n",
    "start_date = last_trading_day(2021)\n",
    "end_date = first_trading_day(2025)\n",
    "\n",
    "data1 = yf.download(tickers, start= start_date, end= end_date, auto_adjust=False)\n",
    "stock_prices = data1[['Adj Close']]\n",
    "stocks_pct_chg = stock_prices['Adj Close'].pct_change().dropna()\n",
    "\n",
    "stocks_pct_chg"
   ]
  },
  {
   "cell_type": "markdown",
   "metadata": {},
   "source": [
    "**Plot the histogram with a normal distribution curve overlay**"
   ]
  },
  {
   "cell_type": "code",
   "execution_count": 90,
   "metadata": {
    "nteract": {
     "transient": {
      "deleting": false
     }
    }
   },
   "outputs": [
    {
     "name": "stdout",
     "output_type": "stream",
     "text": [
      "Kurtosis\n",
      "Ticker\n",
      "AIY.SI    4.800342\n",
      "TSM       2.422149\n",
      "VWRA.L    1.704401\n",
      "dtype: float64\n"
     ]
    },
    {
     "data": {
      "image/png": "[encoded data removed]",
      "text/plain": [
       "<Figure size 1152x432 with 3 Axes>"
      ]
     },
     "metadata": {
      "needs_background": "light"
     },
     "output_type": "display_data"
    }
   ],
   "source": [
    "fig, axes = plt.subplots(1, 3, figsize=(16, 6))\n",
    "bins = 30\n",
    "\n",
    "# Histogram on first subplot\n",
    "axes[0].hist(stocks_pct_chg['VWRA.L'], bins=bins, edgecolor='black', density=True)\n",
    "axes[0].set_title('VWRA.L Histogram')\n",
    "axes[0].set_xlabel('Daily Return')\n",
    "axes[0].set_ylabel('Frequency')\n",
    "\n",
    "mu, std = norm.fit(stocks_pct_chg['VWRA.L'])\n",
    "xmin, xmax = axes[0].get_xlim()\n",
    "x = np.linspace(xmin, xmax, 100)\n",
    "p = norm.pdf(x, mu, std)\n",
    "axes[0].plot(x, p, 'r', linewidth=2)\n",
    "axes[0].set_xlabel('Daily Return VWRA.L')\n",
    "\n",
    "\n",
    "# Histogram on second subplot\n",
    "axes[1].hist(stocks_pct_chg['TSM'], bins=bins, edgecolor='black', density=True)\n",
    "axes[1].set_title('TSM Histogram')\n",
    "axes[1].set_xlabel('Daily Return')\n",
    "axes[1].set_ylabel('Frequency')\n",
    "\n",
    "mu, std = norm.fit(stocks_pct_chg['TSM'])\n",
    "xmin, xmax = axes[1].get_xlim()\n",
    "x = np.linspace(xmin, xmax, 100)\n",
    "p = norm.pdf(x, mu, std)\n",
    "axes[1].plot(x, p, 'r', linewidth=2)\n",
    "axes[1].set_xlabel('Daily Return TSM')\n",
    "\n",
    "# Histogram on third subplot\n",
    "axes[2].hist(stocks_pct_chg['AIY.SI'], bins=bins, edgecolor='black', density=True)\n",
    "axes[2].set_title('AIY.SI Histogram')\n",
    "axes[2].set_xlabel('Daily Return')\n",
    "axes[2].set_ylabel('Frequency')\n",
    "\n",
    "mu, std = norm.fit(stocks_pct_chg['AIY.SI'])\n",
    "xmin, xmax = axes[2].get_xlim()\n",
    "x = np.linspace(xmin, xmax, 100)\n",
    "p = norm.pdf(x, mu, std)\n",
    "axes[2].plot(x, p, 'r', linewidth=2)\n",
    "axes[2].set_xlabel('Daily Return AIY.SI')\n",
    "print('Kurtosis')\n",
    "print(stocks_pct_chg.kurt())\n",
    "plt.tight_layout()\n",
    "plt.show()"
   ]
  },
  {
   "cell_type": "markdown",
   "metadata": {},
   "source": [
    "**Let's compare the kurtosis for AAPL for 5 years versus the previous 1 year calculation.**"
   ]
  },
  {
   "cell_type": "markdown",
   "metadata": {},
   "source": [
    "## Normal Q-Q Plot\n",
    "\n",
    "To check if distribution is normal\n",
    "\n",
    "Q-Q plot from statsmodels.api -<br>\n",
    "https://www.statsmodels.org/stable/generated/statsmodels.graphics.gofplots.qqplot.html"
   ]
  },
  {
   "cell_type": "code",
   "execution_count": 91,
   "metadata": {},
   "outputs": [
    {
     "data": {
      "text/plain": [
       "Text(0.5, 1.0, 'Normal Q-Q Plot AIY.SI')"
      ]
     },
     "execution_count": 91,
     "metadata": {},
     "output_type": "execute_result"
    },
    {
     "data": {
      "image/png": "[encoded data removed]",
      "text/plain": [
       "<Figure size 1152x432 with 3 Axes>"
      ]
     },
     "metadata": {
      "needs_background": "light"
     },
     "output_type": "display_data"
    }
   ],
   "source": [
    "fig, axes = plt.subplots(1, 3, figsize=(16, 6))\n",
    "sm.qqplot(stocks_pct_chg['VWRA.L'], line = 's', ax=axes[0])\n",
    "axes[0].set_title('Normal Q-Q Plot VWRA.L')\n",
    "\n",
    "sm.qqplot(stocks_pct_chg['TSM'], line = 's', ax=axes[1])\n",
    "axes[1].set_title('Normal Q-Q Plot TSM')\n",
    "\n",
    "sm.qqplot(stocks_pct_chg['AIY.SI'], line = 's', ax=axes[2])\n",
    "axes[2].set_title('Normal Q-Q Plot AIY.SI')\n",
    "\n"
   ]
  },
  {
   "cell_type": "markdown",
   "metadata": {},
   "source": [
    "## Diversification\n",
    "\n",
    "Calculate the correlation for each fund against the rest."
   ]
  },
  {
   "cell_type": "code",
   "execution_count": 92,
   "metadata": {},
   "outputs": [
    {
     "name": "stdout",
     "output_type": "stream",
     "text": [
      "Price            Adj Close              \n",
      "Ticker              AIY.SI    TSM VWRA.L\n",
      "Price     Ticker                        \n",
      "Adj Close AIY.SI     1.000  0.159  0.255\n",
      "          TSM        0.159  1.000  0.451\n",
      "          VWRA.L     0.255  0.451  1.000\n"
     ]
    }
   ],
   "source": [
    "pct_returns = stock_prices.pct_change().dropna()\n",
    "correlation = pct_returns.corr()\n",
    "print(correlation.round(3))"
   ]
  },
  {
   "cell_type": "markdown",
   "metadata": {},
   "source": [
    "### Calculate metrics for each individual fund\n",
    "  \n",
    "Peg risk free rate to SGS government bonds\n",
    "\n",
    "Calculate the following metrics\n",
    "- annualized return\n",
    "- annualized volatility\n",
    "- annualized Sharpe ratio\n",
    "Use the standard devivation (sqrt of the variance) of the daily percentage returns to calculate the annualized volatility."
   ]
  },
  {
   "cell_type": "code",
   "execution_count": 94,
   "metadata": {
    "scrolled": true
   },
   "outputs": [
    {
     "name": "stdout",
     "output_type": "stream",
     "text": [
      "ANNUALIZED RETURNS\n",
      "Price      Ticker\n",
      "Adj Close  AIY.SI    0.054086\n",
      "           TSM       0.007581\n",
      "           VWRA.L    0.004968\n",
      "dtype: float64\n",
      "ANNUAL VOLATILITIES\n",
      "Price      Ticker\n",
      "Adj Close  AIY.SI    0.332095\n",
      "           TSM       0.371996\n",
      "           VWRA.L    0.158798\n",
      "dtype: float64\n",
      "SHARPE RATIOS\n",
      "Price      Ticker\n",
      "Adj Close  AIY.SI   -0.020973\n",
      "           TSM       0.590311\n",
      "           VWRA.L    0.236322\n",
      "dtype: float64\n"
     ]
    }
   ],
   "source": [
    "# your code here\n",
    "annual_rate = 0.029  # 2.9% annual rate\n",
    "trading_days = 252\n",
    "daily_risk_free = (1 + annual_rate) ** (1 / trading_days) - 1\n",
    "\n",
    "#annualized returns =\n",
    "# ARR = (1+period return)^(1/N) - 1) where N = number of years\n",
    "period_return = (stock_prices.iloc[-1] / stock_prices.iloc[0]) / stock_prices.iloc[0]\n",
    "arr_2y = (1 + period_return)**(1/2)-1\n",
    "print('ANNUALIZED RETURNS')\n",
    "print(arr_2y)\n",
    "\n",
    "#ann_volatilities = \n",
    "ann_hv = np.log(stock_prices / stock_prices.shift(1)).std() * np.sqrt(252)\n",
    "print('ANNUAL VOLATILITIES')\n",
    "print(ann_hv)\n",
    "\n",
    "#Sharpe ratios =\n",
    "avg_rf_ret = daily_risk_free\n",
    "pct_returns = stock_prices.pct_change().dropna()\n",
    "avg_daily_ret = pct_returns.mean()\n",
    "std_excess_ret = (pct_returns - daily_risk_free).std()\n",
    "sharpe = ((avg_daily_ret - avg_rf_ret)/std_excess_ret)*np.sqrt(252)\n",
    "print('SHARPE RATIOS')\n",
    "print(sharpe)"
   ]
  },
  {
   "cell_type": "markdown",
   "metadata": {},
   "source": [
    "### Calculate portfolio returns\n",
    "Portfolio 1: 50% SPY and 50% TLT <br>\n",
    "\n",
    "Create a combined portfolio of 50/50 mix."
   ]
  },
  {
   "cell_type": "code",
   "execution_count": 33,
   "metadata": {},
   "outputs": [
    {
     "data": {
      "text/plain": [
       "Index(['EFA', 'SPY', 'TLT'], dtype='object')"
      ]
     },
     "execution_count": 33,
     "metadata": {},
     "output_type": "execute_result"
    }
   ],
   "source": [
    "# sample code\n",
    "\n",
    "# start with percent returns series\n",
    "pct_returns = stock_prices2.pct_change().dropna()\n",
    "\n",
    "#  check the order of the columns\n",
    "pct_returns.columns"
   ]
  },
  {
   "cell_type": "code",
   "execution_count": 34,
   "metadata": {},
   "outputs": [
    {
     "data": {
      "text/html": [
       "<div>\n",
       "<style scoped>\n",
       "    .dataframe tbody tr th:only-of-type {\n",
       "        vertical-align: middle;\n",
       "    }\n",
       "\n",
       "    .dataframe tbody tr th {\n",
       "        vertical-align: top;\n",
       "    }\n",
       "\n",
       "    .dataframe thead th {\n",
       "        text-align: right;\n",
       "    }\n",
       "</style>\n",
       "<table border=\"1\" class=\"dataframe\">\n",
       "  <thead>\n",
       "    <tr style=\"text-align: right;\">\n",
       "      <th></th>\n",
       "      <th>Portfolio</th>\n",
       "    </tr>\n",
       "    <tr>\n",
       "      <th>Date</th>\n",
       "      <th></th>\n",
       "    </tr>\n",
       "  </thead>\n",
       "  <tbody>\n",
       "    <tr>\n",
       "      <th>2020-01-02</th>\n",
       "      <td>0.010323</td>\n",
       "    </tr>\n",
       "    <tr>\n",
       "      <th>2020-01-03</th>\n",
       "      <td>0.003914</td>\n",
       "    </tr>\n",
       "    <tr>\n",
       "      <th>2020-01-06</th>\n",
       "      <td>-0.000932</td>\n",
       "    </tr>\n",
       "    <tr>\n",
       "      <th>2020-01-07</th>\n",
       "      <td>-0.003864</td>\n",
       "    </tr>\n",
       "    <tr>\n",
       "      <th>2020-01-08</th>\n",
       "      <td>-0.000641</td>\n",
       "    </tr>\n",
       "    <tr>\n",
       "      <th>...</th>\n",
       "      <td>...</td>\n",
       "    </tr>\n",
       "    <tr>\n",
       "      <th>2021-12-27</th>\n",
       "      <td>0.008288</td>\n",
       "    </tr>\n",
       "    <tr>\n",
       "      <th>2021-12-28</th>\n",
       "      <td>-0.002390</td>\n",
       "    </tr>\n",
       "    <tr>\n",
       "      <th>2021-12-29</th>\n",
       "      <td>-0.004823</td>\n",
       "    </tr>\n",
       "    <tr>\n",
       "      <th>2021-12-30</th>\n",
       "      <td>0.002811</td>\n",
       "    </tr>\n",
       "    <tr>\n",
       "      <th>2021-12-31</th>\n",
       "      <td>-0.000280</td>\n",
       "    </tr>\n",
       "  </tbody>\n",
       "</table>\n",
       "<p>505 rows × 1 columns</p>\n",
       "</div>"
      ],
      "text/plain": [
       "            Portfolio\n",
       "Date                 \n",
       "2020-01-02   0.010323\n",
       "2020-01-03   0.003914\n",
       "2020-01-06  -0.000932\n",
       "2020-01-07  -0.003864\n",
       "2020-01-08  -0.000641\n",
       "...               ...\n",
       "2021-12-27   0.008288\n",
       "2021-12-28  -0.002390\n",
       "2021-12-29  -0.004823\n",
       "2021-12-30   0.002811\n",
       "2021-12-31  -0.000280\n",
       "\n",
       "[505 rows x 1 columns]"
      ]
     },
     "execution_count": 34,
     "metadata": {},
     "output_type": "execute_result"
    }
   ],
   "source": [
    "# sample code\n",
    "\n",
    "# define portfolio weights\n",
    "# this corresponds to order of the columns in the returns df\n",
    "# 'EFA', 'SPY', 'TLT'\n",
    "portfolio_weights = [0, 0.5, 0.5] \n",
    "\n",
    "# apply the weights to returns\n",
    "wt_portfolio_ret = pct_returns * portfolio_weights\n",
    "\n",
    "# add up the 50/50 column returns into single column\n",
    "portfolio_returns1 = pd.DataFrame(wt_portfolio_ret.sum(axis = 1))\n",
    "portfolio_returns1.rename(columns={portfolio_returns1.columns[0]:'Portfolio'}, inplace= 'True')\n",
    "portfolio_returns1"
   ]
  },
  {
   "cell_type": "markdown",
   "metadata": {},
   "source": [
    "### Calculate metrics for Portfolio 1: 50% SPY and 50% TLT\n",
    "  Assume daily risk free rate of 0.0001\n",
    "  \n",
    "  Calculate the following metrics for the 50/50 SPY/TLT portfolio\n",
    "  - annualized return\n",
    "  - annualized volatility\n",
    "  - Sharpe ratio\n",
    "  - kurtosis"
   ]
  },
  {
   "cell_type": "code",
   "execution_count": 70,
   "metadata": {},
   "outputs": [
    {
     "name": "stdout",
     "output_type": "stream",
     "text": [
      "ANNUALIZED RETURNS\n",
      "0.1641198903351293\n",
      "ANNUAL VOLATILITY\n",
      "0.12310427040495651\n",
      "SHARPE RATIO\n",
      "1.0930769356395762\n",
      "KURTOSIS\n",
      "Portfolio    10.544796\n",
      "dtype: float64\n"
     ]
    }
   ],
   "source": [
    "# your code here\n",
    "\n",
    "#hint: generate the cumlative return to determine the period return\n",
    "#annualized return =\n",
    "period_return = ((portfolio_returns1+1).cumprod() - 1).iloc[-1]\n",
    "arr = (1 + period_return)**(1/2)-1\n",
    "print('ANNUALIZED RETURNS')\n",
    "print(arr['Portfolio'])\n",
    "\n",
    "#ann_volatility = \n",
    "ann_hv = (np.log(1 + portfolio_returns1).std() * np.sqrt(252))\n",
    "print('ANNUAL VOLATILITY')\n",
    "print(ann_hv['Portfolio'])\n",
    "\n",
    "#Sharpe ratio =\n",
    "daily_risk_free = 0.0001\n",
    "avg_rf_ret = daily_risk_free\n",
    "avg_daily_ret = portfolio_returns1.mean()\n",
    "std_excess_ret = (portfolio_returns1 - daily_risk_free).std()\n",
    "sharpe = ((avg_daily_ret - avg_rf_ret)/std_excess_ret)*np.sqrt(252)\n",
    "print('SHARPE RATIO')\n",
    "print(sharpe['Portfolio'])\n",
    "\n",
    "#kurtosis =\n",
    "kurtosis = portfolio_returns1.kurt()\n",
    "print('KURTOSIS')\n",
    "print(kurtosis)"
   ]
  },
  {
   "cell_type": "markdown",
   "metadata": {
    "nteract": {
     "transient": {
      "deleting": false
     }
    }
   },
   "source": [
    "**DIY Q3:**<br>\n",
    "  How do the metrics compare between the portfolio and its component funds?"
   ]
  },
  {
   "cell_type": "markdown",
   "metadata": {
    "nteract": {
     "transient": {
      "deleting": false
     }
    }
   },
   "source": [
    "<b> The portfolio has a greater return, has lower volatility and which Sharpe ratio falls under the Acceptable - Good range of between 1 and 1.99. Its components have less return, higher volatility and their Sharpe ratio falls under the 'Not Good' range of below 1. </b>"
   ]
  },
  {
   "cell_type": "markdown",
   "metadata": {},
   "source": [
    "### Calculate metrics for Portfolio 2: 50% SPY and 50% EFA\n",
    "  Assume daily risk free rate of 0.0001\n",
    "  \n",
    "  Calculate the following metrics for the 50/50 SPY/EFA portfolio\n",
    "  - annualized return\n",
    "  - annualized volatility\n",
    "  - annualized Sharpe ratio\n",
    "  - kurtosis"
   ]
  },
  {
   "cell_type": "code",
   "execution_count": 73,
   "metadata": {},
   "outputs": [
    {
     "name": "stdout",
     "output_type": "stream",
     "text": [
      "ANNUALIZED RETURNS\n",
      "0.16419336646188265\n",
      "ANNUAL VOLATILITY\n",
      "0.2422739351506494\n",
      "SHARPE RATIO\n",
      "0.6486500997261821\n",
      "KURTOSIS\n",
      "Portfolio    14.342676\n",
      "dtype: float64\n"
     ]
    }
   ],
   "source": [
    "# your code here\n",
    "pct_returns = stock_prices2.pct_change().dropna()\n",
    "portfolio_weights = [0.5, 0.5, 0] \n",
    "wt_portfolio_ret = pct_returns * portfolio_weights\n",
    "portfolio_returns2 = pd.DataFrame(wt_portfolio_ret.sum(axis = 1))\n",
    "portfolio_returns2.rename(columns={portfolio_returns2.columns[0]:'Portfolio'}, inplace= 'True')\n",
    "\n",
    "#annualized return =\n",
    "period_return = ((portfolio_returns2+1).cumprod() - 1).iloc[-1]\n",
    "arr = (1 + period_return)**(1/2)-1\n",
    "print('ANNUALIZED RETURNS')\n",
    "print(arr['Portfolio'])\n",
    "\n",
    "#ann_volatility = \n",
    "ann_hv = (np.log(1 + portfolio_returns2).std() * np.sqrt(252))\n",
    "print('ANNUAL VOLATILITY')\n",
    "print(ann_hv['Portfolio'])\n",
    "\n",
    "#Sharpe ratio =\n",
    "daily_risk_free = 0.0001\n",
    "avg_rf_ret = daily_risk_free\n",
    "avg_daily_ret = portfolio_returns2.mean()\n",
    "std_excess_ret = (portfolio_returns2 - daily_risk_free).std()\n",
    "sharpe = ((avg_daily_ret - avg_rf_ret)/std_excess_ret)*np.sqrt(252)\n",
    "print('SHARPE RATIO')\n",
    "print(sharpe['Portfolio'])\n",
    "\n",
    "#kurtosis =\n",
    "kurtosis = portfolio_returns2.kurt()\n",
    "print('KURTOSIS')\n",
    "print(kurtosis)"
   ]
  },
  {
   "cell_type": "markdown",
   "metadata": {},
   "source": [
    "### Calculate metrics for Portfolio 3: 1/3 in SPY, 1/3 in TLT, 1/3 in EFA\n",
    "  Assume daily risk free rate of 0.0001\n",
    "\n",
    "  Calculate the following metrics for the portfolio\n",
    "  - annualized return\n",
    "  - annualized volatility\n",
    "  - annualized Sharpe ratio\n",
    "  - kurtosis\n"
   ]
  },
  {
   "cell_type": "code",
   "execution_count": 74,
   "metadata": {},
   "outputs": [
    {
     "name": "stdout",
     "output_type": "stream",
     "text": [
      "ANNUALIZED RETURNS\n",
      "0.14497981758790401\n",
      "ANNUAL VOLATILITY\n",
      "0.14739344878468455\n",
      "SHARPE RATIO\n",
      "0.8243772664687948\n",
      "KURTOSIS\n",
      "Portfolio    14.166166\n",
      "dtype: float64\n"
     ]
    }
   ],
   "source": [
    "# your code here\n",
    "pct_returns = stock_prices2.pct_change().dropna()\n",
    "portfolio_weights = [1/3, 1/3, 1/3] \n",
    "wt_portfolio_ret = pct_returns * portfolio_weights\n",
    "portfolio_returns3 = pd.DataFrame(wt_portfolio_ret.sum(axis = 1))\n",
    "portfolio_returns3.rename(columns={portfolio_returns3.columns[0]:'Portfolio'}, inplace= 'True')\n",
    "\n",
    "#annualized return =\n",
    "period_return = ((portfolio_returns3+1).cumprod() - 1).iloc[-1]\n",
    "arr = (1 + period_return)**(1/2)-1\n",
    "print('ANNUALIZED RETURNS')\n",
    "print(arr['Portfolio'])\n",
    "\n",
    "#ann_volatility = \n",
    "ann_hv = (np.log(1 + portfolio_returns3).std() * np.sqrt(252))\n",
    "print('ANNUAL VOLATILITY')\n",
    "print(ann_hv['Portfolio'])\n",
    "\n",
    "#Sharpe ratio =\n",
    "daily_risk_free = 0.0001\n",
    "avg_rf_ret = daily_risk_free\n",
    "avg_daily_ret = portfolio_returns3.mean()\n",
    "std_excess_ret = (portfolio_returns3 - daily_risk_free).std()\n",
    "sharpe = ((avg_daily_ret - avg_rf_ret)/std_excess_ret)*np.sqrt(252)\n",
    "print('SHARPE RATIO')\n",
    "print(sharpe['Portfolio'])\n",
    "\n",
    "#kurtosis =\n",
    "kurtosis = portfolio_returns3.kurt()\n",
    "print('KURTOSIS')\n",
    "print(kurtosis)"
   ]
  },
  {
   "cell_type": "markdown",
   "metadata": {
    "nteract": {
     "transient": {
      "deleting": false
     }
    }
   },
   "source": [
    "**DIY Q4:**<br>\n",
    "- Which portfolio has the highest return? <b> SPY 50% and EFA 50%</b>\n",
    "- Which portfolio has the lowest volatility? <b> SPY 50% and TLT 50% </b>\n",
    "- Which portfolio has the highest Sharpe ratio? <b> SPY 50% and TLT 50% </b>"
   ]
  },
  {
   "cell_type": "markdown",
   "metadata": {
    "nteract": {
     "transient": {
      "deleting": false
     }
    }
   },
   "source": [
    "### Create a better portfolio\n",
    "Come up with different weighting that has a higher Sharpe ratio than all the other portfolios.\n",
    "\n",
    "Assume daily risk free rate of 0.0001\n"
   ]
  },
  {
   "cell_type": "code",
   "execution_count": 101,
   "metadata": {
    "execution": {
     "iopub.execute_input": "2023-02-16T07:27:28.122Z",
     "iopub.status.busy": "2023-02-16T07:27:28.071Z",
     "iopub.status.idle": "2023-02-16T07:27:28.187Z",
     "shell.execute_reply": "2023-02-16T07:27:28.222Z"
    },
    "jupyter": {
     "outputs_hidden": true,
     "source_hidden": false
    },
    "nteract": {
     "transient": {
      "deleting": false
     }
    }
   },
   "outputs": [
    {
     "name": "stdout",
     "output_type": "stream",
     "text": [
      "SHARPE RATIO\n",
      "1.0951628470638288\n"
     ]
    }
   ],
   "source": [
    "#your code here\n",
    "\n",
    "pct_returns = stock_prices2.pct_change().dropna()\n",
    "portfolio_weights = [0, 0.54, 0.46] \n",
    "\n",
    "# apply the weights to returns\n",
    "wt_portfolio_ret = pct_returns * portfolio_weights\n",
    "\n",
    "# add up the 50/50 column returns into single column\n",
    "portfolio_returns = pd.DataFrame(wt_portfolio_ret.sum(axis = 1))\n",
    "portfolio_returns.rename(columns={portfolio_returns.columns[0]:'Portfolio'}, inplace= 'True')\n",
    "\n",
    "#Sharpe ratio =\n",
    "daily_risk_free = 0.0001\n",
    "avg_rf_ret = daily_risk_free\n",
    "avg_daily_ret = portfolio_returns.mean()\n",
    "std_excess_ret = (portfolio_returns - daily_risk_free).std()\n",
    "sharpe = ((avg_daily_ret - avg_rf_ret)/std_excess_ret)*np.sqrt(252)\n",
    "print('SHARPE RATIO')\n",
    "print(sharpe['Portfolio'])\n"
   ]
  },
  {
   "cell_type": "markdown",
   "metadata": {
    "nteract": {
     "transient": {
      "deleting": false
     }
    }
   },
   "source": [
    "**DIY Q5:**<br>\n",
    "- What is the mix you chose and the corresponding Sharpe ratio?\n",
    "- How did you decide which funds to increase or reduce the weightings?\n",
    "- Why is adding EFA be poor choice for improving the the RAR of the SPY/TLT portfolio? "
   ]
  },
  {
   "cell_type": "markdown",
   "metadata": {
    "nteract": {
     "transient": {
      "deleting": false
     }
    }
   },
   "source": [
    "\n",
    "<ul>\n",
    "<li> 54% SPY and 46% TLT, 1.095</li>\n",
    "<li> SPY has the highest Sharpe ratio. TLT provides diversification benefits as it is a bond-based ETF (as SPY is a stock-based ETF), but has a very low Sharpe ratio. Hence, I increased SPY's % little by little until the Sharpe ratio reached a peak of 1.095. </li>        \n",
    "<li> Although EFA's Sharpe ratio is higher than TLT, EFA is a stock-based ETF just like SPY which adds to the risk if the stock market underperforms and would therefore have a weaker risk-adjusted return. </li>        \n",
    "</ul>\n"
   ]
  },
  {
   "cell_type": "code",
   "execution_count": null,
   "metadata": {},
   "outputs": [],
   "source": []
  }
 ],
 "metadata": {
  "kernelspec": {
   "display_name": "Python 3 (ipykernel)",
   "language": "python",
   "name": "python3"
  },
  "language_info": {
   "codemirror_mode": {
    "name": "ipython",
    "version": 3
   },
   "file_extension": ".py",
   "mimetype": "text/x-python",
   "name": "python",
   "nbconvert_exporter": "python",
   "pygments_lexer": "ipython3",
   "version": "3.9.12"
  },
  "nteract": {
   "version": "0.28.0"
  }
 },
 "nbformat": 4,
 "nbformat_minor": 4
}

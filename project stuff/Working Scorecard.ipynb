{
 "cells": [
  {
   "cell_type": "code",
   "execution_count": null,
   "metadata": {
    "scrolled": true
   },
   "outputs": [],
   "source": [
    "#!pip install pandas==2.1.1\n",
    "#!pip install scorecardpy==0.1.9.7"
   ]
  },
  {
   "cell_type": "code",
   "execution_count": 1,
   "metadata": {},
   "outputs": [],
   "source": [
    "import warnings\n",
    "warnings.simplefilter(action='ignore', category=FutureWarning)\n",
    "warnings.simplefilter(action='ignore', category=UserWarning)\n",
    "\n",
    "import pandas as pd, numpy as np\n",
    "pd.options.mode.chained_assignment = None\n",
    "from sklearn.linear_model import LogisticRegression\n",
    "import matplotlib.pyplot as plt\n",
    "from sklearn import linear_model, metrics\n",
    "import scorecardpy as sc\n",
    "import pprint\n",
    "import seaborn as sns"
   ]
  },
  {
   "cell_type": "code",
   "execution_count": 2,
   "metadata": {},
   "outputs": [
    {
     "ename": "FileNotFoundError",
     "evalue": "[Errno 2] No such file or directory: 'IS453 Group Assignment - Bureau Data.csv'",
     "output_type": "error",
     "traceback": [
      "\u001b[1;31m---------------------------------------------------------------------------\u001b[0m",
      "\u001b[1;31mFileNotFoundError\u001b[0m                         Traceback (most recent call last)",
      "Input \u001b[1;32mIn [2]\u001b[0m, in \u001b[0;36m<cell line: 1>\u001b[1;34m()\u001b[0m\n\u001b[1;32m----> 1\u001b[0m bureau_data\u001b[38;5;241m=\u001b[39m\u001b[43mpd\u001b[49m\u001b[38;5;241;43m.\u001b[39;49m\u001b[43mread_csv\u001b[49m\u001b[43m(\u001b[49m\u001b[38;5;124;43m'\u001b[39;49m\u001b[38;5;124;43mIS453 Group Assignment - Bureau Data.csv\u001b[39;49m\u001b[38;5;124;43m'\u001b[39;49m\u001b[43m)\u001b[49m\n\u001b[0;32m      2\u001b[0m application_data\u001b[38;5;241m=\u001b[39mpd\u001b[38;5;241m.\u001b[39mread_csv(\u001b[38;5;124m'\u001b[39m\u001b[38;5;124mIS453 Group Assignment - Application Data.csv\u001b[39m\u001b[38;5;124m'\u001b[39m)\n",
      "File \u001b[1;32m~\\anaconda3\\lib\\site-packages\\pandas\\io\\parsers\\readers.py:948\u001b[0m, in \u001b[0;36mread_csv\u001b[1;34m(filepath_or_buffer, sep, delimiter, header, names, index_col, usecols, dtype, engine, converters, true_values, false_values, skipinitialspace, skiprows, skipfooter, nrows, na_values, keep_default_na, na_filter, verbose, skip_blank_lines, parse_dates, infer_datetime_format, keep_date_col, date_parser, date_format, dayfirst, cache_dates, iterator, chunksize, compression, thousands, decimal, lineterminator, quotechar, quoting, doublequote, escapechar, comment, encoding, encoding_errors, dialect, on_bad_lines, delim_whitespace, low_memory, memory_map, float_precision, storage_options, dtype_backend)\u001b[0m\n\u001b[0;32m    935\u001b[0m kwds_defaults \u001b[38;5;241m=\u001b[39m _refine_defaults_read(\n\u001b[0;32m    936\u001b[0m     dialect,\n\u001b[0;32m    937\u001b[0m     delimiter,\n\u001b[1;32m   (...)\u001b[0m\n\u001b[0;32m    944\u001b[0m     dtype_backend\u001b[38;5;241m=\u001b[39mdtype_backend,\n\u001b[0;32m    945\u001b[0m )\n\u001b[0;32m    946\u001b[0m kwds\u001b[38;5;241m.\u001b[39mupdate(kwds_defaults)\n\u001b[1;32m--> 948\u001b[0m \u001b[38;5;28;01mreturn\u001b[39;00m \u001b[43m_read\u001b[49m\u001b[43m(\u001b[49m\u001b[43mfilepath_or_buffer\u001b[49m\u001b[43m,\u001b[49m\u001b[43m \u001b[49m\u001b[43mkwds\u001b[49m\u001b[43m)\u001b[49m\n",
      "File \u001b[1;32m~\\anaconda3\\lib\\site-packages\\pandas\\io\\parsers\\readers.py:611\u001b[0m, in \u001b[0;36m_read\u001b[1;34m(filepath_or_buffer, kwds)\u001b[0m\n\u001b[0;32m    608\u001b[0m _validate_names(kwds\u001b[38;5;241m.\u001b[39mget(\u001b[38;5;124m\"\u001b[39m\u001b[38;5;124mnames\u001b[39m\u001b[38;5;124m\"\u001b[39m, \u001b[38;5;28;01mNone\u001b[39;00m))\n\u001b[0;32m    610\u001b[0m \u001b[38;5;66;03m# Create the parser.\u001b[39;00m\n\u001b[1;32m--> 611\u001b[0m parser \u001b[38;5;241m=\u001b[39m TextFileReader(filepath_or_buffer, \u001b[38;5;241m*\u001b[39m\u001b[38;5;241m*\u001b[39mkwds)\n\u001b[0;32m    613\u001b[0m \u001b[38;5;28;01mif\u001b[39;00m chunksize \u001b[38;5;129;01mor\u001b[39;00m iterator:\n\u001b[0;32m    614\u001b[0m     \u001b[38;5;28;01mreturn\u001b[39;00m parser\n",
      "File \u001b[1;32m~\\anaconda3\\lib\\site-packages\\pandas\\io\\parsers\\readers.py:1448\u001b[0m, in \u001b[0;36mTextFileReader.__init__\u001b[1;34m(self, f, engine, **kwds)\u001b[0m\n\u001b[0;32m   1445\u001b[0m     \u001b[38;5;28mself\u001b[39m\u001b[38;5;241m.\u001b[39moptions[\u001b[38;5;124m\"\u001b[39m\u001b[38;5;124mhas_index_names\u001b[39m\u001b[38;5;124m\"\u001b[39m] \u001b[38;5;241m=\u001b[39m kwds[\u001b[38;5;124m\"\u001b[39m\u001b[38;5;124mhas_index_names\u001b[39m\u001b[38;5;124m\"\u001b[39m]\n\u001b[0;32m   1447\u001b[0m \u001b[38;5;28mself\u001b[39m\u001b[38;5;241m.\u001b[39mhandles: IOHandles \u001b[38;5;241m|\u001b[39m \u001b[38;5;28;01mNone\u001b[39;00m \u001b[38;5;241m=\u001b[39m \u001b[38;5;28;01mNone\u001b[39;00m\n\u001b[1;32m-> 1448\u001b[0m \u001b[38;5;28mself\u001b[39m\u001b[38;5;241m.\u001b[39m_engine \u001b[38;5;241m=\u001b[39m \u001b[38;5;28;43mself\u001b[39;49m\u001b[38;5;241;43m.\u001b[39;49m\u001b[43m_make_engine\u001b[49m\u001b[43m(\u001b[49m\u001b[43mf\u001b[49m\u001b[43m,\u001b[49m\u001b[43m \u001b[49m\u001b[38;5;28;43mself\u001b[39;49m\u001b[38;5;241;43m.\u001b[39;49m\u001b[43mengine\u001b[49m\u001b[43m)\u001b[49m\n",
      "File \u001b[1;32m~\\anaconda3\\lib\\site-packages\\pandas\\io\\parsers\\readers.py:1705\u001b[0m, in \u001b[0;36mTextFileReader._make_engine\u001b[1;34m(self, f, engine)\u001b[0m\n\u001b[0;32m   1703\u001b[0m     \u001b[38;5;28;01mif\u001b[39;00m \u001b[38;5;124m\"\u001b[39m\u001b[38;5;124mb\u001b[39m\u001b[38;5;124m\"\u001b[39m \u001b[38;5;129;01mnot\u001b[39;00m \u001b[38;5;129;01min\u001b[39;00m mode:\n\u001b[0;32m   1704\u001b[0m         mode \u001b[38;5;241m+\u001b[39m\u001b[38;5;241m=\u001b[39m \u001b[38;5;124m\"\u001b[39m\u001b[38;5;124mb\u001b[39m\u001b[38;5;124m\"\u001b[39m\n\u001b[1;32m-> 1705\u001b[0m \u001b[38;5;28mself\u001b[39m\u001b[38;5;241m.\u001b[39mhandles \u001b[38;5;241m=\u001b[39m \u001b[43mget_handle\u001b[49m\u001b[43m(\u001b[49m\n\u001b[0;32m   1706\u001b[0m \u001b[43m    \u001b[49m\u001b[43mf\u001b[49m\u001b[43m,\u001b[49m\n\u001b[0;32m   1707\u001b[0m \u001b[43m    \u001b[49m\u001b[43mmode\u001b[49m\u001b[43m,\u001b[49m\n\u001b[0;32m   1708\u001b[0m \u001b[43m    \u001b[49m\u001b[43mencoding\u001b[49m\u001b[38;5;241;43m=\u001b[39;49m\u001b[38;5;28;43mself\u001b[39;49m\u001b[38;5;241;43m.\u001b[39;49m\u001b[43moptions\u001b[49m\u001b[38;5;241;43m.\u001b[39;49m\u001b[43mget\u001b[49m\u001b[43m(\u001b[49m\u001b[38;5;124;43m\"\u001b[39;49m\u001b[38;5;124;43mencoding\u001b[39;49m\u001b[38;5;124;43m\"\u001b[39;49m\u001b[43m,\u001b[49m\u001b[43m \u001b[49m\u001b[38;5;28;43;01mNone\u001b[39;49;00m\u001b[43m)\u001b[49m\u001b[43m,\u001b[49m\n\u001b[0;32m   1709\u001b[0m \u001b[43m    \u001b[49m\u001b[43mcompression\u001b[49m\u001b[38;5;241;43m=\u001b[39;49m\u001b[38;5;28;43mself\u001b[39;49m\u001b[38;5;241;43m.\u001b[39;49m\u001b[43moptions\u001b[49m\u001b[38;5;241;43m.\u001b[39;49m\u001b[43mget\u001b[49m\u001b[43m(\u001b[49m\u001b[38;5;124;43m\"\u001b[39;49m\u001b[38;5;124;43mcompression\u001b[39;49m\u001b[38;5;124;43m\"\u001b[39;49m\u001b[43m,\u001b[49m\u001b[43m \u001b[49m\u001b[38;5;28;43;01mNone\u001b[39;49;00m\u001b[43m)\u001b[49m\u001b[43m,\u001b[49m\n\u001b[0;32m   1710\u001b[0m \u001b[43m    \u001b[49m\u001b[43mmemory_map\u001b[49m\u001b[38;5;241;43m=\u001b[39;49m\u001b[38;5;28;43mself\u001b[39;49m\u001b[38;5;241;43m.\u001b[39;49m\u001b[43moptions\u001b[49m\u001b[38;5;241;43m.\u001b[39;49m\u001b[43mget\u001b[49m\u001b[43m(\u001b[49m\u001b[38;5;124;43m\"\u001b[39;49m\u001b[38;5;124;43mmemory_map\u001b[39;49m\u001b[38;5;124;43m\"\u001b[39;49m\u001b[43m,\u001b[49m\u001b[43m \u001b[49m\u001b[38;5;28;43;01mFalse\u001b[39;49;00m\u001b[43m)\u001b[49m\u001b[43m,\u001b[49m\n\u001b[0;32m   1711\u001b[0m \u001b[43m    \u001b[49m\u001b[43mis_text\u001b[49m\u001b[38;5;241;43m=\u001b[39;49m\u001b[43mis_text\u001b[49m\u001b[43m,\u001b[49m\n\u001b[0;32m   1712\u001b[0m \u001b[43m    \u001b[49m\u001b[43merrors\u001b[49m\u001b[38;5;241;43m=\u001b[39;49m\u001b[38;5;28;43mself\u001b[39;49m\u001b[38;5;241;43m.\u001b[39;49m\u001b[43moptions\u001b[49m\u001b[38;5;241;43m.\u001b[39;49m\u001b[43mget\u001b[49m\u001b[43m(\u001b[49m\u001b[38;5;124;43m\"\u001b[39;49m\u001b[38;5;124;43mencoding_errors\u001b[39;49m\u001b[38;5;124;43m\"\u001b[39;49m\u001b[43m,\u001b[49m\u001b[43m \u001b[49m\u001b[38;5;124;43m\"\u001b[39;49m\u001b[38;5;124;43mstrict\u001b[39;49m\u001b[38;5;124;43m\"\u001b[39;49m\u001b[43m)\u001b[49m\u001b[43m,\u001b[49m\n\u001b[0;32m   1713\u001b[0m \u001b[43m    \u001b[49m\u001b[43mstorage_options\u001b[49m\u001b[38;5;241;43m=\u001b[39;49m\u001b[38;5;28;43mself\u001b[39;49m\u001b[38;5;241;43m.\u001b[39;49m\u001b[43moptions\u001b[49m\u001b[38;5;241;43m.\u001b[39;49m\u001b[43mget\u001b[49m\u001b[43m(\u001b[49m\u001b[38;5;124;43m\"\u001b[39;49m\u001b[38;5;124;43mstorage_options\u001b[39;49m\u001b[38;5;124;43m\"\u001b[39;49m\u001b[43m,\u001b[49m\u001b[43m \u001b[49m\u001b[38;5;28;43;01mNone\u001b[39;49;00m\u001b[43m)\u001b[49m\u001b[43m,\u001b[49m\n\u001b[0;32m   1714\u001b[0m \u001b[43m\u001b[49m\u001b[43m)\u001b[49m\n\u001b[0;32m   1715\u001b[0m \u001b[38;5;28;01massert\u001b[39;00m \u001b[38;5;28mself\u001b[39m\u001b[38;5;241m.\u001b[39mhandles \u001b[38;5;129;01mis\u001b[39;00m \u001b[38;5;129;01mnot\u001b[39;00m \u001b[38;5;28;01mNone\u001b[39;00m\n\u001b[0;32m   1716\u001b[0m f \u001b[38;5;241m=\u001b[39m \u001b[38;5;28mself\u001b[39m\u001b[38;5;241m.\u001b[39mhandles\u001b[38;5;241m.\u001b[39mhandle\n",
      "File \u001b[1;32m~\\anaconda3\\lib\\site-packages\\pandas\\io\\common.py:863\u001b[0m, in \u001b[0;36mget_handle\u001b[1;34m(path_or_buf, mode, encoding, compression, memory_map, is_text, errors, storage_options)\u001b[0m\n\u001b[0;32m    858\u001b[0m \u001b[38;5;28;01melif\u001b[39;00m \u001b[38;5;28misinstance\u001b[39m(handle, \u001b[38;5;28mstr\u001b[39m):\n\u001b[0;32m    859\u001b[0m     \u001b[38;5;66;03m# Check whether the filename is to be opened in binary mode.\u001b[39;00m\n\u001b[0;32m    860\u001b[0m     \u001b[38;5;66;03m# Binary mode does not support 'encoding' and 'newline'.\u001b[39;00m\n\u001b[0;32m    861\u001b[0m     \u001b[38;5;28;01mif\u001b[39;00m ioargs\u001b[38;5;241m.\u001b[39mencoding \u001b[38;5;129;01mand\u001b[39;00m \u001b[38;5;124m\"\u001b[39m\u001b[38;5;124mb\u001b[39m\u001b[38;5;124m\"\u001b[39m \u001b[38;5;129;01mnot\u001b[39;00m \u001b[38;5;129;01min\u001b[39;00m ioargs\u001b[38;5;241m.\u001b[39mmode:\n\u001b[0;32m    862\u001b[0m         \u001b[38;5;66;03m# Encoding\u001b[39;00m\n\u001b[1;32m--> 863\u001b[0m         handle \u001b[38;5;241m=\u001b[39m \u001b[38;5;28;43mopen\u001b[39;49m\u001b[43m(\u001b[49m\n\u001b[0;32m    864\u001b[0m \u001b[43m            \u001b[49m\u001b[43mhandle\u001b[49m\u001b[43m,\u001b[49m\n\u001b[0;32m    865\u001b[0m \u001b[43m            \u001b[49m\u001b[43mioargs\u001b[49m\u001b[38;5;241;43m.\u001b[39;49m\u001b[43mmode\u001b[49m\u001b[43m,\u001b[49m\n\u001b[0;32m    866\u001b[0m \u001b[43m            \u001b[49m\u001b[43mencoding\u001b[49m\u001b[38;5;241;43m=\u001b[39;49m\u001b[43mioargs\u001b[49m\u001b[38;5;241;43m.\u001b[39;49m\u001b[43mencoding\u001b[49m\u001b[43m,\u001b[49m\n\u001b[0;32m    867\u001b[0m \u001b[43m            \u001b[49m\u001b[43merrors\u001b[49m\u001b[38;5;241;43m=\u001b[39;49m\u001b[43merrors\u001b[49m\u001b[43m,\u001b[49m\n\u001b[0;32m    868\u001b[0m \u001b[43m            \u001b[49m\u001b[43mnewline\u001b[49m\u001b[38;5;241;43m=\u001b[39;49m\u001b[38;5;124;43m\"\u001b[39;49m\u001b[38;5;124;43m\"\u001b[39;49m\u001b[43m,\u001b[49m\n\u001b[0;32m    869\u001b[0m \u001b[43m        \u001b[49m\u001b[43m)\u001b[49m\n\u001b[0;32m    870\u001b[0m     \u001b[38;5;28;01melse\u001b[39;00m:\n\u001b[0;32m    871\u001b[0m         \u001b[38;5;66;03m# Binary mode\u001b[39;00m\n\u001b[0;32m    872\u001b[0m         handle \u001b[38;5;241m=\u001b[39m \u001b[38;5;28mopen\u001b[39m(handle, ioargs\u001b[38;5;241m.\u001b[39mmode)\n",
      "\u001b[1;31mFileNotFoundError\u001b[0m: [Errno 2] No such file or directory: 'IS453 Group Assignment - Bureau Data.csv'"
     ]
    }
   ],
   "source": [
    "bureau_data=pd.read_csv('IS453 Group Assignment - Bureau Data.csv')\n",
    "application_data=pd.read_csv('IS453 Group Assignment - Application Data.csv')"
   ]
  },
  {
   "cell_type": "code",
   "execution_count": null,
   "metadata": {
    "scrolled": true
   },
   "outputs": [],
   "source": [
    "# choosing columns to keep \n",
    "application_data_cleaned = application_data[['SK_ID_CURR', 'TARGET', 'FLAG_OWN_CAR', 'FLAG_OWN_REALTY',\n",
    "                                            'CNT_CHILDREN', 'AMT_INCOME_TOTAL', 'AMT_CREDIT', 'AMT_ANNUITY', 'AMT_GOODS_PRICE',\n",
    "                                            'NAME_INCOME_TYPE', 'DAYS_EMPLOYED', 'FLAG_MOBIL', 'FLAG_CONT_MOBILE',\n",
    "                                            'CNT_FAM_MEMBERS', 'REG_REGION_NOT_LIVE_REGION', 'EXT_SOURCE_1', 'AMT_REQ_CREDIT_BUREAU_MON']].copy()\n",
    "\n",
    "bureau_data_cleaned = bureau_data[['SK_ID_CURR', 'SK_ID_BUREAU', 'CREDIT_ACTIVE', 'CREDIT_CURRENCY', 'CREDIT_DAY_OVERDUE', 'AMT_CREDIT_MAX_OVERDUE',\n",
    "                                  'CNT_CREDIT_PROLONG', 'AMT_CREDIT_SUM', 'AMT_CREDIT_SUM_DEBT', 'AMT_CREDIT_SUM_OVERDUE',\n",
    "                                  'CREDIT_TYPE', 'DAYS_CREDIT_UPDATE', 'AMT_ANNUITY']].copy()\n",
    "\n",
    "own_car_mask = application_data_cleaned['FLAG_OWN_CAR'] == 'N'\n",
    "app_filtered = application_data_cleaned.loc[\n",
    "    own_car_mask, application_data_cleaned.columns.difference(['FLAG_OWN_CAR'])\n",
    "].copy()\n",
    "\n",
    "bureau_filtered = bureau_data_cleaned.loc[\n",
    "    (bureau_data_cleaned['CREDIT_CURRENCY'] == 'currency 1') & \n",
    "    (bureau_data_cleaned['CREDIT_TYPE'] != 'Car loan'),\n",
    "    bureau_data_cleaned.columns.difference(['CREDIT_CURRENCY'])\n",
    "].copy()\n",
    "\n",
    "bureau_aggregated = bureau_filtered.groupby('SK_ID_CURR').agg({\n",
    "    'SK_ID_BUREAU': 'count',  # Number of past loans\n",
    "    'CREDIT_ACTIVE': lambda x: x.value_counts().idxmax(),  # Most frequent credit status\n",
    "    'CREDIT_DAY_OVERDUE': 'mean',  # Average overdue days\n",
    "    'AMT_CREDIT_MAX_OVERDUE': 'max',  # Max overdue amount\n",
    "    'CNT_CREDIT_PROLONG': 'sum',  # Total prolongations\n",
    "    'AMT_CREDIT_SUM': 'sum',  # Total outstanding credit\n",
    "    'AMT_CREDIT_SUM_DEBT': 'mean',  # Average current debt\n",
    "    'AMT_CREDIT_SUM_OVERDUE': 'max',  # Max overdue amount\n",
    "    'CREDIT_TYPE': lambda x: x.value_counts().idxmax(),  # Most frequent credit type\n",
    "    'DAYS_CREDIT_UPDATE': 'min',  # Most recent credit update\n",
    "    'AMT_ANNUITY': 'mean',  # Average annuity payment\n",
    "}).reset_index()\n",
    "\n",
    "bureau_aggregated.rename(columns={\"SK_ID_BUREAU\": \"CREDIT_COUNT\"}, inplace=True)\n",
    "bureau_aggregated['OVERDUE_CREDIT_COUNT'] = bureau_filtered[bureau_filtered['CREDIT_DAY_OVERDUE'] > 0].groupby('SK_ID_CURR')['SK_ID_BUREAU'].transform('count')\n",
    "merged_data = app_filtered.merge(bureau_aggregated, on='SK_ID_CURR', how='left')\n",
    "\n"
   ]
  },
  {
   "cell_type": "code",
   "execution_count": 4,
   "metadata": {
    "scrolled": true
   },
   "outputs": [],
   "source": [
    "# number of rows\n",
    "# rows = merged_data.shape[0]\n",
    "# print(f\"Number of rows after selection: {rows}\")\n",
    "\n",
    "# calculate percentage of bad loans after filtering\n",
    "# total_loans = len(app_filtered)\n",
    "# bad_loans = app_filtered[app_filtered['TARGET'] == 1].shape[0]\n",
    "# print(f\"Number of Bad Loans after selection:{bad_loans}\")\n",
    "# bad_loans_percentage = (bad_loans / total_loans) * 100\n",
    "# print(f\"Percentage of Bad Loans after filtering: {bad_loans_percentage:.2f}%\")\n",
    "\n",
    "# # calculate percentage of bad loans in orig dataset\n",
    "# total_loans = len(application_data_cleaned)\n",
    "# bad_loans = application_data_cleaned[application_data_cleaned['TARGET'] == 1].shape[0]\n",
    "# bad_loans_percentage = (bad_loans / total_loans) * 100\n",
    "# print(f\"Percentage of Bad Loans in orig dataset: {bad_loans_percentage:.2f}%\")"
   ]
  },
  {
   "cell_type": "markdown",
   "metadata": {},
   "source": [
    "## helper functions"
   ]
  },
  {
   "cell_type": "code",
   "execution_count": 30,
   "metadata": {},
   "outputs": [],
   "source": [
    "def get_iv(bins):\n",
    "    iv_dict = {key: df[\"total_iv\"].iloc[0] for key, df in bins.items()}\n",
    "    return iv_dict"
   ]
  },
  {
   "cell_type": "code",
   "execution_count": 31,
   "metadata": {},
   "outputs": [],
   "source": [
    "def remove_low_iv_columns(train_data, test_data, bins, min_iv):\n",
    "    iv_dict = get_iv(bins)\n",
    "    sorted_iv = sorted(iv_dict.items(), key=lambda x: x[1], reverse=True)\n",
    "    top_iv_columns = [variable[0] for variable in sorted_iv if variable[1] >= min_iv]\n",
    "    if 'TARGET' not in top_iv_columns:\n",
    "        top_iv_columns += ['TARGET']\n",
    "    return train_data[top_iv_columns], test_data[top_iv_columns]"
   ]
  },
  {
   "cell_type": "code",
   "execution_count": 32,
   "metadata": {
    "scrolled": true
   },
   "outputs": [],
   "source": [
    "def remove_high_corr_columns(train_woe, test_woe, cor_threshold):\n",
    "    correlation_matrix = train_woe.corr()\n",
    "    high_correlation_pairs = correlation_matrix.where(np.abs(correlation_matrix) > cor_threshold).stack().reset_index()\n",
    "    high_correlation_pairs.columns = ['Feature_1', 'Feature_2', 'Correlation']\n",
    "    high_correlation_pairs = high_correlation_pairs[high_correlation_pairs['Feature_1'] != high_correlation_pairs['Feature_2']]\n",
    "    high_correlation_pairs['Pair'] = high_correlation_pairs.apply(lambda row: frozenset([row['Feature_1'], row['Feature_2']]), axis=1)\n",
    "    high_correlation_pairs = high_correlation_pairs.drop_duplicates(subset='Pair').drop(columns=['Pair'])\n",
    "\n",
    "    iv_dict = get_iv(bins)\n",
    "    columns_to_drop = []\n",
    "    for index, row in high_correlation_pairs.iterrows():\n",
    "        if iv_dict[row['Feature_1'][:-4]] >= iv_dict[row['Feature_2'][:-4]]:\n",
    "            columns_to_drop += [row['Feature_2']]\n",
    "        else:\n",
    "            columns_to_drop += [row['Feature_1']]\n",
    "    \n",
    "    train_woe = train_woe.drop(columns_to_drop, axis=1)\n",
    "    test_woe = test_woe.drop(columns_to_drop, axis=1)\n",
    "    \n",
    "    return train_woe, test_woe"
   ]
  },
  {
   "cell_type": "markdown",
   "metadata": {},
   "source": [
    "## working code"
   ]
  },
  {
   "cell_type": "markdown",
   "metadata": {},
   "source": [
    "### create scorecard"
   ]
  },
  {
   "cell_type": "code",
   "execution_count": 81,
   "metadata": {
    "scrolled": false
   },
   "outputs": [
    {
     "name": "stdout",
     "output_type": "stream",
     "text": [
      "[INFO] creating woe binning ...\n",
      "Binning on 142046 rows and 26 columns in 00:00:19\n",
      "[INFO] converting into woe values ...\n",
      "[INFO] converting into woe values ...\n",
      "scorecard generation completed\n"
     ]
    }
   ],
   "source": [
    "working_data = merged_data.copy()\n",
    "working_data = working_data.drop(columns=['FLAG_MOBIL', 'SK_ID_CURR'])\n",
    "train, test = sc.split_df(working_data, y = 'TARGET', ratio = .7).values()\n",
    "# train = train.copy()\n",
    "# test = test.copy()\n",
    "bins = sc.woebin(train, y = 'TARGET')\n",
    "\n",
    "min_iv = 0.02\n",
    "train, test = remove_low_iv_columns(train, test, bins, min_iv)\n",
    "\n",
    "train_woe = sc.woebin_ply(train, bins)\n",
    "test_woe = sc.woebin_ply(test, bins)\n",
    "\n",
    "max_corr = 0.5\n",
    "train_woe, test_woe = remove_high_corr_columns(train_woe, test_woe, max_corr)\n",
    "\n",
    "y_train = train_woe.loc[:, 'TARGET']\n",
    "X_train = train_woe.loc[:, train_woe.columns != 'TARGET']\n",
    "y_test = test_woe.loc[:, 'TARGET']\n",
    "X_test = test_woe.loc[:, train_woe.columns != 'TARGET']\n",
    "lr = linear_model.LogisticRegression(class_weight='balanced')\n",
    "lr.fit(X_train, y_train)\n",
    "pd.Series(np.concatenate([lr.intercept_, lr.coef_[0]]),\n",
    "          index = np.concatenate([['intercept'], lr.feature_names_in_]) )\n",
    "card = sc.scorecard(bins, lr, X_train.columns, points0 = 600, odds0 = 1/19, pdo = 20, basepoints_eq0 = True)\n",
    "print(\"scorecard generation completed\")"
   ]
  },
  {
   "cell_type": "markdown",
   "metadata": {},
   "source": [
    "### test scorecard performance"
   ]
  },
  {
   "cell_type": "code",
   "execution_count": 82,
   "metadata": {
    "scrolled": true
   },
   "outputs": [
    {
     "name": "stdout",
     "output_type": "stream",
     "text": [
      "*** Training Data Performance ***\n",
      "Confusion matrix:\n",
      "[[ 18395 111577]\n",
      " [   596  11478]]\n",
      "PCC measures:\n",
      "              precision    recall  f1-score   support\n",
      "\n",
      "           0       0.97      0.14      0.25    129972\n",
      "           1       0.09      0.95      0.17     12074\n",
      "\n",
      "    accuracy                           0.21    142046\n",
      "   macro avg       0.53      0.55      0.21    142046\n",
      "weighted avg       0.89      0.21      0.24    142046\n",
      "\n",
      "*** Test Data Performance ***\n",
      "Confusion matrix:\n",
      "[[ 7816 47887]\n",
      " [  242  4933]]\n",
      "PCC measures:\n",
      "              precision    recall  f1-score   support\n",
      "\n",
      "           0       0.97      0.14      0.25     55703\n",
      "           1       0.09      0.95      0.17      5175\n",
      "\n",
      "    accuracy                           0.21     60878\n",
      "   macro avg       0.53      0.55      0.21     60878\n",
      "weighted avg       0.90      0.21      0.24     60878\n",
      "\n"
     ]
    }
   ],
   "source": [
    "\n",
    "train_score = sc.scorecard_ply(train.copy(), card)\n",
    "test_score = sc.scorecard_ply(test.copy(), card)\n",
    "# 10:1 of default \n",
    "# cutoff = 580\n",
    "\n",
    "# 5:1 of default\n",
    "# cutoff = 560\n",
    "\n",
    "# 2.5:1 of default\n",
    "cutoff = 540\n",
    "\n",
    "# 1.76:1 of default\n",
    "# cutoff = 530\n",
    "\n",
    "# 0.625:1 of default\n",
    "# cutoff = 500\n",
    "\n",
    "# create sets of predicted bad to compare with actual bad\n",
    "predicted_bad_train = (train_score < cutoff)\n",
    "predicted_bad_train_list = predicted_bad_train.astype(int).values.flatten().tolist()\n",
    "predicted_bad_test = (test_score < cutoff)\n",
    "predicted_bad_test_list = predicted_bad_test.astype(int).values.flatten().tolist()\n",
    "\n",
    "print('*** Training Data Performance ***')\n",
    "print('Confusion matrix:')\n",
    "print(metrics.confusion_matrix(y_train, predicted_bad_train_list))\n",
    "print('PCC measures:')\n",
    "print(metrics.classification_report(y_train, predicted_bad_train_list))\n",
    "\n",
    "print('*** Test Data Performance ***')\n",
    "print('Confusion matrix:')\n",
    "print(metrics.confusion_matrix(y_test, predicted_bad_test_list))\n",
    "print('PCC measures:')\n",
    "print(metrics.classification_report(y_test, predicted_bad_test_list))"
   ]
  },
  {
   "cell_type": "code",
   "execution_count": 68,
   "metadata": {},
   "outputs": [
    {
     "name": "stdout",
     "output_type": "stream",
     "text": [
      "Cutoff score of 540: 15,981 applications approved (11.3%)\n"
     ]
    },
    {
     "data": {
      "image/png": "[encoded data removed]",
      "text/plain": [
       "<Figure size 504x288 with 1 Axes>"
      ]
     },
     "metadata": {
      "needs_background": "light"
     },
     "output_type": "display_data"
    }
   ],
   "source": [
    "# combine scores for train and test data to assess distribution for entire population\n",
    "combined_score = pd.concat([train_score, test_score], ignore_index=True)\n",
    "\n",
    "# plot distribution of scores on copmbined data\n",
    "combined_score.hist(figsize = (7, 4), bins = 60)\n",
    "plt.tight_layout()\n",
    "\n",
    "approval_count = train_score[train_score[\"score\"]>cutoff].count()['score']\n",
    "approval_rate = approval_count/train_score.shape[0]\n",
    "print(f'Cutoff score of {cutoff:.0f}: {approval_count:,.0f} applications approved ({approval_rate:.1%})')"
   ]
  },
  {
   "cell_type": "code",
   "execution_count": 69,
   "metadata": {},
   "outputs": [
    {
     "name": "stdout",
     "output_type": "stream",
     "text": [
      "Cutoff score of 540: 4566 defaults expected\n"
     ]
    }
   ],
   "source": [
    "###### sample code\n",
    "\n",
    "# calculate expected number of defaults\n",
    "odds_at_cutoff = 2.5\n",
    "\n",
    "default_prob = 1/(1+odds_at_cutoff)\n",
    "defaults = default_prob*approval_count\n",
    "print(f'Cutoff score of {cutoff:.0f}: {defaults:.0f} defaults expected')"
   ]
  },
  {
   "cell_type": "code",
   "execution_count": 70,
   "metadata": {},
   "outputs": [
    {
     "name": "stdout",
     "output_type": "stream",
     "text": [
      "{'AMT_CREDIT_SUM_DEBT':                variable                 bin  points\n",
      "38  AMT_CREDIT_SUM_DEBT             missing    70.0\n",
      "39  AMT_CREDIT_SUM_DEBT      [-inf,20000.0)    81.0\n",
      "40  AMT_CREDIT_SUM_DEBT   [20000.0,80000.0)    73.0\n",
      "41  AMT_CREDIT_SUM_DEBT  [80000.0,300000.0)    69.0\n",
      "42  AMT_CREDIT_SUM_DEBT      [300000.0,inf)    72.0,\n",
      " 'AMT_GOODS_PRICE':            variable                   bin  points\n",
      "66  AMT_GOODS_PRICE               missing    81.0\n",
      "67  AMT_GOODS_PRICE       [-inf,150000.0)    79.0\n",
      "68  AMT_GOODS_PRICE   [150000.0,300000.0)    73.0\n",
      "69  AMT_GOODS_PRICE   [300000.0,500000.0)    67.0\n",
      "70  AMT_GOODS_PRICE   [500000.0,900000.0)    75.0\n",
      "71  AMT_GOODS_PRICE  [900000.0,1100000.0)    81.0\n",
      "72  AMT_GOODS_PRICE       [1100000.0,inf)    85.0,\n",
      " 'CREDIT_ACTIVE':          variable            bin  points\n",
      "90  CREDIT_ACTIVE        missing    71.0\n",
      "91  CREDIT_ACTIVE         Closed    77.0\n",
      "92  CREDIT_ACTIVE  Active%,%Sold    70.0,\n",
      " 'DAYS_CREDIT_UPDATE':               variable               bin  points\n",
      "61  DAYS_CREDIT_UPDATE           missing    72.0\n",
      "62  DAYS_CREDIT_UPDATE    [-inf,-1700.0)    76.0\n",
      "63  DAYS_CREDIT_UPDATE  [-1700.0,-700.0)    74.0\n",
      "64  DAYS_CREDIT_UPDATE    [-700.0,-50.0)    73.0\n",
      "65  DAYS_CREDIT_UPDATE       [-50.0,inf)    71.0,\n",
      " 'DAYS_EMPLOYED':          variable                bin  points\n",
      "26  DAYS_EMPLOYED     [-inf,-4000.0)    82.0\n",
      "27  DAYS_EMPLOYED  [-4000.0,-2000.0)    75.0\n",
      "28  DAYS_EMPLOYED  [-2000.0,-1400.0)    71.0\n",
      "29  DAYS_EMPLOYED      [-1400.0,0.0)    67.0\n",
      "30  DAYS_EMPLOYED          [0.0,inf)    82.0,\n",
      " 'EXT_SOURCE_1':         variable                        bin  points\n",
      "43  EXT_SOURCE_1                    missing    72.0\n",
      "44  EXT_SOURCE_1                [-inf,0.26)    55.0\n",
      "45  EXT_SOURCE_1                [0.26,0.42)    68.0\n",
      "46  EXT_SOURCE_1                [0.42,0.56)    79.0\n",
      "47  EXT_SOURCE_1  [0.56,0.7000000000000001)    85.0\n",
      "48  EXT_SOURCE_1   [0.7000000000000001,inf)    98.0,\n",
      " 'NAME_INCOME_TYPE':             variable                                     bin  points\n",
      "73  NAME_INCOME_TYPE       Businessman%,%Student%,%Pensioner    79.0\n",
      "74  NAME_INCOME_TYPE                           State servant    77.0\n",
      "75  NAME_INCOME_TYPE                    Commercial associate    74.0\n",
      "76  NAME_INCOME_TYPE  Working%,%Maternity leave%,%Unemployed    71.0,\n",
      " 'basepoints':      variable  bin  points\n",
      "0  basepoints  NaN       0}\n"
     ]
    }
   ],
   "source": [
    "pprint.pprint(card)"
   ]
  },
  {
   "cell_type": "code",
   "execution_count": null,
   "metadata": {},
   "outputs": [],
   "source": []
  }
 ],
 "metadata": {
  "kernelspec": {
   "display_name": "Python 3 (ipykernel)",
   "language": "python",
   "name": "python3"
  },
  "language_info": {
   "codemirror_mode": {
    "name": "ipython",
    "version": 3
   },
   "file_extension": ".py",
   "mimetype": "text/x-python",
   "name": "python",
   "nbconvert_exporter": "python",
   "pygments_lexer": "ipython3",
   "version": "3.9.12"
  }
 },
 "nbformat": 4,
 "nbformat_minor": 4
}

{
 "cells": [
  {
   "cell_type": "code",
   "execution_count": 1,
   "metadata": {},
   "outputs": [],
   "source": [
    "import pandas as pd\n",
    "bureau_data=pd.read_csv(\"IS453 Group Assignment - Bureau Data.csv\")\n",
    "application_data=pd.read_csv(\"IS453 Group Assignment - Application Data.csv\")\n"
   ]
  },
  {
   "cell_type": "code",
   "execution_count": null,
   "metadata": {},
   "outputs": [],
   "source": [
    "\n",
    "#choosing columns to keep \n",
    "application_data_cleaned = application_data[[\"SK_ID_CURR\",'TARGET','FLAG_OWN_CAR','FLAG_OWN_REALTY',\n",
    "                                             'CNT_CHILDREN','AMT_INCOME_TOTAL','AMT_CREDIT','AMT_ANNUITY','AMT_GOODS_PRICE',\n",
    "                                             'NAME_INCOME_TYPE','DAYS_EMPLOYED','OWN_CAR_AGE','FLAG_MOBIL','FLAG_CONT_MOBILE',\n",
    "                                             'CNT_FAM_MEMBERS','REG_REGION_NOT_LIVE_REGION','EXT_SOURCE_1','AMT_REQ_CREDIT_BUREAU_MON']]\n",
    "bureau_data_cleaned=bureau_data[[\"SK_ID_CURR\",\"SK_ID_BUREAU\",\"CREDIT_ACTIVE\",'CREDIT_DAY_OVERDUE','AMT_CREDIT_MAX_OVERDUE',\n",
    "                                 'CNT_CREDIT_PROLONG','AMT_CREDIT_SUM','AMT_CREDIT_SUM_DEBT','AMT_CREDIT_SUM_OVERDUE',\n",
    "                                 'CREDIT_TYPE','DAYS_CREDIT_UPDATE','AMT_ANNUITY']]\n",
    "\n",
    "#choosing rows to keep based on automobile loan\n",
    "app_filtered = application_data_cleaned[application_data_cleaned['FLAG_OWN_CAR'] == 'N']\n",
    "bureau_filtered = bureau_data_cleaned[bureau_data_cleaned['CREDIT_TYPE'] != 'Car loan']\n",
    "\n",
    "#flattening bureau data\n",
    "\n",
    "# Aggregating Bureau Data for each application (SK_ID_CURR)\n",
    "bureau_aggregated = bureau_filtered.groupby('SK_ID_CURR').agg({\n",
    "    'SK_ID_BUREAU': 'count',  # Number of past loans\n",
    "    'CREDIT_ACTIVE': lambda x: x.value_counts().idxmax(),  # Most frequent credit status\n",
    "    'CREDIT_DAY_OVERDUE': 'mean',  # Average overdue days\n",
    "    'AMT_CREDIT_MAX_OVERDUE': 'max',  # Max overdue amount\n",
    "    'CNT_CREDIT_PROLONG': 'sum',  # Total prolongations\n",
    "    'AMT_CREDIT_SUM': 'sum',  # Total outstanding credit\n",
    "    'AMT_CREDIT_SUM_DEBT': 'mean',  # Average current debt\n",
    "    'AMT_CREDIT_SUM_OVERDUE': 'max',  # Max overdue amount\n",
    "    'CREDIT_TYPE': lambda x: x.value_counts().idxmax(),  # Most frequent credit type\n",
    "    'DAYS_CREDIT_UPDATE': 'min',  # Most recent credit update\n",
    "    'AMT_ANNUITY': 'mean',  # Average annuity payment\n",
    "}).reset_index()\n",
    "\n",
    "#feature engineering\n",
    "# Rename SK_ID_BUREAU count column\n",
    "bureau_aggregated.rename(columns={\"SK_ID_BUREAU\": \"CREDIT_COUNT\"}, inplace=True)\n",
    "\n",
    "# Create a new feature for overdue credit count\n",
    "bureau_aggregated['OVERDUE_CREDIT_COUNT'] = bureau_data[bureau_data['CREDIT_DAY_OVERDUE'] > 0].groupby('SK_ID_CURR')['SK_ID_BUREAU'].transform('count')\n",
    "\n",
    "# Merge the aggregated bureau data with application data\n",
    "merged_data = application_data_cleaned.merge(bureau_aggregated, on='SK_ID_CURR', how='left')\n",
    "\n",
    "#number of rows\n",
    "rows=merged_data.shape[0]\n",
    "print(f\"Number of rows after selection: {rows}\")\n",
    "\n",
    "#calculate percentage of bad loans after filtering\n",
    "total_loans=len(app_filtered)\n",
    "bad_loans=app_filtered[app_filtered['TARGET']==1].shape[0]\n",
    "bad_loans_percentage=(bad_loans/total_loans)*100\n",
    "print(f\"Percentage of Bad Loans after filtering:{bad_loans_percentage:.2f}%\")\n",
    "\n",
    "#calculate percentage of bad loans in orig dataset\n",
    "total_loans=len(application_data_cleaned)\n",
    "bad_loans=application_data_cleaned[application_data_cleaned['TARGET']==1].shape[0]\n",
    "bad_loans_percentage=(bad_loans/total_loans)*100\n",
    "print(f\"Percentage of Bad Loans in orig dataset:{bad_loans_percentage:.2f}%\")\n"
   ]
  },
  {
   "cell_type": "code",
   "execution_count": null,
   "metadata": {},
   "outputs": [],
   "source": [
    "merged_data"
   ]
  },
  {
   "cell_type": "code",
   "execution_count": null,
   "metadata": {},
   "outputs": [],
   "source": []
  }
 ],
 "metadata": {
  "kernelspec": {
   "display_name": "Python 3 (ipykernel)",
   "language": "python",
   "name": "python3"
  },
  "language_info": {
   "codemirror_mode": {
    "name": "ipython",
    "version": 3
   },
   "file_extension": ".py",
   "mimetype": "text/x-python",
   "name": "python",
   "nbconvert_exporter": "python",
   "pygments_lexer": "ipython3",
   "version": "3.9.12"
  }
 },
 "nbformat": 4,
 "nbformat_minor": 2
}

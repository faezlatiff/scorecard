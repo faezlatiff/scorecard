{
 "cells": [
  {
   "cell_type": "code",
   "execution_count": null,
   "id": "2139c2b8",
   "metadata": {},
   "outputs": [],
   "source": [
    "import warnings\n",
    "warnings.simplefilter(action='ignore', category=FutureWarning)\n",
    "warnings.simplefilter(action='ignore', category=UserWarning)\n",
    "\n",
    "import numpy as np\n",
    "import matplotlib.pyplot as plt\n",
    "import scorecardpy as sc\n",
    "\n",
    "working_data = # post-data prep dataframe here, i.e. merged_data or something\n",
    "train, test = sc.split_df(working_data, y = 'TARGET', ratio = .7).values()\n",
    "card = # YOUR SCORECARD AFTER LR HERE\n",
    "# something like this: sc.scorecard(bins, lr, X_train.columns, points0 = 600, odds0 = 1/19, pdo = 20, basepoints_eq0 = True)\n",
    "train_score = sc.scorecard_ply(train, card)\n",
    "test_score = sc.scorecard_ply(test, card)\n",
    "\n",
    "def get_default_prob(cutoff, base_odds=20, pdo=20, base_score=600):\n",
    "    odds_at_cutoff = base_odds / 2 ** ((base_score-cutoff)/pdo)\n",
    "    default_prob = 1/(1+odds_at_cutoff)\n",
    "    return default_prob\n",
    "\n",
    "avg_loan_amount = 41000\n",
    "avg_loss_per_default = 28700\n",
    "cutoff_scores = np.arange(555, 600, 1)\n",
    "profits_dict = {}\n",
    "\n",
    "for effective_interest_rate in range(4, 20, 2):\n",
    "    profits = []\n",
    "    for cutoff in cutoff_scores:\n",
    "        approval_count = train_score[train_score[\"score\"]>cutoff].count()['score']\n",
    "        default_count = (get_default_prob(cutoff) * approval_count).round()\n",
    "        revenue = (approval_count - default_count) * avg_loan_amount * effective_interest_rate * 0.01\n",
    "        loss = default_count * avg_loss_per_default\n",
    "        profit = revenue - loss\n",
    "        profits.append(profit)\n",
    "    profits_dict[effective_interest_rate] = profits\n",
    "    \n",
    "plt.figure(figsize=(10,6))\n",
    "for effective_interest_rate, profits in profits_dict.items():\n",
    "    plt.plot(cutoff_scores, profits, marker='o', label=f'Effective Interest Rate = {effective_interest_rate}%')\n",
    "\n",
    "plt.title(\"Profitability vs. Cutoff Score for Different EIRs\")\n",
    "plt.xlabel(\"Cutoff Score\")\n",
    "plt.ylabel(\"Profit (in millions)\")\n",
    "plt.grid(True)\n",
    "plt.legend()\n",
    "plt.show()\n",
    "\n",
    "# Find the best cutoff score for each revenue per loan value\n",
    "for revenue_per_loan, profits in profits_dict.items():\n",
    "    best_idx = np.argmax(profits)\n",
    "    print(f\"Best cutoff for EIR {revenue_per_loan}%: {cutoff_scores[best_idx]}, Profit = ${profits[best_idx]:,.2f}\")\n",
    "\n"
   ]
  }
 ],
 "metadata": {
  "kernelspec": {
   "display_name": "Python 3 (ipykernel)",
   "language": "python",
   "name": "python3"
  },
  "language_info": {
   "codemirror_mode": {
    "name": "ipython",
    "version": 3
   },
   "file_extension": ".py",
   "mimetype": "text/x-python",
   "name": "python",
   "nbconvert_exporter": "python",
   "pygments_lexer": "ipython3",
   "version": "3.9.12"
  }
 },
 "nbformat": 4,
 "nbformat_minor": 5
}

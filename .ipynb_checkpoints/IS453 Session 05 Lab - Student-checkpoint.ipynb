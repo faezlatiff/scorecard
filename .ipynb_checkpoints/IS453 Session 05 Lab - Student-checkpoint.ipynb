{
 "cells": [
  {
   "cell_type": "markdown",
   "metadata": {},
   "source": [
    "<h2>IS453 Financial Analytics</h2><h2>Week 5 - Returns Distribution and Portfolio Analysis</h2>"
   ]
  },
  {
   "cell_type": "code",
   "execution_count": 4,
   "metadata": {},
   "outputs": [],
   "source": [
    "import matplotlib.pyplot as plt\n",
    "import pandas as pd\n",
    "import numpy as np\n",
    "from matplotlib.ticker import FuncFormatter\n",
    "import yfinance as yf\n",
    "import statsmodels.api as sm\n",
    "\n",
    "from scipy.stats import norm\n",
    "\n",
    "#if compatibity problems force versions\n",
    "# !pip install scipy==1.7.3\n",
    "# !pip install numpy==1.22.4"
   ]
  },
  {
   "cell_type": "markdown",
   "metadata": {},
   "source": [
    "## 1. Distribution of returns\n",
    "\n",
    "### Generate a histograms with normal distribution plot \n",
    "Calculate daily returns for 2021 for 'AAPL', 'SPY', and 'TLT' and generate \n",
    "histograms with normal distribution plots to help answer the questions that follow.\n",
    "\n",
    "Histograms can be generated using the plt.hist() method. <BR>\n",
    "A normal distribution curve can be generated using the numpy.linspace() method."
   ]
  },
  {
   "cell_type": "markdown",
   "metadata": {},
   "source": [
    "**Get the price data and calculate percent returns**"
   ]
  },
  {
   "cell_type": "code",
   "execution_count": 5,
   "metadata": {},
   "outputs": [],
   "source": [
    "# define function to get last trading day of year\n",
    "def last_trading_day(year):\n",
    "    return (pd.Timestamp(f'{year}-12-31') if pd.Timestamp(f'{year}-12-31').isoweekday() < 6 \\\n",
    "            else pd.Timestamp(f'{year}-12-31') - pd.offsets.BDay(1)).strftime('%Y-%m-%d')"
   ]
  },
  {
   "cell_type": "code",
   "execution_count": 6,
   "metadata": {},
   "outputs": [
    {
     "name": "stdout",
     "output_type": "stream",
     "text": [
      "[*********************100%%**********************]  3 of 3 completed\n"
     ]
    },
    {
     "data": {
      "text/html": [
       "<div>\n",
       "<style scoped>\n",
       "    .dataframe tbody tr th:only-of-type {\n",
       "        vertical-align: middle;\n",
       "    }\n",
       "\n",
       "    .dataframe tbody tr th {\n",
       "        vertical-align: top;\n",
       "    }\n",
       "\n",
       "    .dataframe thead th {\n",
       "        text-align: right;\n",
       "    }\n",
       "</style>\n",
       "<table border=\"1\" class=\"dataframe\">\n",
       "  <thead>\n",
       "    <tr style=\"text-align: right;\">\n",
       "      <th></th>\n",
       "      <th>AAPL</th>\n",
       "      <th>SPY</th>\n",
       "      <th>TLT</th>\n",
       "    </tr>\n",
       "    <tr>\n",
       "      <th>Date</th>\n",
       "      <th></th>\n",
       "      <th></th>\n",
       "      <th></th>\n",
       "    </tr>\n",
       "  </thead>\n",
       "  <tbody>\n",
       "    <tr>\n",
       "      <th>2021-01-04</th>\n",
       "      <td>-0.024719</td>\n",
       "      <td>-0.013614</td>\n",
       "      <td>-0.001205</td>\n",
       "    </tr>\n",
       "    <tr>\n",
       "      <th>2021-01-05</th>\n",
       "      <td>0.012364</td>\n",
       "      <td>0.006887</td>\n",
       "      <td>-0.007426</td>\n",
       "    </tr>\n",
       "    <tr>\n",
       "      <th>2021-01-06</th>\n",
       "      <td>-0.033662</td>\n",
       "      <td>0.005978</td>\n",
       "      <td>-0.020528</td>\n",
       "    </tr>\n",
       "    <tr>\n",
       "      <th>2021-01-07</th>\n",
       "      <td>0.034123</td>\n",
       "      <td>0.014857</td>\n",
       "      <td>-0.008815</td>\n",
       "    </tr>\n",
       "    <tr>\n",
       "      <th>2021-01-08</th>\n",
       "      <td>0.008631</td>\n",
       "      <td>0.005697</td>\n",
       "      <td>-0.003228</td>\n",
       "    </tr>\n",
       "    <tr>\n",
       "      <th>...</th>\n",
       "      <td>...</td>\n",
       "      <td>...</td>\n",
       "      <td>...</td>\n",
       "    </tr>\n",
       "    <tr>\n",
       "      <th>2021-12-27</th>\n",
       "      <td>0.022975</td>\n",
       "      <td>0.014152</td>\n",
       "      <td>0.002424</td>\n",
       "    </tr>\n",
       "    <tr>\n",
       "      <th>2021-12-28</th>\n",
       "      <td>-0.005767</td>\n",
       "      <td>-0.000817</td>\n",
       "      <td>-0.003963</td>\n",
       "    </tr>\n",
       "    <tr>\n",
       "      <th>2021-12-29</th>\n",
       "      <td>0.000502</td>\n",
       "      <td>0.001279</td>\n",
       "      <td>-0.010925</td>\n",
       "    </tr>\n",
       "    <tr>\n",
       "      <th>2021-12-30</th>\n",
       "      <td>-0.006578</td>\n",
       "      <td>-0.002764</td>\n",
       "      <td>0.008386</td>\n",
       "    </tr>\n",
       "    <tr>\n",
       "      <th>2021-12-31</th>\n",
       "      <td>-0.003535</td>\n",
       "      <td>-0.002520</td>\n",
       "      <td>0.001961</td>\n",
       "    </tr>\n",
       "  </tbody>\n",
       "</table>\n",
       "<p>252 rows × 3 columns</p>\n",
       "</div>"
      ],
      "text/plain": [
       "                AAPL       SPY       TLT\n",
       "Date                                    \n",
       "2021-01-04 -0.024719 -0.013614 -0.001205\n",
       "2021-01-05  0.012364  0.006887 -0.007426\n",
       "2021-01-06 -0.033662  0.005978 -0.020528\n",
       "2021-01-07  0.034123  0.014857 -0.008815\n",
       "2021-01-08  0.008631  0.005697 -0.003228\n",
       "...              ...       ...       ...\n",
       "2021-12-27  0.022975  0.014152  0.002424\n",
       "2021-12-28 -0.005767 -0.000817 -0.003963\n",
       "2021-12-29  0.000502  0.001279 -0.010925\n",
       "2021-12-30 -0.006578 -0.002764  0.008386\n",
       "2021-12-31 -0.003535 -0.002520  0.001961\n",
       "\n",
       "[252 rows x 3 columns]"
      ]
     },
     "execution_count": 6,
     "metadata": {},
     "output_type": "execute_result"
    }
   ],
   "source": [
    "# sample code\n",
    "tickers = ['AAPL','SPY','TLT']\n",
    "\n",
    "start_date = last_trading_day(2020)\n",
    "end_date = '2022-01-01'\n",
    "\n",
    "data1 = yf.download(tickers, start= start_date, end= end_date)\n",
    "\n",
    "stock_prices = data1[['Adj Close']]\n",
    "stocks_pct_chg = stock_prices['Adj Close'].pct_change().dropna()\n",
    "\n",
    "stocks_pct_chg"
   ]
  },
  {
   "cell_type": "markdown",
   "metadata": {
    "nteract": {
     "transient": {
      "deleting": false
     }
    }
   },
   "source": [
    "**Generate a histogram of stock returns distribution**"
   ]
  },
  {
   "cell_type": "code",
   "execution_count": 7,
   "metadata": {
    "nteract": {
     "transient": {
      "deleting": false
     }
    }
   },
   "outputs": [
    {
     "data": {
      "image/png": "[encoded data removed]",
      "text/plain": [
       "<Figure size 720x360 with 1 Axes>"
      ]
     },
     "metadata": {
      "needs_background": "light"
     },
     "output_type": "display_data"
    }
   ],
   "source": [
    "# sample code \n",
    "# generate AAPL histogram\n",
    "\n",
    "bins = 30\n",
    "\n",
    "# create histogram plot\n",
    "fig = plt.figure(figsize=(10,5))\n",
    "ax = fig.add_subplot()\n",
    "ax.hist(stocks_pct_chg['AAPL'], bins=bins, edgecolor='black', label='histogram')\n",
    "ax.set_xlabel('daily return')\n",
    "ax.set_ylabel('frequency')\n",
    "\n",
    "plt.show()"
   ]
  },
  {
   "cell_type": "markdown",
   "metadata": {},
   "source": [
    "**Plot the histogram with a normal distribution curve overlay**"
   ]
  },
  {
   "cell_type": "code",
   "execution_count": 8,
   "metadata": {},
   "outputs": [
    {
     "data": {
      "image/png": "[encoded data removed]",
      "text/plain": [
       "<Figure size 720x360 with 1 Axes>"
      ]
     },
     "metadata": {
      "needs_background": "light"
     },
     "output_type": "display_data"
    }
   ],
   "source": [
    "# sample code \n",
    "\n",
    "bins = 30\n",
    "\n",
    "# create histogram plot\n",
    "fig = plt.figure(figsize=(10,5))\n",
    "plt.hist(stocks_pct_chg['AAPL'], bins=bins, edgecolor='black', label='histogram', density=True)\n",
    "plt.xlabel('daily return AAPL')\n",
    "plt.ylabel('frequency')\n",
    "\n",
    "# calculate the normal PDF\n",
    "mu, std = norm.fit(stocks_pct_chg['AAPL'])  \n",
    "xmin, xmax = plt.xlim() \n",
    "x = np.linspace(xmin, xmax, 100) \n",
    "p = norm.pdf(x, mu, std) \n",
    "\n",
    "# plot normal curve\n",
    "plt.plot(x, p, color=\"r\", label='normal')\n",
    "plt.show()"
   ]
  },
  {
   "cell_type": "code",
   "execution_count": null,
   "metadata": {},
   "outputs": [],
   "source": []
  },
  {
   "cell_type": "markdown",
   "metadata": {},
   "source": [
    "**Follow the same steps to plot the distributions for SPY and TLT together with the fitted normal PDF**"
   ]
  },
  {
   "cell_type": "code",
   "execution_count": 9,
   "metadata": {},
   "outputs": [
    {
     "data": {
      "image/png": "[encoded data removed]",
      "text/plain": [
       "<Figure size 720x360 with 1 Axes>"
      ]
     },
     "metadata": {
      "needs_background": "light"
     },
     "output_type": "display_data"
    }
   ],
   "source": [
    "# your code here\n",
    "bins = 30\n",
    "\n",
    "# create histogram plot\n",
    "fig = plt.figure(figsize=(10,5))\n",
    "plt.hist(stocks_pct_chg['SPY'], bins=bins, edgecolor='black', label='histogram', density=True)\n",
    "plt.xlabel('daily return SPY')\n",
    "plt.ylabel('frequency')\n",
    "\n",
    "# calculate the normal PDF\n",
    "mu, std = norm.fit(stocks_pct_chg['SPY'])  \n",
    "xmin, xmax = plt.xlim() \n",
    "x = np.linspace(xmin, xmax, 100) \n",
    "p = norm.pdf(x, mu, std) \n",
    "\n",
    "# plot normal curve\n",
    "plt.plot(x, p, color=\"r\", label='normal')\n",
    "plt.show()"
   ]
  },
  {
   "cell_type": "code",
   "execution_count": 10,
   "metadata": {
    "nteract": {
     "transient": {
      "deleting": false
     }
    }
   },
   "outputs": [
    {
     "data": {
      "image/png": "[encoded data removed]",
      "text/plain": [
       "<Figure size 720x360 with 1 Axes>"
      ]
     },
     "metadata": {
      "needs_background": "light"
     },
     "output_type": "display_data"
    }
   ],
   "source": [
    "# your code here\n",
    "bins = 30\n",
    "\n",
    "# create histogram plot\n",
    "fig = plt.figure(figsize=(10,5))\n",
    "plt.hist(stocks_pct_chg['TLT'], bins=bins, edgecolor='black', label='histogram', density=True)\n",
    "plt.xlabel('daily return TLT')\n",
    "plt.ylabel('frequency')\n",
    "\n",
    "# calculate the normal PDF\n",
    "mu, std = norm.fit(stocks_pct_chg['TLT'])  \n",
    "xmin, xmax = plt.xlim() \n",
    "x = np.linspace(xmin, xmax, 100) \n",
    "p = norm.pdf(x, mu, std) \n",
    "\n",
    "# plot normal curve\n",
    "plt.plot(x, p, color=\"r\", label='normal')\n",
    "plt.show()"
   ]
  },
  {
   "cell_type": "markdown",
   "metadata": {
    "nteract": {
     "transient": {
      "deleting": false
     }
    }
   },
   "source": [
    "**Exercise Q1**\n",
    "\n",
    "Based on visual inspection of the graphs, are the distributions: \n",
    "\n",
    "- Leptokurtic - with higher, sharper central peaks, and longer tails; or <br>\n",
    "- Platokurtic - with lower central peaks, short tails?\n",
    "- Or is it too difficult to tell?"
   ]
  },
  {
   "cell_type": "markdown",
   "metadata": {
    "nteract": {
     "transient": {
      "deleting": false
     }
    }
   },
   "source": [
    "Your answer here\n",
    "- AAPL: Leptokurtic\n",
    "- SPY: Leptokurtic\n",
    "- TLT: Too difficult to tell"
   ]
  },
  {
   "cell_type": "markdown",
   "metadata": {},
   "source": [
    "## 2. Kurtosis\n",
    "\n",
    "Calculate the skew and kurtosis for the returns.\n",
    "\n",
    "*Hint: use df.kurt(), note that the kurt() method returns 0 for a normal distribution.*"
   ]
  },
  {
   "cell_type": "code",
   "execution_count": 11,
   "metadata": {
    "jupyter": {
     "outputs_hidden": false,
     "source_hidden": false
    },
    "nteract": {
     "transient": {
      "deleting": false
     }
    }
   },
   "outputs": [
    {
     "data": {
      "text/plain": [
       "AAPL    0.366164\n",
       "SPY     0.668641\n",
       "TLT     0.420252\n",
       "dtype: float64"
      ]
     },
     "execution_count": 11,
     "metadata": {},
     "output_type": "execute_result"
    }
   ],
   "source": [
    "# your code here\n",
    "stocks_pct_chg.kurt()"
   ]
  },
  {
   "cell_type": "markdown",
   "metadata": {
    "nteract": {
     "transient": {
      "deleting": false
     }
    }
   },
   "source": [
    "**Exercise Qn 2**\n",
    "\n",
    "Based on the calculated values\n",
    "\n",
    "a. Are the distributions normal Gaussian, leptokurtic or platykurtic?<BR>\n",
    "*Hint: refer to slides 6 and 7 in Module 5.1*\n",
    "  \n",
    "b. Which instrument has the greatest kurtosis? Which has the least?\n",
    "  \n",
    "c. If you analysed the same instruments' data for a longer period of time do you think the kurtois would increase, decrease, or stay the same? Why?\n",
    "\n"
   ]
  },
  {
   "cell_type": "markdown",
   "metadata": {
    "nteract": {
     "transient": {
      "deleting": false
     }
    }
   },
   "source": [
    "Your answer here\n",
    "\n",
    "(a) and (b)\n",
    "- AAPL\n",
    "- SPY\n",
    "- TLT\n",
    "  \n",
    "(c) Longer data period affect on kurtosis:"
   ]
  },
  {
   "cell_type": "markdown",
   "metadata": {},
   "source": [
    "**Let's compare the kurtosis for AAPL for 5 years versus the previous 1 year calculation.**"
   ]
  },
  {
   "cell_type": "code",
   "execution_count": 12,
   "metadata": {},
   "outputs": [
    {
     "name": "stdout",
     "output_type": "stream",
     "text": [
      "[*********************100%%**********************]  1 of 1 completed\n",
      "5-year kurtosis: 6.66\n"
     ]
    }
   ],
   "source": [
    "# sample code\n",
    "\n",
    "tickers = ['AAPL']\n",
    "\n",
    "start_date = last_trading_day(2016)\n",
    "end_date = '2022-01-01'\n",
    "\n",
    "data5y = yf.download(tickers, start= start_date, end= end_date)\n",
    "\n",
    "stock_prices5y = data5y[['Adj Close']]\n",
    "stocks_pct_chg5y = stock_prices5y['Adj Close'].pct_change().dropna()\n",
    "\n",
    "print(f\"5-year kurtosis: {stocks_pct_chg5y.kurt():.3}\")"
   ]
  },
  {
   "cell_type": "markdown",
   "metadata": {},
   "source": [
    "## 3. Normal Q-Q Plot\n",
    "\n",
    "To check if distribution is normal\n",
    "\n",
    "Q-Q plot from statsmodels.api -<br>\n",
    "https://www.statsmodels.org/stable/generated/statsmodels.graphics.gofplots.qqplot.html"
   ]
  },
  {
   "cell_type": "code",
   "execution_count": 13,
   "metadata": {},
   "outputs": [
    {
     "data": {
      "image/png": "[encoded data removed]",
      "text/plain": [
       "<Figure size 432x288 with 1 Axes>"
      ]
     },
     "metadata": {
      "needs_background": "light"
     },
     "output_type": "display_data"
    }
   ],
   "source": [
    "# sample code\n",
    "\n",
    "sm.qqplot(stocks_pct_chg['AAPL'], line = 's')\n",
    "plt.title('Normal Q-Q Plot AAPL')\n",
    "plt.show()"
   ]
  },
  {
   "cell_type": "markdown",
   "metadata": {},
   "source": [
    "Follow the same steps to plot the normal QQ plots for SPY and TLT."
   ]
  },
  {
   "cell_type": "code",
   "execution_count": 14,
   "metadata": {},
   "outputs": [
    {
     "data": {
      "image/png": "[encoded data removed]",
      "text/plain": [
       "<Figure size 432x288 with 1 Axes>"
      ]
     },
     "metadata": {
      "needs_background": "light"
     },
     "output_type": "display_data"
    }
   ],
   "source": [
    "# your code here\n",
    "sm.qqplot(stocks_pct_chg['SPY'], line = 's')\n",
    "plt.title('Normal Q-Q Plot SPY')\n",
    "plt.show()"
   ]
  },
  {
   "cell_type": "code",
   "execution_count": 15,
   "metadata": {},
   "outputs": [
    {
     "data": {
      "image/png": "[encoded data removed]",
      "text/plain": [
       "<Figure size 432x288 with 1 Axes>"
      ]
     },
     "metadata": {
      "needs_background": "light"
     },
     "output_type": "display_data"
    }
   ],
   "source": [
    "# your code here\n",
    "sm.qqplot(stocks_pct_chg['TLT'], line = 's')\n",
    "plt.title('Normal Q-Q Plot TLT')\n",
    "plt.show()"
   ]
  },
  {
   "cell_type": "markdown",
   "metadata": {},
   "source": [
    "**Exercise Q3**\n",
    "\n",
    "a) Do the normal QQ-plots show that the instruments distributions are normal, platokurtic, or leptokurtic?\n",
    "\n",
    "*Hint: refer to slide 12 in Module 5.1*\n",
    "\n",
    "b) For the ETFs' returns, do the outliers that vary from the normal distribution relate to gains or losses?"
   ]
  },
  {
   "cell_type": "markdown",
   "metadata": {},
   "source": [
    "Your answer here\n",
    "- AAPL: Leptokurtic with skew, with outliers relating to losses.\n",
    "- SPY: Leptokurtic with skew, with outliers relating to losses.\n",
    "- TLT: Leptokurtic with skew, with outliers relating to gains. "
   ]
  },
  {
   "cell_type": "markdown",
   "metadata": {
    "nteract": {
     "transient": {
      "deleting": false
     }
    }
   },
   "source": [
    "# DYI"
   ]
  },
  {
   "cell_type": "markdown",
   "metadata": {},
   "source": [
    "## 4. Diversification\n",
    "Get the Adj Close prices for SPY, TLT, and EFA for 2-year period the last trading day before the start of Jan 2020 through Dec 2021.\n",
    "\n",
    "Calculate the correlation for each fund against the rest."
   ]
  },
  {
   "cell_type": "code",
   "execution_count": 16,
   "metadata": {},
   "outputs": [
    {
     "name": "stdout",
     "output_type": "stream",
     "text": [
      "[*********************100%%**********************]  3 of 3 completed\n",
      "       EFA    SPY    TLT\n",
      "EFA  1.000  0.908 -0.386\n",
      "SPY  0.908  1.000 -0.402\n",
      "TLT -0.386 -0.402  1.000\n"
     ]
    }
   ],
   "source": [
    "# sample code\n",
    "\n",
    "tickers = ['SPY','TLT', 'EFA']\n",
    "start_date = last_trading_day(2019)\n",
    "end_date = '2022-01-01'\n",
    "\n",
    "data2 = yf.download(tickers, start= start_date, end= end_date)\n",
    "\n",
    "stock_prices2 = data2[['Adj Close']]\n",
    "stock_prices2 = stock_prices2['Adj Close']\n",
    "pct_returns = stock_prices2.pct_change().dropna()\n",
    "\n",
    "correlation = pct_returns.corr()\n",
    "print(correlation.round(3))\n"
   ]
  },
  {
   "cell_type": "markdown",
   "metadata": {
    "nteract": {
     "transient": {
      "deleting": false
     }
    }
   },
   "source": [
    "**DYI Q1: Measure correlations**\n",
    "- Which funds have the highest correlation? <b> EFA and SPY, at 0.908. </b>\n",
    "- Which funds are negatively correlated? <b> EFA and TLT (-0.386), SPY and TLT (-0.402).</b> "
   ]
  },
  {
   "cell_type": "markdown",
   "metadata": {},
   "source": [
    "### Calculate metrics for each individual fund EFA, SPY, and TLT\n",
    "  \n",
    "Assume daily risk free rate of 0.0001\n",
    "\n",
    "Calculate the following metrics\n",
    "- annualized return\n",
    "- annualized volatility\n",
    "- annualized Sharpe ratio\n",
    "- kurtosis\n",
    "\n",
    "Use the standard devivation (sqrt of the variance) of the daily percentage returns to calculate the annualized volatility.\n",
    "\n",
    "*Hint: Refer to formulas from class notes or previous labs*"
   ]
  },
  {
   "cell_type": "code",
   "execution_count": 32,
   "metadata": {
    "scrolled": true
   },
   "outputs": [
    {
     "name": "stdout",
     "output_type": "stream",
     "text": [
      "ANNUALIZED RETURNS\n",
      "EFA    0.009922\n",
      "SPY    0.002549\n",
      "TLT    0.004732\n",
      "dtype: float64\n",
      "ANNUAL VOLATILITIES\n",
      "EFA    0.240873\n",
      "SPY    0.254999\n",
      "TLT    0.180948\n",
      "dtype: float64\n",
      "SHARPE RATIOS\n",
      "EFA    0.395401\n",
      "SPY    0.857396\n",
      "TLT    0.280801\n",
      "dtype: float64\n",
      "KURTOSIS\n",
      "EFA    14.373658\n",
      "SPY    12.587288\n",
      "TLT     9.842972\n",
      "dtype: float64\n"
     ]
    }
   ],
   "source": [
    "# your code here\n",
    "\n",
    "#annualized returns =\n",
    "# ARR = (1+period return)^(1/N) - 1) where N = number of years\n",
    "prices = data2['Adj Close']\n",
    "period_return = (prices.iloc[-1] / prices.iloc[0]) / prices.iloc[0]\n",
    "arr_2y = (1 + period_return)**(1/2)-1\n",
    "print('ANNUALIZED RETURNS')\n",
    "print(arr_2y)\n",
    "\n",
    "#ann_volatilities = \n",
    "ann_hv = np.log(prices / prices.shift(1)).std() * np.sqrt(252)\n",
    "print('ANNUAL VOLATILITIES')\n",
    "print(ann_hv)\n",
    "\n",
    "#Sharpe ratios =\n",
    "daily_risk_free = 0.0001\n",
    "avg_rf_ret = daily_risk_free\n",
    "pct_returns = prices.pct_change().dropna()\n",
    "avg_daily_ret = pct_returns.mean()\n",
    "std_excess_ret = (pct_returns - daily_risk_free).std()\n",
    "sharpe = ((avg_daily_ret - avg_rf_ret)/std_excess_ret)*np.sqrt(252)\n",
    "print('SHARPE RATIOS')\n",
    "print(sharpe)\n",
    "\n",
    "#kurtosis =\n",
    "kurtosis = prices.pct_change().dropna().kurt()\n",
    "print('KURTOSIS')\n",
    "print(kurtosis)"
   ]
  },
  {
   "cell_type": "markdown",
   "metadata": {
    "nteract": {
     "transient": {
      "deleting": false
     }
    }
   },
   "source": [
    "**DIY Q2:**<br>\n",
    "- Which fund has the highest return?\n",
    "- Which fund has the lowest return?\n",
    "- Which fund has the highest volatility?\n",
    "- Which fund has the lowest volatility?\n",
    "- Which fund has the highest Sharpe ratio? \n",
    "- Which fund has the lowest Sharpe ratio? "
   ]
  },
  {
   "cell_type": "markdown",
   "metadata": {
    "nteract": {
     "transient": {
      "deleting": false
     }
    }
   },
   "source": [
    "<b>\n",
    "    <ul>\n",
    "        <li> EFA </li>\n",
    "        <li> SPY </li>\n",
    "        <li> SPY </li>\n",
    "        <li> TLT </li>\n",
    "        <li> SPY </li>\n",
    "        <li> TLT </li>\n",
    "    </ul>\n",
    "</b>"
   ]
  },
  {
   "cell_type": "markdown",
   "metadata": {},
   "source": [
    "### Calculate portfolio returns\n",
    "Portfolio 1: 50% SPY and 50% TLT <br>\n",
    "\n",
    "Create a combined portfolio of 50/50 mix."
   ]
  },
  {
   "cell_type": "code",
   "execution_count": 33,
   "metadata": {},
   "outputs": [
    {
     "data": {
      "text/plain": [
       "Index(['EFA', 'SPY', 'TLT'], dtype='object')"
      ]
     },
     "execution_count": 33,
     "metadata": {},
     "output_type": "execute_result"
    }
   ],
   "source": [
    "# sample code\n",
    "\n",
    "# start with percent returns series\n",
    "pct_returns = stock_prices2.pct_change().dropna()\n",
    "\n",
    "#  check the order of the columns\n",
    "pct_returns.columns"
   ]
  },
  {
   "cell_type": "code",
   "execution_count": 34,
   "metadata": {},
   "outputs": [
    {
     "data": {
      "text/html": [
       "<div>\n",
       "<style scoped>\n",
       "    .dataframe tbody tr th:only-of-type {\n",
       "        vertical-align: middle;\n",
       "    }\n",
       "\n",
       "    .dataframe tbody tr th {\n",
       "        vertical-align: top;\n",
       "    }\n",
       "\n",
       "    .dataframe thead th {\n",
       "        text-align: right;\n",
       "    }\n",
       "</style>\n",
       "<table border=\"1\" class=\"dataframe\">\n",
       "  <thead>\n",
       "    <tr style=\"text-align: right;\">\n",
       "      <th></th>\n",
       "      <th>Portfolio</th>\n",
       "    </tr>\n",
       "    <tr>\n",
       "      <th>Date</th>\n",
       "      <th></th>\n",
       "    </tr>\n",
       "  </thead>\n",
       "  <tbody>\n",
       "    <tr>\n",
       "      <th>2020-01-02</th>\n",
       "      <td>0.010323</td>\n",
       "    </tr>\n",
       "    <tr>\n",
       "      <th>2020-01-03</th>\n",
       "      <td>0.003914</td>\n",
       "    </tr>\n",
       "    <tr>\n",
       "      <th>2020-01-06</th>\n",
       "      <td>-0.000932</td>\n",
       "    </tr>\n",
       "    <tr>\n",
       "      <th>2020-01-07</th>\n",
       "      <td>-0.003864</td>\n",
       "    </tr>\n",
       "    <tr>\n",
       "      <th>2020-01-08</th>\n",
       "      <td>-0.000641</td>\n",
       "    </tr>\n",
       "    <tr>\n",
       "      <th>...</th>\n",
       "      <td>...</td>\n",
       "    </tr>\n",
       "    <tr>\n",
       "      <th>2021-12-27</th>\n",
       "      <td>0.008288</td>\n",
       "    </tr>\n",
       "    <tr>\n",
       "      <th>2021-12-28</th>\n",
       "      <td>-0.002390</td>\n",
       "    </tr>\n",
       "    <tr>\n",
       "      <th>2021-12-29</th>\n",
       "      <td>-0.004823</td>\n",
       "    </tr>\n",
       "    <tr>\n",
       "      <th>2021-12-30</th>\n",
       "      <td>0.002811</td>\n",
       "    </tr>\n",
       "    <tr>\n",
       "      <th>2021-12-31</th>\n",
       "      <td>-0.000280</td>\n",
       "    </tr>\n",
       "  </tbody>\n",
       "</table>\n",
       "<p>505 rows × 1 columns</p>\n",
       "</div>"
      ],
      "text/plain": [
       "            Portfolio\n",
       "Date                 \n",
       "2020-01-02   0.010323\n",
       "2020-01-03   0.003914\n",
       "2020-01-06  -0.000932\n",
       "2020-01-07  -0.003864\n",
       "2020-01-08  -0.000641\n",
       "...               ...\n",
       "2021-12-27   0.008288\n",
       "2021-12-28  -0.002390\n",
       "2021-12-29  -0.004823\n",
       "2021-12-30   0.002811\n",
       "2021-12-31  -0.000280\n",
       "\n",
       "[505 rows x 1 columns]"
      ]
     },
     "execution_count": 34,
     "metadata": {},
     "output_type": "execute_result"
    }
   ],
   "source": [
    "# sample code\n",
    "\n",
    "# define portfolio weights\n",
    "# this corresponds to order of the columns in the returns df\n",
    "# 'EFA', 'SPY', 'TLT'\n",
    "portfolio_weights = [0, 0.5, 0.5] \n",
    "\n",
    "# apply the weights to returns\n",
    "wt_portfolio_ret = pct_returns * portfolio_weights\n",
    "\n",
    "# add up the 50/50 column returns into single column\n",
    "portfolio_returns1 = pd.DataFrame(wt_portfolio_ret.sum(axis = 1))\n",
    "portfolio_returns1.rename(columns={portfolio_returns1.columns[0]:'Portfolio'}, inplace= 'True')\n",
    "portfolio_returns1"
   ]
  },
  {
   "cell_type": "markdown",
   "metadata": {},
   "source": [
    "### Calculate metrics for Portfolio 1: 50% SPY and 50% TLT\n",
    "  Assume daily risk free rate of 0.0001\n",
    "  \n",
    "  Calculate the following metrics for the 50/50 SPY/TLT portfolio\n",
    "  - annualized return\n",
    "  - annualized volatility\n",
    "  - Sharpe ratio\n",
    "  - kurtosis"
   ]
  },
  {
   "cell_type": "code",
   "execution_count": 70,
   "metadata": {},
   "outputs": [
    {
     "name": "stdout",
     "output_type": "stream",
     "text": [
      "ANNUALIZED RETURNS\n",
      "0.1641198903351293\n",
      "ANNUAL VOLATILITY\n",
      "0.12310427040495651\n",
      "SHARPE RATIO\n",
      "1.0930769356395762\n",
      "KURTOSIS\n",
      "Portfolio    10.544796\n",
      "dtype: float64\n"
     ]
    }
   ],
   "source": [
    "# your code here\n",
    "\n",
    "#hint: generate the cumlative return to determine the period return\n",
    "#annualized return =\n",
    "period_return = ((portfolio_returns1+1).cumprod() - 1).iloc[-1]\n",
    "arr = (1 + period_return)**(1/2)-1\n",
    "print('ANNUALIZED RETURNS')\n",
    "print(arr['Portfolio'])\n",
    "\n",
    "#ann_volatility = \n",
    "ann_hv = (np.log(1 + portfolio_returns1).std() * np.sqrt(252))\n",
    "print('ANNUAL VOLATILITY')\n",
    "print(ann_hv['Portfolio'])\n",
    "\n",
    "#Sharpe ratio =\n",
    "daily_risk_free = 0.0001\n",
    "avg_rf_ret = daily_risk_free\n",
    "avg_daily_ret = portfolio_returns1.mean()\n",
    "std_excess_ret = (portfolio_returns1 - daily_risk_free).std()\n",
    "sharpe = ((avg_daily_ret - avg_rf_ret)/std_excess_ret)*np.sqrt(252)\n",
    "print('SHARPE RATIO')\n",
    "print(sharpe['Portfolio'])\n",
    "\n",
    "#kurtosis =\n",
    "kurtosis = portfolio_returns1.kurt()\n",
    "print('KURTOSIS')\n",
    "print(kurtosis)"
   ]
  },
  {
   "cell_type": "markdown",
   "metadata": {
    "nteract": {
     "transient": {
      "deleting": false
     }
    }
   },
   "source": [
    "**DIY Q3:**<br>\n",
    "  How do the metrics compare between the portfolio and its component funds?"
   ]
  },
  {
   "cell_type": "markdown",
   "metadata": {
    "nteract": {
     "transient": {
      "deleting": false
     }
    }
   },
   "source": [
    "<b> The portfolio has a greater return, has lower volatility and which Sharpe ratio falls under the Acceptable - Good range of between 1 and 1.99. Its components have less return, higher volatility and their Sharpe ratio falls under the 'Not Good' range of below 1. </b>"
   ]
  },
  {
   "cell_type": "markdown",
   "metadata": {},
   "source": [
    "### Calculate metrics for Portfolio 2: 50% SPY and 50% EFA\n",
    "  Assume daily risk free rate of 0.0001\n",
    "  \n",
    "  Calculate the following metrics for the 50/50 SPY/EFA portfolio\n",
    "  - annualized return\n",
    "  - annualized volatility\n",
    "  - annualized Sharpe ratio\n",
    "  - kurtosis"
   ]
  },
  {
   "cell_type": "code",
   "execution_count": 73,
   "metadata": {},
   "outputs": [
    {
     "name": "stdout",
     "output_type": "stream",
     "text": [
      "ANNUALIZED RETURNS\n",
      "0.16419336646188265\n",
      "ANNUAL VOLATILITY\n",
      "0.2422739351506494\n",
      "SHARPE RATIO\n",
      "0.6486500997261821\n",
      "KURTOSIS\n",
      "Portfolio    14.342676\n",
      "dtype: float64\n"
     ]
    }
   ],
   "source": [
    "# your code here\n",
    "pct_returns = stock_prices2.pct_change().dropna()\n",
    "portfolio_weights = [0.5, 0.5, 0] \n",
    "wt_portfolio_ret = pct_returns * portfolio_weights\n",
    "portfolio_returns2 = pd.DataFrame(wt_portfolio_ret.sum(axis = 1))\n",
    "portfolio_returns2.rename(columns={portfolio_returns2.columns[0]:'Portfolio'}, inplace= 'True')\n",
    "\n",
    "#annualized return =\n",
    "period_return = ((portfolio_returns2+1).cumprod() - 1).iloc[-1]\n",
    "arr = (1 + period_return)**(1/2)-1\n",
    "print('ANNUALIZED RETURNS')\n",
    "print(arr['Portfolio'])\n",
    "\n",
    "#ann_volatility = \n",
    "ann_hv = (np.log(1 + portfolio_returns2).std() * np.sqrt(252))\n",
    "print('ANNUAL VOLATILITY')\n",
    "print(ann_hv['Portfolio'])\n",
    "\n",
    "#Sharpe ratio =\n",
    "daily_risk_free = 0.0001\n",
    "avg_rf_ret = daily_risk_free\n",
    "avg_daily_ret = portfolio_returns2.mean()\n",
    "std_excess_ret = (portfolio_returns2 - daily_risk_free).std()\n",
    "sharpe = ((avg_daily_ret - avg_rf_ret)/std_excess_ret)*np.sqrt(252)\n",
    "print('SHARPE RATIO')\n",
    "print(sharpe['Portfolio'])\n",
    "\n",
    "#kurtosis =\n",
    "kurtosis = portfolio_returns2.kurt()\n",
    "print('KURTOSIS')\n",
    "print(kurtosis)"
   ]
  },
  {
   "cell_type": "markdown",
   "metadata": {},
   "source": [
    "### Calculate metrics for Portfolio 3: 1/3 in SPY, 1/3 in TLT, 1/3 in EFA\n",
    "  Assume daily risk free rate of 0.0001\n",
    "\n",
    "  Calculate the following metrics for the portfolio\n",
    "  - annualized return\n",
    "  - annualized volatility\n",
    "  - annualized Sharpe ratio\n",
    "  - kurtosis\n"
   ]
  },
  {
   "cell_type": "code",
   "execution_count": 74,
   "metadata": {},
   "outputs": [
    {
     "name": "stdout",
     "output_type": "stream",
     "text": [
      "ANNUALIZED RETURNS\n",
      "0.14497981758790401\n",
      "ANNUAL VOLATILITY\n",
      "0.14739344878468455\n",
      "SHARPE RATIO\n",
      "0.8243772664687948\n",
      "KURTOSIS\n",
      "Portfolio    14.166166\n",
      "dtype: float64\n"
     ]
    }
   ],
   "source": [
    "# your code here\n",
    "pct_returns = stock_prices2.pct_change().dropna()\n",
    "portfolio_weights = [1/3, 1/3, 1/3] \n",
    "wt_portfolio_ret = pct_returns * portfolio_weights\n",
    "portfolio_returns3 = pd.DataFrame(wt_portfolio_ret.sum(axis = 1))\n",
    "portfolio_returns3.rename(columns={portfolio_returns3.columns[0]:'Portfolio'}, inplace= 'True')\n",
    "\n",
    "#annualized return =\n",
    "period_return = ((portfolio_returns3+1).cumprod() - 1).iloc[-1]\n",
    "arr = (1 + period_return)**(1/2)-1\n",
    "print('ANNUALIZED RETURNS')\n",
    "print(arr['Portfolio'])\n",
    "\n",
    "#ann_volatility = \n",
    "ann_hv = (np.log(1 + portfolio_returns3).std() * np.sqrt(252))\n",
    "print('ANNUAL VOLATILITY')\n",
    "print(ann_hv['Portfolio'])\n",
    "\n",
    "#Sharpe ratio =\n",
    "daily_risk_free = 0.0001\n",
    "avg_rf_ret = daily_risk_free\n",
    "avg_daily_ret = portfolio_returns3.mean()\n",
    "std_excess_ret = (portfolio_returns3 - daily_risk_free).std()\n",
    "sharpe = ((avg_daily_ret - avg_rf_ret)/std_excess_ret)*np.sqrt(252)\n",
    "print('SHARPE RATIO')\n",
    "print(sharpe['Portfolio'])\n",
    "\n",
    "#kurtosis =\n",
    "kurtosis = portfolio_returns3.kurt()\n",
    "print('KURTOSIS')\n",
    "print(kurtosis)"
   ]
  },
  {
   "cell_type": "markdown",
   "metadata": {
    "nteract": {
     "transient": {
      "deleting": false
     }
    }
   },
   "source": [
    "**DIY Q4:**<br>\n",
    "- Which portfolio has the highest return? <b> SPY 50% and EFA 50%</b>\n",
    "- Which portfolio has the lowest volatility? <b> SPY 50% and TLT 50% </b>\n",
    "- Which portfolio has the highest Sharpe ratio? <b> SPY 50% and TLT 50% </b>"
   ]
  },
  {
   "cell_type": "markdown",
   "metadata": {
    "nteract": {
     "transient": {
      "deleting": false
     }
    }
   },
   "source": [
    "### Create a better portfolio\n",
    "Come up with different weighting that has a higher Sharpe ratio than all the other portfolios.\n",
    "\n",
    "Assume daily risk free rate of 0.0001\n"
   ]
  },
  {
   "cell_type": "code",
   "execution_count": 101,
   "metadata": {
    "execution": {
     "iopub.execute_input": "2023-02-16T07:27:28.122Z",
     "iopub.status.busy": "2023-02-16T07:27:28.071Z",
     "iopub.status.idle": "2023-02-16T07:27:28.187Z",
     "shell.execute_reply": "2023-02-16T07:27:28.222Z"
    },
    "jupyter": {
     "outputs_hidden": true,
     "source_hidden": false
    },
    "nteract": {
     "transient": {
      "deleting": false
     }
    }
   },
   "outputs": [
    {
     "name": "stdout",
     "output_type": "stream",
     "text": [
      "SHARPE RATIO\n",
      "1.0951628470638288\n"
     ]
    }
   ],
   "source": [
    "#your code here\n",
    "\n",
    "pct_returns = stock_prices2.pct_change().dropna()\n",
    "portfolio_weights = [0, 0.54, 0.46] \n",
    "\n",
    "# apply the weights to returns\n",
    "wt_portfolio_ret = pct_returns * portfolio_weights\n",
    "\n",
    "# add up the 50/50 column returns into single column\n",
    "portfolio_returns = pd.DataFrame(wt_portfolio_ret.sum(axis = 1))\n",
    "portfolio_returns.rename(columns={portfolio_returns.columns[0]:'Portfolio'}, inplace= 'True')\n",
    "\n",
    "#Sharpe ratio =\n",
    "daily_risk_free = 0.0001\n",
    "avg_rf_ret = daily_risk_free\n",
    "avg_daily_ret = portfolio_returns.mean()\n",
    "std_excess_ret = (portfolio_returns - daily_risk_free).std()\n",
    "sharpe = ((avg_daily_ret - avg_rf_ret)/std_excess_ret)*np.sqrt(252)\n",
    "print('SHARPE RATIO')\n",
    "print(sharpe['Portfolio'])\n"
   ]
  },
  {
   "cell_type": "markdown",
   "metadata": {
    "nteract": {
     "transient": {
      "deleting": false
     }
    }
   },
   "source": [
    "**DIY Q5:**<br>\n",
    "- What is the mix you chose and the corresponding Sharpe ratio?\n",
    "- How did you decide which funds to increase or reduce the weightings?\n",
    "- Why is adding EFA be poor choice for improving the the RAR of the SPY/TLT portfolio? "
   ]
  },
  {
   "cell_type": "markdown",
   "metadata": {
    "nteract": {
     "transient": {
      "deleting": false
     }
    }
   },
   "source": [
    "\n",
    "<ul>\n",
    "<li> 54% SPY and 46% TLT, 1.095</li>\n",
    "<li> SPY has the highest Sharpe ratio. TLT provides diversification benefits as it is a bond-based ETF (as SPY is a stock-based ETF), but has a very low Sharpe ratio. Hence, I increased SPY's % little by little until the Sharpe ratio reached a peak of 1.095. </li>        \n",
    "<li> Although EFA's Sharpe ratio is higher than TLT, EFA is a stock-based ETF just like SPY which adds to the risk if the stock market underperforms and would therefore have a weaker risk-adjusted return. </li>        \n",
    "</ul>\n"
   ]
  },
  {
   "cell_type": "code",
   "execution_count": null,
   "metadata": {},
   "outputs": [],
   "source": []
  }
 ],
 "metadata": {
  "kernelspec": {
   "display_name": "Python 3 (ipykernel)",
   "language": "python",
   "name": "python3"
  },
  "language_info": {
   "codemirror_mode": {
    "name": "ipython",
    "version": 3
   },
   "file_extension": ".py",
   "mimetype": "text/x-python",
   "name": "python",
   "nbconvert_exporter": "python",
   "pygments_lexer": "ipython3",
   "version": "3.9.12"
  },
  "nteract": {
   "version": "0.28.0"
  }
 },
 "nbformat": 4,
 "nbformat_minor": 4
}

{
 "cells": [
  {
   "cell_type": "markdown",
   "metadata": {},
   "source": [
    "<h2>IS453 Financial Analytics</h2><h2>Lab 4 - Volatility, RAR, and Beta"
   ]
  },
  {
   "cell_type": "code",
   "execution_count": 1,
   "metadata": {},
   "outputs": [],
   "source": [
    "import pandas as pd\n",
    "import numpy as np\n",
    "import yfinance as yf"
   ]
  },
  {
   "cell_type": "markdown",
   "metadata": {},
   "source": [
    "**Documentation for new Pandas functions used**<br>\n",
    "https://pandas.pydata.org/docs/reference/api/pandas.DataFrame.shift.html<br>\n",
    "https://numpy.org/doc/stable/reference/generated/numpy.reshape.html<br>\n",
    "https://pandas.pydata.org/docs/reference/api/pandas.DataFrame.cov.html\n"
   ]
  },
  {
   "cell_type": "markdown",
   "metadata": {},
   "source": [
    "## 1. Calculate annualized volatility\n",
    "\n",
    "Read 5 years of data for SPY between 2017-2021. Extract the adjusted close prices.\n",
    "\n"
   ]
  },
  {
   "cell_type": "code",
   "execution_count": 2,
   "metadata": {},
   "outputs": [
    {
     "name": "stdout",
     "output_type": "stream",
     "text": [
      "[*********************100%%**********************]  1 of 1 completed\n"
     ]
    },
    {
     "data": {
      "text/html": [
       "<div>\n",
       "<style scoped>\n",
       "    .dataframe tbody tr th:only-of-type {\n",
       "        vertical-align: middle;\n",
       "    }\n",
       "\n",
       "    .dataframe tbody tr th {\n",
       "        vertical-align: top;\n",
       "    }\n",
       "\n",
       "    .dataframe thead th {\n",
       "        text-align: right;\n",
       "    }\n",
       "</style>\n",
       "<table border=\"1\" class=\"dataframe\">\n",
       "  <thead>\n",
       "    <tr style=\"text-align: right;\">\n",
       "      <th></th>\n",
       "      <th>Adj Close</th>\n",
       "    </tr>\n",
       "    <tr>\n",
       "      <th>Date</th>\n",
       "      <th></th>\n",
       "    </tr>\n",
       "  </thead>\n",
       "  <tbody>\n",
       "    <tr>\n",
       "      <th>2016-12-30</th>\n",
       "      <td>195.791016</td>\n",
       "    </tr>\n",
       "    <tr>\n",
       "      <th>2017-01-03</th>\n",
       "      <td>197.288879</td>\n",
       "    </tr>\n",
       "    <tr>\n",
       "      <th>2017-01-04</th>\n",
       "      <td>198.462601</td>\n",
       "    </tr>\n",
       "    <tr>\n",
       "      <th>2017-01-05</th>\n",
       "      <td>198.304886</td>\n",
       "    </tr>\n",
       "    <tr>\n",
       "      <th>2017-01-06</th>\n",
       "      <td>199.014389</td>\n",
       "    </tr>\n",
       "    <tr>\n",
       "      <th>...</th>\n",
       "      <td>...</td>\n",
       "    </tr>\n",
       "    <tr>\n",
       "      <th>2021-12-27</th>\n",
       "      <td>456.750977</td>\n",
       "    </tr>\n",
       "    <tr>\n",
       "      <th>2021-12-28</th>\n",
       "      <td>456.377686</td>\n",
       "    </tr>\n",
       "    <tr>\n",
       "      <th>2021-12-29</th>\n",
       "      <td>456.961487</td>\n",
       "    </tr>\n",
       "    <tr>\n",
       "      <th>2021-12-30</th>\n",
       "      <td>455.698242</td>\n",
       "    </tr>\n",
       "    <tr>\n",
       "      <th>2021-12-31</th>\n",
       "      <td>454.549774</td>\n",
       "    </tr>\n",
       "  </tbody>\n",
       "</table>\n",
       "<p>1260 rows × 1 columns</p>\n",
       "</div>"
      ],
      "text/plain": [
       "             Adj Close\n",
       "Date                  \n",
       "2016-12-30  195.791016\n",
       "2017-01-03  197.288879\n",
       "2017-01-04  198.462601\n",
       "2017-01-05  198.304886\n",
       "2017-01-06  199.014389\n",
       "...                ...\n",
       "2021-12-27  456.750977\n",
       "2021-12-28  456.377686\n",
       "2021-12-29  456.961487\n",
       "2021-12-30  455.698242\n",
       "2021-12-31  454.549774\n",
       "\n",
       "[1260 rows x 1 columns]"
      ]
     },
     "execution_count": 2,
     "metadata": {},
     "output_type": "execute_result"
    }
   ],
   "source": [
    "# sample code\n",
    "tickers = ['SPY']\n",
    "\n",
    "start_date = '2016-12-30'\n",
    "end_date = '2022-01-01' \n",
    "\n",
    "data1 = yf.download(tickers, start= start_date, end= end_date)\n",
    "\n",
    "stock_price_5y = data1[['Adj Close']]\n",
    "stock_price_5y"
   ]
  },
  {
   "cell_type": "markdown",
   "metadata": {},
   "source": [
    "**Example showing how the pandas df.shift() method works**"
   ]
  },
  {
   "cell_type": "code",
   "execution_count": 3,
   "metadata": {},
   "outputs": [
    {
     "data": {
      "text/html": [
       "<div>\n",
       "<style scoped>\n",
       "    .dataframe tbody tr th:only-of-type {\n",
       "        vertical-align: middle;\n",
       "    }\n",
       "\n",
       "    .dataframe tbody tr th {\n",
       "        vertical-align: top;\n",
       "    }\n",
       "\n",
       "    .dataframe thead th {\n",
       "        text-align: right;\n",
       "    }\n",
       "</style>\n",
       "<table border=\"1\" class=\"dataframe\">\n",
       "  <thead>\n",
       "    <tr style=\"text-align: right;\">\n",
       "      <th></th>\n",
       "      <th>Adj Close</th>\n",
       "      <th>shifted</th>\n",
       "    </tr>\n",
       "    <tr>\n",
       "      <th>Date</th>\n",
       "      <th></th>\n",
       "      <th></th>\n",
       "    </tr>\n",
       "  </thead>\n",
       "  <tbody>\n",
       "    <tr>\n",
       "      <th>2016-12-30</th>\n",
       "      <td>195.791016</td>\n",
       "      <td>NaN</td>\n",
       "    </tr>\n",
       "    <tr>\n",
       "      <th>2017-01-03</th>\n",
       "      <td>197.288879</td>\n",
       "      <td>195.791016</td>\n",
       "    </tr>\n",
       "    <tr>\n",
       "      <th>2017-01-04</th>\n",
       "      <td>198.462601</td>\n",
       "      <td>197.288879</td>\n",
       "    </tr>\n",
       "    <tr>\n",
       "      <th>2017-01-05</th>\n",
       "      <td>198.304886</td>\n",
       "      <td>198.462601</td>\n",
       "    </tr>\n",
       "    <tr>\n",
       "      <th>2017-01-06</th>\n",
       "      <td>199.014389</td>\n",
       "      <td>198.304886</td>\n",
       "    </tr>\n",
       "    <tr>\n",
       "      <th>...</th>\n",
       "      <td>...</td>\n",
       "      <td>...</td>\n",
       "    </tr>\n",
       "    <tr>\n",
       "      <th>2021-12-27</th>\n",
       "      <td>456.750977</td>\n",
       "      <td>450.377136</td>\n",
       "    </tr>\n",
       "    <tr>\n",
       "      <th>2021-12-28</th>\n",
       "      <td>456.377686</td>\n",
       "      <td>456.750977</td>\n",
       "    </tr>\n",
       "    <tr>\n",
       "      <th>2021-12-29</th>\n",
       "      <td>456.961487</td>\n",
       "      <td>456.377686</td>\n",
       "    </tr>\n",
       "    <tr>\n",
       "      <th>2021-12-30</th>\n",
       "      <td>455.698242</td>\n",
       "      <td>456.961487</td>\n",
       "    </tr>\n",
       "    <tr>\n",
       "      <th>2021-12-31</th>\n",
       "      <td>454.549774</td>\n",
       "      <td>455.698242</td>\n",
       "    </tr>\n",
       "  </tbody>\n",
       "</table>\n",
       "<p>1260 rows × 2 columns</p>\n",
       "</div>"
      ],
      "text/plain": [
       "             Adj Close     shifted\n",
       "Date                              \n",
       "2016-12-30  195.791016         NaN\n",
       "2017-01-03  197.288879  195.791016\n",
       "2017-01-04  198.462601  197.288879\n",
       "2017-01-05  198.304886  198.462601\n",
       "2017-01-06  199.014389  198.304886\n",
       "...                ...         ...\n",
       "2021-12-27  456.750977  450.377136\n",
       "2021-12-28  456.377686  456.750977\n",
       "2021-12-29  456.961487  456.377686\n",
       "2021-12-30  455.698242  456.961487\n",
       "2021-12-31  454.549774  455.698242\n",
       "\n",
       "[1260 rows x 2 columns]"
      ]
     },
     "execution_count": 3,
     "metadata": {},
     "output_type": "execute_result"
    }
   ],
   "source": [
    "# sample code\n",
    "# the output gets shifted by forward by 1 unit of date period (index)\n",
    "test_data = stock_price_5y[['Adj Close']]\n",
    "test_data['shifted']= test_data.shift(1)\n",
    "test_data"
   ]
  },
  {
   "cell_type": "code",
   "execution_count": 4,
   "metadata": {},
   "outputs": [
    {
     "data": {
      "text/html": [
       "<div>\n",
       "<style scoped>\n",
       "    .dataframe tbody tr th:only-of-type {\n",
       "        vertical-align: middle;\n",
       "    }\n",
       "\n",
       "    .dataframe tbody tr th {\n",
       "        vertical-align: top;\n",
       "    }\n",
       "\n",
       "    .dataframe thead th {\n",
       "        text-align: right;\n",
       "    }\n",
       "</style>\n",
       "<table border=\"1\" class=\"dataframe\">\n",
       "  <thead>\n",
       "    <tr style=\"text-align: right;\">\n",
       "      <th></th>\n",
       "      <th>Adj Close</th>\n",
       "      <th>shifted</th>\n",
       "      <th>ratio</th>\n",
       "    </tr>\n",
       "    <tr>\n",
       "      <th>Date</th>\n",
       "      <th></th>\n",
       "      <th></th>\n",
       "      <th></th>\n",
       "    </tr>\n",
       "  </thead>\n",
       "  <tbody>\n",
       "    <tr>\n",
       "      <th>2016-12-30</th>\n",
       "      <td>195.791016</td>\n",
       "      <td>NaN</td>\n",
       "      <td>NaN</td>\n",
       "    </tr>\n",
       "    <tr>\n",
       "      <th>2017-01-03</th>\n",
       "      <td>197.288879</td>\n",
       "      <td>195.791016</td>\n",
       "      <td>1.007650</td>\n",
       "    </tr>\n",
       "    <tr>\n",
       "      <th>2017-01-04</th>\n",
       "      <td>198.462601</td>\n",
       "      <td>197.288879</td>\n",
       "      <td>1.005949</td>\n",
       "    </tr>\n",
       "    <tr>\n",
       "      <th>2017-01-05</th>\n",
       "      <td>198.304886</td>\n",
       "      <td>198.462601</td>\n",
       "      <td>0.999205</td>\n",
       "    </tr>\n",
       "    <tr>\n",
       "      <th>2017-01-06</th>\n",
       "      <td>199.014389</td>\n",
       "      <td>198.304886</td>\n",
       "      <td>1.003578</td>\n",
       "    </tr>\n",
       "    <tr>\n",
       "      <th>...</th>\n",
       "      <td>...</td>\n",
       "      <td>...</td>\n",
       "      <td>...</td>\n",
       "    </tr>\n",
       "    <tr>\n",
       "      <th>2021-12-27</th>\n",
       "      <td>456.750977</td>\n",
       "      <td>450.377136</td>\n",
       "      <td>1.014152</td>\n",
       "    </tr>\n",
       "    <tr>\n",
       "      <th>2021-12-28</th>\n",
       "      <td>456.377686</td>\n",
       "      <td>456.750977</td>\n",
       "      <td>0.999183</td>\n",
       "    </tr>\n",
       "    <tr>\n",
       "      <th>2021-12-29</th>\n",
       "      <td>456.961487</td>\n",
       "      <td>456.377686</td>\n",
       "      <td>1.001279</td>\n",
       "    </tr>\n",
       "    <tr>\n",
       "      <th>2021-12-30</th>\n",
       "      <td>455.698242</td>\n",
       "      <td>456.961487</td>\n",
       "      <td>0.997236</td>\n",
       "    </tr>\n",
       "    <tr>\n",
       "      <th>2021-12-31</th>\n",
       "      <td>454.549774</td>\n",
       "      <td>455.698242</td>\n",
       "      <td>0.997480</td>\n",
       "    </tr>\n",
       "  </tbody>\n",
       "</table>\n",
       "<p>1260 rows × 3 columns</p>\n",
       "</div>"
      ],
      "text/plain": [
       "             Adj Close     shifted     ratio\n",
       "Date                                        \n",
       "2016-12-30  195.791016         NaN       NaN\n",
       "2017-01-03  197.288879  195.791016  1.007650\n",
       "2017-01-04  198.462601  197.288879  1.005949\n",
       "2017-01-05  198.304886  198.462601  0.999205\n",
       "2017-01-06  199.014389  198.304886  1.003578\n",
       "...                ...         ...       ...\n",
       "2021-12-27  456.750977  450.377136  1.014152\n",
       "2021-12-28  456.377686  456.750977  0.999183\n",
       "2021-12-29  456.961487  456.377686  1.001279\n",
       "2021-12-30  455.698242  456.961487  0.997236\n",
       "2021-12-31  454.549774  455.698242  0.997480\n",
       "\n",
       "[1260 rows x 3 columns]"
      ]
     },
     "execution_count": 4,
     "metadata": {},
     "output_type": "execute_result"
    }
   ],
   "source": [
    "# to find the ratio of the change in the current price to the previous price\n",
    "test_data['ratio'] = test_data['Adj Close']/test_data['Adj Close'].shift(1)\n",
    "test_data"
   ]
  },
  {
   "cell_type": "markdown",
   "metadata": {},
   "source": [
    "**Exercise Q1: Calculate the annualized historical volatility for SPY**\n",
    "\n",
    "Calculate for periods of the most recent 20 days, 3 months, 1 year (2021) and 5 years (the full data set).<BR>\n",
    "Note that the calculations must be based on log returns from prices as Rn = log(Cn/Cn-1)\n",
    "\n",
    "The formula for annualising historical volatility is in the lecture slides.<BR>\n",
    "  You can assume that there are 252 trading days in a year.\n",
    "\n",
    "*Hint: For defined periods of data such as x-months or x-years, use .loc to select data ranges to subset the prices. For the 20-day period, it refers to twenty trading days, not calendar days.  So use tail or .iloc instead to select the range.*\n",
    "\n",
    " - Which period has the highest annualized historical volatility? <br>\n",
    " - Why do you think that period has the highest?</b></font>"
   ]
  },
  {
   "cell_type": "markdown",
   "metadata": {},
   "source": [
    "**Example: 20-day HV**"
   ]
  },
  {
   "cell_type": "code",
   "execution_count": 5,
   "metadata": {},
   "outputs": [
    {
     "name": "stdout",
     "output_type": "stream",
     "text": [
      "16.3%\n"
     ]
    }
   ],
   "source": [
    "# sample code \n",
    "\n",
    "# get the most recent 20 days\n",
    "spy_20d = stock_price_5y['Adj Close'].iloc[-20:]\n",
    "\n",
    "# take the log of price change(returns) and then apply std()\n",
    "# default for Pandas std() is sample formula\n",
    "spy_20d_hv = np.log(spy_20d / spy_20d.shift(1)).std()\n",
    "\n",
    "# to annualize, multiply by sqrt(252)\n",
    "ann_spy_20d_hv = spy_20d_hv * np.sqrt(252)\n",
    "print(f'{ann_spy_20d_hv:.1%}')"
   ]
  },
  {
   "cell_type": "markdown",
   "metadata": {},
   "source": [
    "**Find the HV for other periods**"
   ]
  },
  {
   "cell_type": "code",
   "execution_count": 6,
   "metadata": {},
   "outputs": [
    {
     "name": "stdout",
     "output_type": "stream",
     "text": [
      "3-month: 13.8%\n",
      "1-year: 12.9%\n",
      "5-year: 19.0%\n"
     ]
    }
   ],
   "source": [
    "# your code here\n",
    "# Note: use the loc method to subset the prices for the period and then apply the formula to find HV\n",
    "\n",
    "#3 months - Oct to Dec 2021\n",
    "spy_3m = stock_price_5y['Adj Close'].loc['2021-10-01':'2022-01-01']\n",
    "spy_3m_hv = np.log(spy_3m / spy_3m.shift(1)).std()\n",
    "ann_spy_3m_hv = spy_3m_hv * np.sqrt(252)\n",
    "print(f'3-month: {ann_spy_3m_hv:.1%}')\n",
    "\n",
    "\n",
    "#1 year - for all 2021\n",
    "spy_1y = stock_price_5y['Adj Close'].loc['2021-01-01':'2022-01-01']\n",
    "spy_1y_hv = np.log(spy_1y / spy_1y.shift(1)).std()\n",
    "ann_spy_1y_hv = spy_1y_hv * np.sqrt(252)\n",
    "print(f'1-year: {ann_spy_1y_hv:.1%}')\n",
    "\n",
    "#5 years\n",
    "spy_5y = stock_price_5y['Adj Close']\n",
    "spy_5y_hv = np.log(spy_5y / spy_5y.shift(1)).std()\n",
    "ann_spy_5y_hv = spy_5y_hv * np.sqrt(252)\n",
    "print(f'5-year: {ann_spy_5y_hv:.1%}')\n",
    "\n"
   ]
  },
  {
   "cell_type": "markdown",
   "metadata": {
    "nteract": {
     "transient": {
      "deleting": false
     }
    }
   },
   "source": [
    "- Your answer here"
   ]
  },
  {
   "cell_type": "markdown",
   "metadata": {
    "nteract": {
     "transient": {
      "deleting": false
     }
    }
   },
   "source": [
    "## 2. Calculate risk adjusted returns"
   ]
  },
  {
   "cell_type": "code",
   "execution_count": 7,
   "metadata": {},
   "outputs": [
    {
     "name": "stdout",
     "output_type": "stream",
     "text": [
      "[*********************100%%**********************]  3 of 3 completed\n"
     ]
    },
    {
     "data": {
      "text/html": [
       "<div>\n",
       "<style scoped>\n",
       "    .dataframe tbody tr th:only-of-type {\n",
       "        vertical-align: middle;\n",
       "    }\n",
       "\n",
       "    .dataframe tbody tr th {\n",
       "        vertical-align: top;\n",
       "    }\n",
       "\n",
       "    .dataframe thead th {\n",
       "        text-align: right;\n",
       "    }\n",
       "</style>\n",
       "<table border=\"1\" class=\"dataframe\">\n",
       "  <thead>\n",
       "    <tr style=\"text-align: right;\">\n",
       "      <th></th>\n",
       "      <th>EFA</th>\n",
       "      <th>SPY</th>\n",
       "      <th>TLT</th>\n",
       "    </tr>\n",
       "    <tr>\n",
       "      <th>Date</th>\n",
       "      <th></th>\n",
       "      <th></th>\n",
       "      <th></th>\n",
       "    </tr>\n",
       "  </thead>\n",
       "  <tbody>\n",
       "    <tr>\n",
       "      <th>2020-12-31</th>\n",
       "      <td>64.694130</td>\n",
       "      <td>353.106628</td>\n",
       "      <td>140.378098</td>\n",
       "    </tr>\n",
       "    <tr>\n",
       "      <th>2021-01-04</th>\n",
       "      <td>65.031090</td>\n",
       "      <td>348.299408</td>\n",
       "      <td>140.208939</td>\n",
       "    </tr>\n",
       "    <tr>\n",
       "      <th>2021-01-05</th>\n",
       "      <td>65.704994</td>\n",
       "      <td>350.698273</td>\n",
       "      <td>139.167725</td>\n",
       "    </tr>\n",
       "    <tr>\n",
       "      <th>2021-01-06</th>\n",
       "      <td>66.458679</td>\n",
       "      <td>352.794922</td>\n",
       "      <td>136.310791</td>\n",
       "    </tr>\n",
       "    <tr>\n",
       "      <th>2021-01-07</th>\n",
       "      <td>66.529617</td>\n",
       "      <td>358.036682</td>\n",
       "      <td>135.109329</td>\n",
       "    </tr>\n",
       "    <tr>\n",
       "      <th>...</th>\n",
       "      <td>...</td>\n",
       "      <td>...</td>\n",
       "      <td>...</td>\n",
       "    </tr>\n",
       "    <tr>\n",
       "      <th>2021-12-27</th>\n",
       "      <td>72.352768</td>\n",
       "      <td>456.750946</td>\n",
       "      <td>134.545441</td>\n",
       "    </tr>\n",
       "    <tr>\n",
       "      <th>2021-12-28</th>\n",
       "      <td>72.380196</td>\n",
       "      <td>456.377686</td>\n",
       "      <td>134.012192</td>\n",
       "    </tr>\n",
       "    <tr>\n",
       "      <th>2021-12-29</th>\n",
       "      <td>72.352768</td>\n",
       "      <td>456.961517</td>\n",
       "      <td>132.548233</td>\n",
       "    </tr>\n",
       "    <tr>\n",
       "      <th>2021-12-30</th>\n",
       "      <td>72.163063</td>\n",
       "      <td>455.698242</td>\n",
       "      <td>133.659805</td>\n",
       "    </tr>\n",
       "    <tr>\n",
       "      <th>2021-12-31</th>\n",
       "      <td>72.098923</td>\n",
       "      <td>454.549774</td>\n",
       "      <td>133.921860</td>\n",
       "    </tr>\n",
       "  </tbody>\n",
       "</table>\n",
       "<p>253 rows × 3 columns</p>\n",
       "</div>"
      ],
      "text/plain": [
       "                  EFA         SPY         TLT\n",
       "Date                                         \n",
       "2020-12-31  64.694130  353.106628  140.378098\n",
       "2021-01-04  65.031090  348.299408  140.208939\n",
       "2021-01-05  65.704994  350.698273  139.167725\n",
       "2021-01-06  66.458679  352.794922  136.310791\n",
       "2021-01-07  66.529617  358.036682  135.109329\n",
       "...               ...         ...         ...\n",
       "2021-12-27  72.352768  456.750946  134.545441\n",
       "2021-12-28  72.380196  456.377686  134.012192\n",
       "2021-12-29  72.352768  456.961517  132.548233\n",
       "2021-12-30  72.163063  455.698242  133.659805\n",
       "2021-12-31  72.098923  454.549774  133.921860\n",
       "\n",
       "[253 rows x 3 columns]"
      ]
     },
     "execution_count": 7,
     "metadata": {},
     "output_type": "execute_result"
    }
   ],
   "source": [
    "tickers = ['SPY','TLT','EFA']\n",
    "\n",
    "start_date = '2020-12-31'\n",
    "end_date = '2022-01-01' \n",
    "\n",
    "data2 = yf.download(tickers, start= start_date, end= end_date)\n",
    "\n",
    "stocks_price1 = data2['Adj Close']\n",
    "stocks_price1"
   ]
  },
  {
   "cell_type": "markdown",
   "metadata": {
    "nteract": {
     "transient": {
      "deleting": false
     }
    }
   },
   "source": [
    "**Exercise Q2: Calculate the Sharpe ratio for each fund**\n",
    "\n",
    "For the risk-adjusted return, assume that the daily risk-free rate is 0.0001.<br>\n",
    "\n",
    "- Which fund has the highest RAR\n",
    "- Which fund has the lowest RAR"
   ]
  },
  {
   "cell_type": "code",
   "execution_count": 8,
   "metadata": {},
   "outputs": [
    {
     "data": {
      "text/html": [
       "<div>\n",
       "<style scoped>\n",
       "    .dataframe tbody tr th:only-of-type {\n",
       "        vertical-align: middle;\n",
       "    }\n",
       "\n",
       "    .dataframe tbody tr th {\n",
       "        vertical-align: top;\n",
       "    }\n",
       "\n",
       "    .dataframe thead th {\n",
       "        text-align: right;\n",
       "    }\n",
       "</style>\n",
       "<table border=\"1\" class=\"dataframe\">\n",
       "  <thead>\n",
       "    <tr style=\"text-align: right;\">\n",
       "      <th></th>\n",
       "      <th>EFA</th>\n",
       "      <th>SPY</th>\n",
       "      <th>TLT</th>\n",
       "      <th>RiskFree_Rate</th>\n",
       "      <th>Excess_ret_SPY</th>\n",
       "      <th>Excess_ret_TLT</th>\n",
       "      <th>Excess_ret_EFA</th>\n",
       "    </tr>\n",
       "    <tr>\n",
       "      <th>Date</th>\n",
       "      <th></th>\n",
       "      <th></th>\n",
       "      <th></th>\n",
       "      <th></th>\n",
       "      <th></th>\n",
       "      <th></th>\n",
       "      <th></th>\n",
       "    </tr>\n",
       "  </thead>\n",
       "  <tbody>\n",
       "    <tr>\n",
       "      <th>2021-01-04</th>\n",
       "      <td>0.005209</td>\n",
       "      <td>-0.013614</td>\n",
       "      <td>-0.001205</td>\n",
       "      <td>0.0001</td>\n",
       "      <td>-0.013714</td>\n",
       "      <td>-0.001305</td>\n",
       "      <td>0.005109</td>\n",
       "    </tr>\n",
       "    <tr>\n",
       "      <th>2021-01-05</th>\n",
       "      <td>0.010363</td>\n",
       "      <td>0.006887</td>\n",
       "      <td>-0.007426</td>\n",
       "      <td>0.0001</td>\n",
       "      <td>0.006787</td>\n",
       "      <td>-0.007526</td>\n",
       "      <td>0.010263</td>\n",
       "    </tr>\n",
       "    <tr>\n",
       "      <th>2021-01-06</th>\n",
       "      <td>0.011471</td>\n",
       "      <td>0.005978</td>\n",
       "      <td>-0.020529</td>\n",
       "      <td>0.0001</td>\n",
       "      <td>0.005878</td>\n",
       "      <td>-0.020629</td>\n",
       "      <td>0.011371</td>\n",
       "    </tr>\n",
       "    <tr>\n",
       "      <th>2021-01-07</th>\n",
       "      <td>0.001067</td>\n",
       "      <td>0.014858</td>\n",
       "      <td>-0.008814</td>\n",
       "      <td>0.0001</td>\n",
       "      <td>0.014758</td>\n",
       "      <td>-0.008914</td>\n",
       "      <td>0.000967</td>\n",
       "    </tr>\n",
       "    <tr>\n",
       "      <th>2021-01-08</th>\n",
       "      <td>0.009330</td>\n",
       "      <td>0.005697</td>\n",
       "      <td>-0.003228</td>\n",
       "      <td>0.0001</td>\n",
       "      <td>0.005597</td>\n",
       "      <td>-0.003328</td>\n",
       "      <td>0.009230</td>\n",
       "    </tr>\n",
       "    <tr>\n",
       "      <th>...</th>\n",
       "      <td>...</td>\n",
       "      <td>...</td>\n",
       "      <td>...</td>\n",
       "      <td>...</td>\n",
       "      <td>...</td>\n",
       "      <td>...</td>\n",
       "      <td>...</td>\n",
       "    </tr>\n",
       "    <tr>\n",
       "      <th>2021-12-27</th>\n",
       "      <td>0.007770</td>\n",
       "      <td>0.014152</td>\n",
       "      <td>0.002424</td>\n",
       "      <td>0.0001</td>\n",
       "      <td>0.014052</td>\n",
       "      <td>0.002324</td>\n",
       "      <td>0.007670</td>\n",
       "    </tr>\n",
       "    <tr>\n",
       "      <th>2021-12-28</th>\n",
       "      <td>0.000379</td>\n",
       "      <td>-0.000817</td>\n",
       "      <td>-0.003963</td>\n",
       "      <td>0.0001</td>\n",
       "      <td>-0.000917</td>\n",
       "      <td>-0.004063</td>\n",
       "      <td>0.000279</td>\n",
       "    </tr>\n",
       "    <tr>\n",
       "      <th>2021-12-29</th>\n",
       "      <td>-0.000379</td>\n",
       "      <td>0.001279</td>\n",
       "      <td>-0.010924</td>\n",
       "      <td>0.0001</td>\n",
       "      <td>0.001179</td>\n",
       "      <td>-0.011024</td>\n",
       "      <td>-0.000479</td>\n",
       "    </tr>\n",
       "    <tr>\n",
       "      <th>2021-12-30</th>\n",
       "      <td>-0.002622</td>\n",
       "      <td>-0.002765</td>\n",
       "      <td>0.008386</td>\n",
       "      <td>0.0001</td>\n",
       "      <td>-0.002865</td>\n",
       "      <td>0.008286</td>\n",
       "      <td>-0.002722</td>\n",
       "    </tr>\n",
       "    <tr>\n",
       "      <th>2021-12-31</th>\n",
       "      <td>-0.000889</td>\n",
       "      <td>-0.002520</td>\n",
       "      <td>0.001961</td>\n",
       "      <td>0.0001</td>\n",
       "      <td>-0.002620</td>\n",
       "      <td>0.001861</td>\n",
       "      <td>-0.000989</td>\n",
       "    </tr>\n",
       "  </tbody>\n",
       "</table>\n",
       "<p>252 rows × 7 columns</p>\n",
       "</div>"
      ],
      "text/plain": [
       "                 EFA       SPY       TLT  RiskFree_Rate  Excess_ret_SPY  \\\n",
       "Date                                                                      \n",
       "2021-01-04  0.005209 -0.013614 -0.001205         0.0001       -0.013714   \n",
       "2021-01-05  0.010363  0.006887 -0.007426         0.0001        0.006787   \n",
       "2021-01-06  0.011471  0.005978 -0.020529         0.0001        0.005878   \n",
       "2021-01-07  0.001067  0.014858 -0.008814         0.0001        0.014758   \n",
       "2021-01-08  0.009330  0.005697 -0.003228         0.0001        0.005597   \n",
       "...              ...       ...       ...            ...             ...   \n",
       "2021-12-27  0.007770  0.014152  0.002424         0.0001        0.014052   \n",
       "2021-12-28  0.000379 -0.000817 -0.003963         0.0001       -0.000917   \n",
       "2021-12-29 -0.000379  0.001279 -0.010924         0.0001        0.001179   \n",
       "2021-12-30 -0.002622 -0.002765  0.008386         0.0001       -0.002865   \n",
       "2021-12-31 -0.000889 -0.002520  0.001961         0.0001       -0.002620   \n",
       "\n",
       "            Excess_ret_TLT  Excess_ret_EFA  \n",
       "Date                                        \n",
       "2021-01-04       -0.001305        0.005109  \n",
       "2021-01-05       -0.007526        0.010263  \n",
       "2021-01-06       -0.020629        0.011371  \n",
       "2021-01-07       -0.008914        0.000967  \n",
       "2021-01-08       -0.003328        0.009230  \n",
       "...                    ...             ...  \n",
       "2021-12-27        0.002324        0.007670  \n",
       "2021-12-28       -0.004063        0.000279  \n",
       "2021-12-29       -0.011024       -0.000479  \n",
       "2021-12-30        0.008286       -0.002722  \n",
       "2021-12-31        0.001861       -0.000989  \n",
       "\n",
       "[252 rows x 7 columns]"
      ]
     },
     "execution_count": 8,
     "metadata": {},
     "output_type": "execute_result"
    }
   ],
   "source": [
    "# sample code\n",
    "\n",
    "daily_risk_free_rate = 0.0001\n",
    "\n",
    "# create the percent returns and delete blank first row\n",
    "pct_returns1 = stocks_price1.pct_change().dropna()\n",
    "\n",
    "# find the average daily return values for the instruments\n",
    "avg_daily_ret = pct_returns1.mean()\n",
    "\n",
    "# create a new dataframe and add required columns to compute Sharpe ratio\n",
    "stocks_df_RAR = pd.DataFrame(pct_returns1)\n",
    "\n",
    "# add the risk free rate column in the df\n",
    "stocks_df_RAR['RiskFree_Rate'] = daily_risk_free_rate\n",
    "\n",
    "# compute the average risk free rate value\n",
    "avg_rf_ret = stocks_df_RAR['RiskFree_Rate'].mean()\n",
    "\n",
    "# add the excess return columns for each ETF\n",
    "stocks_df_RAR['Excess_ret_SPY'] = stocks_df_RAR[\"SPY\"] - stocks_df_RAR['RiskFree_Rate']\n",
    "stocks_df_RAR['Excess_ret_TLT'] = stocks_df_RAR[\"TLT\"] - stocks_df_RAR['RiskFree_Rate']\n",
    "stocks_df_RAR['Excess_ret_EFA'] = stocks_df_RAR[\"EFA\"] - stocks_df_RAR['RiskFree_Rate']\n",
    "\n",
    "# the constructed df for RAR calculations\n",
    "stocks_df_RAR"
   ]
  },
  {
   "cell_type": "code",
   "execution_count": 9,
   "metadata": {},
   "outputs": [
    {
     "name": "stdout",
     "output_type": "stream",
     "text": [
      "Annualised Sharpe Ratio SPY = 1.816\n"
     ]
    }
   ],
   "source": [
    "# sample code\n",
    "\n",
    "# calculate sharpe ratio for SPY\n",
    "sharpe_SPY = (avg_daily_ret['SPY'] - avg_rf_ret)/stocks_df_RAR['Excess_ret_SPY'].std()\n",
    "ann_sharpe_SPY = sharpe_SPY * np.sqrt(252)\n",
    "print(f'Annualised Sharpe Ratio SPY = {ann_sharpe_SPY:.3f}')\n"
   ]
  },
  {
   "cell_type": "code",
   "execution_count": 10,
   "metadata": {},
   "outputs": [
    {
     "name": "stdout",
     "output_type": "stream",
     "text": [
      "Annualised Sharpe Ratio TLT = -0.452\n",
      "Annualised Sharpe Ratio EFA = 0.714\n"
     ]
    }
   ],
   "source": [
    "# your code here\n",
    "\n",
    "# calculate sharpe ratio for TLT\n",
    "sharpe_TLT = (avg_daily_ret['TLT'] - avg_rf_ret)/stocks_df_RAR['Excess_ret_TLT'].std()\n",
    "ann_sharpe_TLT = sharpe_TLT * np.sqrt(252)\n",
    "print(f'Annualised Sharpe Ratio TLT = {ann_sharpe_TLT:.3f}')\n",
    "\n",
    "# calculate sharpe ratio for EFA\n",
    "sharpe_EFA = (avg_daily_ret['EFA'] - avg_rf_ret)/stocks_df_RAR['Excess_ret_EFA'].std()\n",
    "ann_sharpe_EFA = sharpe_EFA * np.sqrt(252)\n",
    "print(f'Annualised Sharpe Ratio EFA = {ann_sharpe_EFA:.3f}')"
   ]
  },
  {
   "cell_type": "markdown",
   "metadata": {},
   "source": [
    "## 3. Calculate beta\n",
    "\n",
    "Beta is a measure of the volatility of an individual asset in comparison to the volatility of the entire market as measured by a benchmark.<BR>\n",
    "We will use the covariance to calculate.\n",
    "  \n",
    "**Exercise Q3: Calculate the 1 year beta for Apple stocks with the SPY market benchmark.**\n",
    "\n",
    "- Does AAPL have higher or lower risk sensitivity compared to the S&P 500 index (SPY)?"
   ]
  },
  {
   "cell_type": "code",
   "execution_count": 11,
   "metadata": {},
   "outputs": [
    {
     "name": "stdout",
     "output_type": "stream",
     "text": [
      "[*********************100%%**********************]  2 of 2 completed\n"
     ]
    },
    {
     "data": {
      "text/html": [
       "<div>\n",
       "<style scoped>\n",
       "    .dataframe tbody tr th:only-of-type {\n",
       "        vertical-align: middle;\n",
       "    }\n",
       "\n",
       "    .dataframe tbody tr th {\n",
       "        vertical-align: top;\n",
       "    }\n",
       "\n",
       "    .dataframe thead th {\n",
       "        text-align: right;\n",
       "    }\n",
       "</style>\n",
       "<table border=\"1\" class=\"dataframe\">\n",
       "  <thead>\n",
       "    <tr style=\"text-align: right;\">\n",
       "      <th></th>\n",
       "      <th>AAPL</th>\n",
       "      <th>SPY</th>\n",
       "    </tr>\n",
       "    <tr>\n",
       "      <th>Date</th>\n",
       "      <th></th>\n",
       "      <th></th>\n",
       "    </tr>\n",
       "  </thead>\n",
       "  <tbody>\n",
       "    <tr>\n",
       "      <th>2021-01-04</th>\n",
       "      <td>-0.024719</td>\n",
       "      <td>-0.013614</td>\n",
       "    </tr>\n",
       "    <tr>\n",
       "      <th>2021-01-05</th>\n",
       "      <td>0.012363</td>\n",
       "      <td>0.006887</td>\n",
       "    </tr>\n",
       "    <tr>\n",
       "      <th>2021-01-06</th>\n",
       "      <td>-0.033661</td>\n",
       "      <td>0.005979</td>\n",
       "    </tr>\n",
       "    <tr>\n",
       "      <th>2021-01-07</th>\n",
       "      <td>0.034123</td>\n",
       "      <td>0.014857</td>\n",
       "    </tr>\n",
       "    <tr>\n",
       "      <th>2021-01-08</th>\n",
       "      <td>0.008631</td>\n",
       "      <td>0.005698</td>\n",
       "    </tr>\n",
       "    <tr>\n",
       "      <th>...</th>\n",
       "      <td>...</td>\n",
       "      <td>...</td>\n",
       "    </tr>\n",
       "    <tr>\n",
       "      <th>2021-12-27</th>\n",
       "      <td>0.022975</td>\n",
       "      <td>0.014152</td>\n",
       "    </tr>\n",
       "    <tr>\n",
       "      <th>2021-12-28</th>\n",
       "      <td>-0.005767</td>\n",
       "      <td>-0.000817</td>\n",
       "    </tr>\n",
       "    <tr>\n",
       "      <th>2021-12-29</th>\n",
       "      <td>0.000502</td>\n",
       "      <td>0.001279</td>\n",
       "    </tr>\n",
       "    <tr>\n",
       "      <th>2021-12-30</th>\n",
       "      <td>-0.006578</td>\n",
       "      <td>-0.002764</td>\n",
       "    </tr>\n",
       "    <tr>\n",
       "      <th>2021-12-31</th>\n",
       "      <td>-0.003535</td>\n",
       "      <td>-0.002520</td>\n",
       "    </tr>\n",
       "  </tbody>\n",
       "</table>\n",
       "<p>252 rows × 2 columns</p>\n",
       "</div>"
      ],
      "text/plain": [
       "                AAPL       SPY\n",
       "Date                          \n",
       "2021-01-04 -0.024719 -0.013614\n",
       "2021-01-05  0.012363  0.006887\n",
       "2021-01-06 -0.033661  0.005979\n",
       "2021-01-07  0.034123  0.014857\n",
       "2021-01-08  0.008631  0.005698\n",
       "...              ...       ...\n",
       "2021-12-27  0.022975  0.014152\n",
       "2021-12-28 -0.005767 -0.000817\n",
       "2021-12-29  0.000502  0.001279\n",
       "2021-12-30 -0.006578 -0.002764\n",
       "2021-12-31 -0.003535 -0.002520\n",
       "\n",
       "[252 rows x 2 columns]"
      ]
     },
     "execution_count": 11,
     "metadata": {},
     "output_type": "execute_result"
    }
   ],
   "source": [
    "# sample code\n",
    "# convert the price series to percent returns and drop null values before computing beta\n",
    "\n",
    "tickers = ['AAPL','SPY']\n",
    "\n",
    "start_date = '2020-12-31'\n",
    "end_date = '2022-01-01'\n",
    "\n",
    "data3 = yf.download(tickers, start= start_date, end= end_date)\n",
    "stocks_price2 = data3['Adj Close']\n",
    "\n",
    "stocks_price2_returns = stocks_price2.pct_change().dropna()\n",
    "stocks_price2_returns"
   ]
  },
  {
   "cell_type": "code",
   "execution_count": 12,
   "metadata": {},
   "outputs": [
    {
     "data": {
      "text/html": [
       "<div>\n",
       "<style scoped>\n",
       "    .dataframe tbody tr th:only-of-type {\n",
       "        vertical-align: middle;\n",
       "    }\n",
       "\n",
       "    .dataframe tbody tr th {\n",
       "        vertical-align: top;\n",
       "    }\n",
       "\n",
       "    .dataframe thead th {\n",
       "        text-align: right;\n",
       "    }\n",
       "</style>\n",
       "<table border=\"1\" class=\"dataframe\">\n",
       "  <thead>\n",
       "    <tr style=\"text-align: right;\">\n",
       "      <th></th>\n",
       "      <th>AAPL</th>\n",
       "      <th>SPY</th>\n",
       "    </tr>\n",
       "  </thead>\n",
       "  <tbody>\n",
       "    <tr>\n",
       "      <th>AAPL</th>\n",
       "      <td>0.000250</td>\n",
       "      <td>0.000089</td>\n",
       "    </tr>\n",
       "    <tr>\n",
       "      <th>SPY</th>\n",
       "      <td>0.000089</td>\n",
       "      <td>0.000067</td>\n",
       "    </tr>\n",
       "  </tbody>\n",
       "</table>\n",
       "</div>"
      ],
      "text/plain": [
       "          AAPL       SPY\n",
       "AAPL  0.000250  0.000089\n",
       "SPY   0.000089  0.000067"
      ]
     },
     "execution_count": 12,
     "metadata": {},
     "output_type": "execute_result"
    }
   ],
   "source": [
    "# sample code\n",
    "# find the covariance, the default for Pandas cov() is sample formula\n",
    "stocks_price2_returns.cov()"
   ]
  },
  {
   "cell_type": "markdown",
   "metadata": {},
   "source": [
    "Calculate beta using the formula covar(APPL,SPY)/var(SPY)\n",
    "\n",
    "*Hint: use .loc to extract the APPL-SPY covariance value for the calculation*"
   ]
  },
  {
   "cell_type": "code",
   "execution_count": 13,
   "metadata": {
    "nteract": {
     "transient": {
      "deleting": false
     }
    }
   },
   "outputs": [
    {
     "data": {
      "text/plain": [
       "1.325"
      ]
     },
     "execution_count": 13,
     "metadata": {},
     "output_type": "execute_result"
    }
   ],
   "source": [
    "# your code here\n",
    "aapl_spy_covar = stocks_price2_returns.cov().loc['AAPL','SPY']\n",
    "benchmark_variance = stocks_price2_returns.cov().loc['SPY','SPY']\n",
    "beta = aapl_spy_covar/benchmark_variance\n",
    "beta.round(3)"
   ]
  },
  {
   "cell_type": "markdown",
   "metadata": {
    "nteract": {
     "transient": {
      "deleting": false
     }
    }
   },
   "source": [
    "- Answer here"
   ]
  },
  {
   "cell_type": "markdown",
   "metadata": {},
   "source": [
    "## DIY\n"
   ]
  },
  {
   "cell_type": "markdown",
   "metadata": {},
   "source": [
    "### 4. Portfolio construction analysis\n",
    "You will construct portfolios containing five stocks, selected from the 15 highest weighted S&P 500 stocks.<BR>\n",
    "Use 5 years worth of data for your analysis - from 1 Jan 2017 through 31 Dec 2021.<BR>\n",
    "S&P 500 component stocks listed at: https://www.slickcharts.com/sp500"
   ]
  },
  {
   "cell_type": "markdown",
   "metadata": {},
   "source": [
    "**DIY Q1: Which five stocks would you use to create a “low volatility” portfolio?**\n",
    "\n",
    "*Hint: For simplicity, only consider the stocks' volatilities. You can ignore their correlations.*<BR>\n",
    "*Hint: use .sort_values()*<BR>\n",
    "*Hint: the ticker symbol for Berkshire Hathaway Inc. is \"BRK-B\"*"
   ]
  },
  {
   "cell_type": "code",
   "execution_count": 119,
   "metadata": {
    "execution": {
     "iopub.execute_input": "2024-09-12T06:34:00.896Z",
     "iopub.status.busy": "2024-09-12T06:34:00.885Z",
     "iopub.status.idle": "2024-09-12T06:34:00.915Z",
     "shell.execute_reply": "2024-09-12T06:34:01.147Z"
    },
    "jupyter": {
     "outputs_hidden": true,
     "source_hidden": false
    },
    "nteract": {
     "transient": {
      "deleting": false
     }
    }
   },
   "outputs": [
    {
     "name": "stdout",
     "output_type": "stream",
     "text": [
      "[*********************100%%**********************]  15 of 15 completed\n"
     ]
    },
    {
     "data": {
      "text/plain": [
       "BRK-B    0.215351\n",
       "V        0.266078\n",
       "GOOG     0.270058\n",
       "GOOGL    0.270831\n",
       "MSFT     0.275065\n",
       "dtype: float64"
      ]
     },
     "execution_count": 119,
     "metadata": {},
     "output_type": "execute_result"
    }
   ],
   "source": [
    "# your code here\n",
    "tickers = ['AAPL','NVDA','MSFT','AMZN','META','GOOGL','AVGO','TSLA','GOOG','BRK-B','JPM','LLY','V','UNH','XOM']\n",
    "start_date = '2017-01-01'\n",
    "end_date = '2022-01-01' \n",
    "\n",
    "data = yf.download(tickers, start= start_date, end= end_date)\n",
    "\n",
    "stock_price = data[['Adj Close']]['Adj Close']\n",
    "\n",
    "hv_5y = np.log(stock_price / stock_price.shift(1)).std()\n",
    "ann_5y_hv = hv_5y * np.sqrt(252)\n",
    "ann_5y_hv = ann_5y_hv.sort_values()\n",
    "ann_5y_hv[:5]\n"
   ]
  },
  {
   "cell_type": "markdown",
   "metadata": {
    "nteract": {
     "transient": {
      "deleting": false
     }
    }
   },
   "source": [
    "Answer: <b>I would use MSFT, GOOGL, GOOG, V, and BRK.B. </b>"
   ]
  },
  {
   "cell_type": "markdown",
   "metadata": {},
   "source": [
    "**DIY Q2: Which five stocks would you use to create a “best RAR” portfolio?**\n",
    "\n",
    "Assume a daily risk-free rate of 0.0001."
   ]
  },
  {
   "cell_type": "code",
   "execution_count": 112,
   "metadata": {
    "execution": {
     "iopub.execute_input": "2024-09-12T06:34:01.555Z",
     "iopub.status.busy": "2024-09-12T06:34:01.545Z",
     "iopub.status.idle": "2024-09-12T06:34:01.573Z",
     "shell.execute_reply": "2024-09-12T06:34:01.627Z"
    },
    "jupyter": {
     "outputs_hidden": true,
     "source_hidden": false
    },
    "nteract": {
     "transient": {
      "deleting": false
     }
    }
   },
   "outputs": [
    {
     "name": "stdout",
     "output_type": "stream",
     "text": [
      "MSFT    1.325050\n",
      "TSLA    1.319277\n",
      "AAPL    1.301532\n",
      "NVDA    1.230854\n",
      "AMZN    1.073643\n",
      "dtype: float64\n"
     ]
    }
   ],
   "source": [
    "# your code here\n",
    "def prepare_df(tickers, df):    \n",
    "    for ticker in tickers:\n",
    "        df['Excess_ret_'+ticker] = df[ticker] - df['risk_free_rate']\n",
    " \n",
    "def get_top_5_sharpe(tickers, df, avg_daily_ret, avg_rf_ret):\n",
    "    dictionary = {}\n",
    "    for ticker in tickers:\n",
    "        sharpe = (avg_daily_ret[ticker] - avg_rf_ret)/df['Excess_ret_'+ticker].std()\n",
    "        ann_sharpe = sharpe * np.sqrt(252)\n",
    "        dictionary[ticker] = ann_sharpe    \n",
    "    return pd.Series(dictionary).sort_values(ascending=False)[0:5]\n",
    "\n",
    "daily_risk_free_rate = 0.0001\n",
    "pct_returns = stock_price.pct_change().dropna()\n",
    "avg_daily_ret = pct_returns.mean()\n",
    "stocks_df_RAR = pd.DataFrame(pct_returns)\n",
    "stocks_df_RAR['risk_free_rate'] = daily_risk_free_rate\n",
    "avg_rf_ret = stocks_df_RAR['risk_free_rate'].mean()\n",
    "\n",
    "prepare_df(tickers, stocks_df_RAR)\n",
    "print(get_top_5_sharpe(tickers, stocks_df_RAR, avg_daily_ret, avg_rf_ret))\n",
    "\n"
   ]
  },
  {
   "cell_type": "markdown",
   "metadata": {
    "nteract": {
     "transient": {
      "deleting": false
     }
    }
   },
   "source": [
    "Answer: <b> I would use MSFT, TSLA, AAPL, NVDA and AMZN. </b>"
   ]
  },
  {
   "cell_type": "markdown",
   "metadata": {},
   "source": [
    "**DIY Q3: Which five stocks would you use to create a “low market risk sensitivity” portfolio?**\n",
    "\n",
    "*Hint: make sure SPY is one of your five stocks.*"
   ]
  },
  {
   "cell_type": "code",
   "execution_count": 113,
   "metadata": {
    "execution": {
     "iopub.execute_input": "2023-09-07T10:25:32.290Z",
     "iopub.status.busy": "2023-09-07T10:25:32.276Z",
     "iopub.status.idle": "2023-09-07T10:25:32.314Z",
     "shell.execute_reply": "2023-09-07T10:25:32.431Z"
    },
    "jupyter": {
     "outputs_hidden": true,
     "source_hidden": false
    },
    "nteract": {
     "transient": {
      "deleting": false
     }
    }
   },
   "outputs": [
    {
     "name": "stdout",
     "output_type": "stream",
     "text": [
      "[*********************100%%**********************]  16 of 16 completed\n",
      "LLY      0.723\n",
      "BRK-B    0.935\n",
      "AMZN     0.953\n",
      "UNH      1.039\n",
      "XOM      1.046\n",
      "dtype: float64\n"
     ]
    }
   ],
   "source": [
    "# your code here\n",
    "def get_5_lowest_risk(tickers, pct_returns, benchmark_variance):\n",
    "    dictionary = {}\n",
    "    for ticker in tickers:\n",
    "        if ticker != 'SPY':\n",
    "            spy_covar = pct_returns.cov().loc[ticker,'SPY']\n",
    "            beta = spy_covar/benchmark_variance\n",
    "            dictionary[ticker] = beta.round(3)\n",
    "    return pd.Series(dictionary).sort_values()[:5]\n",
    "\n",
    "tickers = ['AAPL','NVDA','MSFT','AMZN','META','GOOGL','AVGO','TSLA','GOOG','BRK-B','JPM','LLY','V','UNH','XOM','SPY']\n",
    "start_date = '2017-01-01'\n",
    "end_date = '2022-01-01' \n",
    "\n",
    "data = yf.download(tickers, start= start_date, end= end_date)\n",
    "\n",
    "stock_price = data[['Adj Close']]['Adj Close']\n",
    "pct_returns = stock_price.pct_change().dropna()\n",
    "benchmark_variance = pct_returns.cov().loc['SPY','SPY']\n",
    "print(get_5_lowest_risk(tickers, pct_returns, benchmark_variance))"
   ]
  },
  {
   "cell_type": "markdown",
   "metadata": {
    "nteract": {
     "transient": {
      "deleting": false
     }
    }
   },
   "source": [
    "Answer: <b> I would use LLY, BRK.B, AMZN, UNH and XOM. </b>"
   ]
  },
  {
   "cell_type": "markdown",
   "metadata": {},
   "source": [
    "**DYI Q4:**\n",
    "\n",
    "It is troublesome to have to try to determine the last business day of the previous year by trial and error. <BR>\n",
    "There should a way to determine that date using Python functions. Let's use GenAI to help us to learn how.\n",
    "\n",
    "Use Generative AI to help you write the Python code to return the string of the last weekday for a given year. <BR>\n",
    "The results of the code for different years should be:<BR>\n",
    "2022 = '2022-12-30'<BR>\n",
    "2023 = '2023-12-29'<BR>\n",
    "2024 = '2024-12-31'"
   ]
  },
  {
   "cell_type": "code",
   "execution_count": null,
   "metadata": {},
   "outputs": [],
   "source": [
    "# your successful GenAI prompts here:\n",
    "\n",
    "# I need you to create a simple utility function, get_last_weekday(year) for me. This function takes in a year, and returns the last weekday of the year. \n",
    "\n",
    "# The output should be as follows: \n",
    "# 2022 = '2022-12-30'\n",
    "# 2023 = '2023-12-29'\n",
    "# 2024 = '2024-12-31'"
   ]
  },
  {
   "cell_type": "code",
   "execution_count": 116,
   "metadata": {},
   "outputs": [
    {
     "name": "stdout",
     "output_type": "stream",
     "text": [
      "2022-12-30\n",
      "2023-12-29\n",
      "2024-12-31\n"
     ]
    }
   ],
   "source": [
    "# your code here\n",
    "\n",
    "def get_last_weekday(year):\n",
    "    last_day = pd.date_range(start=f'{year}-12-01', end=f'{year}-12-31', freq='B')[-1]\n",
    "    return last_day.strftime('%Y-%m-%d')\n",
    "\n",
    "print(get_last_weekday(2022))\n",
    "print(get_last_weekday(2023))\n",
    "print(get_last_weekday(2024))\n"
   ]
  },
  {
   "cell_type": "code",
   "execution_count": null,
   "metadata": {},
   "outputs": [],
   "source": []
  }
 ],
 "metadata": {
  "kernelspec": {
   "display_name": "Python 3 (ipykernel)",
   "language": "python",
   "name": "python3"
  },
  "language_info": {
   "codemirror_mode": {
    "name": "ipython",
    "version": 3
   },
   "file_extension": ".py",
   "mimetype": "text/x-python",
   "name": "python",
   "nbconvert_exporter": "python",
   "pygments_lexer": "ipython3",
   "version": "3.9.12"
  },
  "nteract": {
   "version": "0.28.0"
  }
 },
 "nbformat": 4,
 "nbformat_minor": 4
}
